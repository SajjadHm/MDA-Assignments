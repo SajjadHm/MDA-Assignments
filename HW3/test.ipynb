{
 "cells": [
  {
   "cell_type": "code",
   "execution_count": 1,
   "metadata": {},
   "outputs": [],
   "source": [
    "from pyspark import SparkContext, SparkConf \n",
    "from pyspark.sql import SparkSession\n",
    "\n",
    "spark = SparkSession \\\n",
    "    .builder \\\n",
    "    .appName(\"Fava_Project\") \\\n",
    "    .master(\"local[*]\") \\\n",
    "    .getOrCreate()\n",
    "sc=spark.sparkContext"
   ]
  },
  {
   "cell_type": "code",
   "execution_count": 2,
   "metadata": {},
   "outputs": [
    {
     "name": "stdout",
     "output_type": "stream",
     "text": [
      "+-----------+---------+---------------+-------------+----------------+----------+-------------------+\n",
      "|DEVICE_CODE|SYSTEM_ID|ORIGINE_CAR_KEY|FINAL_CAR_KEY|CHECK_STATUS_KEY|COMPANY_ID|      PASS_DAY_TIME|\n",
      "+-----------+---------+---------------+-------------+----------------+----------+-------------------+\n",
      "|   22010047|      284|       63455590|     63455590|               6|       161|2021-12-22 00:59:30|\n",
      "+-----------+---------+---------------+-------------+----------------+----------+-------------------+\n",
      "only showing top 1 row\n",
      "\n"
     ]
    }
   ],
   "source": [
    "df=spark.read.csv('Dey1400Edited.csv',header=True)\n",
    "df.show(1)"
   ]
  },
  {
   "cell_type": "code",
   "execution_count": 4,
   "metadata": {},
   "outputs": [
    {
     "data": {
      "text/plain": [
       "[Row(to_date(PASS_DAY_TIME)=datetime.date(2022, 1, 9)),\n",
       " Row(to_date(PASS_DAY_TIME)=datetime.date(2022, 1, 15)),\n",
       " Row(to_date(PASS_DAY_TIME)=datetime.date(2022, 1, 18)),\n",
       " Row(to_date(PASS_DAY_TIME)=datetime.date(2021, 12, 27)),\n",
       " Row(to_date(PASS_DAY_TIME)=datetime.date(2022, 1, 10)),\n",
       " Row(to_date(PASS_DAY_TIME)=datetime.date(2022, 1, 8)),\n",
       " Row(to_date(PASS_DAY_TIME)=datetime.date(2022, 1, 16)),\n",
       " Row(to_date(PASS_DAY_TIME)=datetime.date(2022, 1, 13)),\n",
       " Row(to_date(PASS_DAY_TIME)=datetime.date(2021, 12, 22)),\n",
       " Row(to_date(PASS_DAY_TIME)=datetime.date(2021, 12, 28)),\n",
       " Row(to_date(PASS_DAY_TIME)=datetime.date(2021, 12, 26)),\n",
       " Row(to_date(PASS_DAY_TIME)=datetime.date(2022, 1, 6)),\n",
       " Row(to_date(PASS_DAY_TIME)=datetime.date(2021, 12, 29)),\n",
       " Row(to_date(PASS_DAY_TIME)=datetime.date(2021, 12, 30)),\n",
       " Row(to_date(PASS_DAY_TIME)=datetime.date(2022, 1, 3)),\n",
       " Row(to_date(PASS_DAY_TIME)=datetime.date(2021, 12, 25)),\n",
       " Row(to_date(PASS_DAY_TIME)=datetime.date(2022, 1, 7)),\n",
       " Row(to_date(PASS_DAY_TIME)=datetime.date(2022, 1, 4)),\n",
       " Row(to_date(PASS_DAY_TIME)=datetime.date(2022, 1, 17)),\n",
       " Row(to_date(PASS_DAY_TIME)=datetime.date(2022, 1, 20)),\n",
       " Row(to_date(PASS_DAY_TIME)=datetime.date(2021, 12, 24)),\n",
       " Row(to_date(PASS_DAY_TIME)=datetime.date(2021, 12, 23)),\n",
       " Row(to_date(PASS_DAY_TIME)=datetime.date(2022, 1, 5)),\n",
       " Row(to_date(PASS_DAY_TIME)=datetime.date(2022, 1, 14)),\n",
       " Row(to_date(PASS_DAY_TIME)=datetime.date(2022, 1, 19)),\n",
       " Row(to_date(PASS_DAY_TIME)=datetime.date(2022, 1, 12)),\n",
       " Row(to_date(PASS_DAY_TIME)=datetime.date(2022, 1, 1)),\n",
       " Row(to_date(PASS_DAY_TIME)=datetime.date(2021, 12, 31)),\n",
       " Row(to_date(PASS_DAY_TIME)=datetime.date(2022, 1, 11)),\n",
       " Row(to_date(PASS_DAY_TIME)=datetime.date(2022, 1, 2))]"
      ]
     },
     "execution_count": 4,
     "metadata": {},
     "output_type": "execute_result"
    }
   ],
   "source": [
    "import pandas as pd\n",
    "from pyspark.sql.functions import col,current_timestamp,to_date,hour,dayofweek\n",
    "from datetime import datetime\n",
    "\n",
    "df.select(to_date(col('PASS_DAY_TIME'))).distinct().collect()"
   ]
  },
  {
   "cell_type": "code",
   "execution_count": 9,
   "metadata": {},
   "outputs": [],
   "source": [
    "start_date=datetime(2022,1,8).date()\n",
    "stop_date=datetime(2022,1,14).date()\n",
    "df2=df.filter(to_date(col('PASS_DAY_TIME'))>=start_date)\n",
    "df2=df2.filter(to_date(col('PASS_DAY_TIME'))<=stop_date)\n",
    "df3=df.filter(to_date(col('PASS_DAY_TIME'))==start_date)"
   ]
  },
  {
   "cell_type": "code",
   "execution_count": 10,
   "metadata": {},
   "outputs": [
    {
     "data": {
      "text/plain": [
       "4597076"
      ]
     },
     "execution_count": 10,
     "metadata": {},
     "output_type": "execute_result"
    }
   ],
   "source": [
    "df3.count()"
   ]
  },
  {
   "cell_type": "code",
   "execution_count": 11,
   "metadata": {},
   "outputs": [],
   "source": [
    "df3.repartition(1).write.csv('SampleData.csv',header=True)"
   ]
  },
  {
   "cell_type": "code",
   "execution_count": 13,
   "metadata": {},
   "outputs": [
    {
     "name": "stdout",
     "output_type": "stream",
     "text": [
      "+-----------+---------+---------------+-------------+----------------+----------+-------------------+\n",
      "|DEVICE_CODE|SYSTEM_ID|ORIGINE_CAR_KEY|FINAL_CAR_KEY|CHECK_STATUS_KEY|COMPANY_ID|      PASS_DAY_TIME|\n",
      "+-----------+---------+---------------+-------------+----------------+----------+-------------------+\n",
      "|  100700853|      283|        9016704|      9016704|               5|       264|2022-01-08 00:00:39|\n",
      "+-----------+---------+---------------+-------------+----------------+----------+-------------------+\n",
      "only showing top 1 row\n",
      "\n"
     ]
    }
   ],
   "source": [
    "df=spark.read.csv('SampleData.csv',header=True)\n",
    "df.show(1)"
   ]
  }
 ],
 "metadata": {
  "kernelspec": {
   "display_name": "Python 3",
   "language": "python",
   "name": "python3"
  },
  "language_info": {
   "codemirror_mode": {
    "name": "ipython",
    "version": 3
   },
   "file_extension": ".py",
   "mimetype": "text/x-python",
   "name": "python",
   "nbconvert_exporter": "python",
   "pygments_lexer": "ipython3",
   "version": "3.6.9"
  },
  "orig_nbformat": 4,
  "vscode": {
   "interpreter": {
    "hash": "31f2aee4e71d21fbe5cf8b01ff0e069b9275f58929596ceb00d14d90e3e16cd6"
   }
  }
 },
 "nbformat": 4,
 "nbformat_minor": 2
}
