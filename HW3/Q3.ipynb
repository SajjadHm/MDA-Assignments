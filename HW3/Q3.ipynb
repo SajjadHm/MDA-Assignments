{
  "nbformat": 4,
  "nbformat_minor": 0,
  "metadata": {
    "colab": {
      "provenance": []
    },
    "kernelspec": {
      "name": "python3",
      "display_name": "Python 3"
    },
    "language_info": {
      "name": "python"
    }
  },
  "cells": [
    {
      "cell_type": "markdown",
      "source": [
        "## **Q3**"
      ],
      "metadata": {
        "id": "RMie7Cx2sbFB"
      }
    },
    {
      "cell_type": "code",
      "source": [
        "from google.colab import drive\n",
        "drive.mount('/content/drive')"
      ],
      "metadata": {
        "colab": {
          "base_uri": "https://localhost:8080/"
        },
        "id": "0EWaCP8s54Z2",
        "outputId": "8cd9090a-1b73-432a-a0a3-be220e587728"
      },
      "execution_count": null,
      "outputs": [
        {
          "output_type": "stream",
          "name": "stdout",
          "text": [
            "Mounted at /content/drive\n"
          ]
        }
      ]
    },
    {
      "cell_type": "markdown",
      "source": [
        "Part A(Sample)"
      ],
      "metadata": {
        "id": "22xE2SaOsie-"
      }
    },
    {
      "cell_type": "code",
      "execution_count": null,
      "metadata": {
        "colab": {
          "base_uri": "https://localhost:8080/"
        },
        "id": "hGOkflZKKsOz",
        "outputId": "b777f2c6-a052-4ade-cba3-e4fdd5c58787"
      },
      "outputs": [
        {
          "output_type": "stream",
          "name": "stdout",
          "text": [
            "Looking in indexes: https://pypi.org/simple, https://us-python.pkg.dev/colab-wheels/public/simple/\n",
            "Collecting pyspark\n",
            "  Downloading pyspark-3.3.1.tar.gz (281.4 MB)\n",
            "\u001b[2K     \u001b[90m━━━━━━━━━━━━━━━━━━━━━━━━━━━━━━━━━━━━━━━\u001b[0m \u001b[32m281.4/281.4 MB\u001b[0m \u001b[31m4.6 MB/s\u001b[0m eta \u001b[36m0:00:00\u001b[0m\n",
            "\u001b[?25h  Preparing metadata (setup.py) ... \u001b[?25l\u001b[?25hdone\n",
            "Collecting py4j==0.10.9.5\n",
            "  Downloading py4j-0.10.9.5-py2.py3-none-any.whl (199 kB)\n",
            "\u001b[2K     \u001b[90m━━━━━━━━━━━━━━━━━━━━━━━━━━━━━━━━━━━━━━\u001b[0m \u001b[32m199.7/199.7 KB\u001b[0m \u001b[31m19.0 MB/s\u001b[0m eta \u001b[36m0:00:00\u001b[0m\n",
            "\u001b[?25hBuilding wheels for collected packages: pyspark\n",
            "  Building wheel for pyspark (setup.py) ... \u001b[?25l\u001b[?25hdone\n",
            "  Created wheel for pyspark: filename=pyspark-3.3.1-py2.py3-none-any.whl size=281845512 sha256=26f9a34d9a61a0c1482b348a3e33af5fce50eceea9113fd95eb9c09e15edcfd4\n",
            "  Stored in directory: /root/.cache/pip/wheels/43/dc/11/ec201cd671da62fa9c5cc77078235e40722170ceba231d7598\n",
            "Successfully built pyspark\n",
            "Installing collected packages: py4j, pyspark\n",
            "Successfully installed py4j-0.10.9.5 pyspark-3.3.1\n"
          ]
        }
      ],
      "source": [
        "! pip install pyspark"
      ]
    },
    {
      "cell_type": "code",
      "source": [
        "import pandas as pd\n",
        "from pyspark.sql.functions import col,current_timestamp,to_date,hour,dayofweek\n",
        "from datetime import datetime\n"
      ],
      "metadata": {
        "id": "pMJ9YKrFQ4qC"
      },
      "execution_count": null,
      "outputs": []
    },
    {
      "cell_type": "code",
      "source": [
        "from pyspark import SparkContext, SparkConf \n",
        "from pyspark.sql import SparkSession\n",
        "\n",
        "spark = SparkSession \\\n",
        "    .builder \\\n",
        "    .appName(\"Fava_Project\") \\\n",
        "    .master(\"local[*]\") \\\n",
        "    .getOrCreate()\n",
        "sc=spark.sparkContext"
      ],
      "metadata": {
        "id": "y3xiEl4QKwI7"
      },
      "execution_count": null,
      "outputs": []
    },
    {
      "cell_type": "code",
      "source": [
        "df=spark.read.csv('/content/drive/MyDrive/SampleData.csv',header=True)\n",
        "df.show(5)"
      ],
      "metadata": {
        "colab": {
          "base_uri": "https://localhost:8080/"
        },
        "id": "TLqUeF5RMR-N",
        "outputId": "5ad33682-cec8-4669-9476-a4a5a958b6e1"
      },
      "execution_count": null,
      "outputs": [
        {
          "output_type": "stream",
          "name": "stdout",
          "text": [
            "+-----------+---------+---------------+-------------+----------------+----------+-------------------+\n",
            "|DEVICE_CODE|SYSTEM_ID|ORIGINE_CAR_KEY|FINAL_CAR_KEY|CHECK_STATUS_KEY|COMPANY_ID|      PASS_DAY_TIME|\n",
            "+-----------+---------+---------------+-------------+----------------+----------+-------------------+\n",
            "|  100700853|      283|        9016704|      9016704|               5|       264|2022-01-08 00:00:39|\n",
            "|     230204|       81|        9017538|      9017538|               5|       161|2022-01-08 00:38:48|\n",
            "|     631357|       81|        9017538|      9017538|               5|       161|2022-01-08 00:13:50|\n",
            "|     900164|      283|        9035020|      9035020|               5|       264|2022-01-08 00:27:38|\n",
            "|     900149|      283|        9020900|      9020900|               5|       264|2022-01-08 00:40:08|\n",
            "+-----------+---------+---------------+-------------+----------------+----------+-------------------+\n",
            "only showing top 5 rows\n",
            "\n"
          ]
        }
      ]
    },
    {
      "cell_type": "code",
      "source": [
        "df=df.withColumn(\"date\",to_date(\"PASS_DAY_TIME\"))\n",
        "df.show(5)"
      ],
      "metadata": {
        "colab": {
          "base_uri": "https://localhost:8080/"
        },
        "id": "NQqum9scRE5a",
        "outputId": "5c5e4831-bf4f-4776-bbb7-3e3f42efce16"
      },
      "execution_count": null,
      "outputs": [
        {
          "output_type": "stream",
          "name": "stdout",
          "text": [
            "+-----------+---------+---------------+-------------+----------------+----------+-------------------+----------+\n",
            "|DEVICE_CODE|SYSTEM_ID|ORIGINE_CAR_KEY|FINAL_CAR_KEY|CHECK_STATUS_KEY|COMPANY_ID|      PASS_DAY_TIME|      date|\n",
            "+-----------+---------+---------------+-------------+----------------+----------+-------------------+----------+\n",
            "|  100700853|      283|        9016704|      9016704|               5|       264|2022-01-08 00:00:39|2022-01-08|\n",
            "|     230204|       81|        9017538|      9017538|               5|       161|2022-01-08 00:38:48|2022-01-08|\n",
            "|     631357|       81|        9017538|      9017538|               5|       161|2022-01-08 00:13:50|2022-01-08|\n",
            "|     900164|      283|        9035020|      9035020|               5|       264|2022-01-08 00:27:38|2022-01-08|\n",
            "|     900149|      283|        9020900|      9020900|               5|       264|2022-01-08 00:40:08|2022-01-08|\n",
            "+-----------+---------+---------------+-------------+----------------+----------+-------------------+----------+\n",
            "only showing top 5 rows\n",
            "\n"
          ]
        }
      ]
    },
    {
      "cell_type": "code",
      "source": [
        "df_rdd=df.rdd.map(lambda x: ((x[3],str(x[7])),x[0]))  # (key=(plate,date),value=DEVICE_CODE)"
      ],
      "metadata": {
        "id": "09ldoTz9c6P8"
      },
      "execution_count": null,
      "outputs": []
    },
    {
      "cell_type": "code",
      "source": [
        "df_rdd.take(5)"
      ],
      "metadata": {
        "colab": {
          "base_uri": "https://localhost:8080/"
        },
        "id": "lRbNK5RKjmIU",
        "outputId": "594c06bc-cb82-46e5-ed7f-6e7342c14fb2"
      },
      "execution_count": null,
      "outputs": [
        {
          "output_type": "execute_result",
          "data": {
            "text/plain": [
              "[(('9016704', '2022-01-08'), '100700853'),\n",
              " (('9017538', '2022-01-08'), '230204'),\n",
              " (('9017538', '2022-01-08'), '631357'),\n",
              " (('9035020', '2022-01-08'), '900164'),\n",
              " (('9020900', '2022-01-08'), '900149')]"
            ]
          },
          "metadata": {},
          "execution_count": 8
        }
      ]
    },
    {
      "cell_type": "code",
      "source": [
        "rdd_1=df_rdd.groupByKey().mapValues(set).mapValues(list)  #(key=(plate,date),value = [Device Code List]) "
      ],
      "metadata": {
        "id": "e0Ck2kJgmJI_"
      },
      "execution_count": null,
      "outputs": []
    },
    {
      "cell_type": "code",
      "source": [
        "rdd_1.take(5)"
      ],
      "metadata": {
        "colab": {
          "base_uri": "https://localhost:8080/"
        },
        "id": "HMrF6g3xoPiY",
        "outputId": "2161d673-f5ad-4bf9-a54e-5c49ac34e06b"
      },
      "execution_count": null,
      "outputs": [
        {
          "output_type": "execute_result",
          "data": {
            "text/plain": [
              "[(('9819872', '2022-01-08'), ['100701260', '900218', '107301', '175']),\n",
              " (('9835325', '2022-01-08'), ['900212']),\n",
              " (('10717123', '2022-01-08'), ['100701147']),\n",
              " (('96661197', '2022-01-08'), ['22010047', '22010135']),\n",
              " (('14835536', '2022-01-08'), ['22010112', '22010110'])]"
            ]
          },
          "metadata": {},
          "execution_count": 10
        }
      ]
    },
    {
      "cell_type": "markdown",
      "source": [
        "part A(all Data) "
      ],
      "metadata": {
        "id": "u6kw-8qa8Rh7"
      }
    },
    {
      "cell_type": "code",
      "source": [
        "df_a=spark.read.csv('/content/drive/MyDrive/TrafficData.csv',header=True)\n",
        "df_a.show(5)"
      ],
      "metadata": {
        "colab": {
          "base_uri": "https://localhost:8080/"
        },
        "id": "VBTlqVVJ83Iz",
        "outputId": "2f38d5b3-950c-4575-cbcf-cb9430c61a5e"
      },
      "execution_count": null,
      "outputs": [
        {
          "output_type": "stream",
          "name": "stdout",
          "text": [
            "+-----------+---------+---------------+-------------+----------------+----------+-------------------+\n",
            "|DEVICE_CODE|SYSTEM_ID|ORIGINE_CAR_KEY|FINAL_CAR_KEY|CHECK_STATUS_KEY|COMPANY_ID|      PASS_DAY_TIME|\n",
            "+-----------+---------+---------------+-------------+----------------+----------+-------------------+\n",
            "|   22010122|      284|       97955760|     64111706|               7|       161|2022-01-10 08:58:02|\n",
            "|   22010047|      284|       34111333|     34111333|               6|       161|2022-01-10 08:09:03|\n",
            "|     206701|       81|       33797174|     64111706|               7|       161|2022-01-10 07:50:48|\n",
            "|   22010053|      284|       33845128|     33845128|               6|       161|2022-01-10 10:53:24|\n",
            "|     900214|      283|       17144642|     64111706|               7|       264|2022-01-10 08:12:33|\n",
            "+-----------+---------+---------------+-------------+----------------+----------+-------------------+\n",
            "only showing top 5 rows\n",
            "\n"
          ]
        }
      ]
    },
    {
      "cell_type": "code",
      "source": [
        "df_a=df_a.withColumn(\"date\",to_date(\"PASS_DAY_TIME\"))\n",
        "df_a.show(5)"
      ],
      "metadata": {
        "colab": {
          "base_uri": "https://localhost:8080/"
        },
        "id": "aYxioLRB8241",
        "outputId": "bff40117-62fd-4026-b296-b166fb75af6f"
      },
      "execution_count": null,
      "outputs": [
        {
          "output_type": "stream",
          "name": "stdout",
          "text": [
            "+-----------+---------+---------------+-------------+----------------+----------+-------------------+----------+\n",
            "|DEVICE_CODE|SYSTEM_ID|ORIGINE_CAR_KEY|FINAL_CAR_KEY|CHECK_STATUS_KEY|COMPANY_ID|      PASS_DAY_TIME|      date|\n",
            "+-----------+---------+---------------+-------------+----------------+----------+-------------------+----------+\n",
            "|   22010122|      284|       97955760|     64111706|               7|       161|2022-01-10 08:58:02|2022-01-10|\n",
            "|   22010047|      284|       34111333|     34111333|               6|       161|2022-01-10 08:09:03|2022-01-10|\n",
            "|     206701|       81|       33797174|     64111706|               7|       161|2022-01-10 07:50:48|2022-01-10|\n",
            "|   22010053|      284|       33845128|     33845128|               6|       161|2022-01-10 10:53:24|2022-01-10|\n",
            "|     900214|      283|       17144642|     64111706|               7|       264|2022-01-10 08:12:33|2022-01-10|\n",
            "+-----------+---------+---------------+-------------+----------------+----------+-------------------+----------+\n",
            "only showing top 5 rows\n",
            "\n"
          ]
        }
      ]
    },
    {
      "cell_type": "code",
      "source": [
        "df_a_rdd=df.rdd.map(lambda x: ((x[3],str(x[7])),x[0]))  # (key=(plate,date),value=DEVICE_CODE)"
      ],
      "metadata": {
        "id": "BWyeP2zH9R-7"
      },
      "execution_count": null,
      "outputs": []
    },
    {
      "cell_type": "code",
      "source": [
        "df_a_rdd.take(5)"
      ],
      "metadata": {
        "colab": {
          "base_uri": "https://localhost:8080/"
        },
        "id": "Zr-d8U7x9Rvv",
        "outputId": "5cdd2497-4f17-42bc-bda6-8693eb1b70c7"
      },
      "execution_count": null,
      "outputs": [
        {
          "output_type": "execute_result",
          "data": {
            "text/plain": [
              "[(('9016704', '2022-01-08'), '100700853'),\n",
              " (('9017538', '2022-01-08'), '230204'),\n",
              " (('9017538', '2022-01-08'), '631357'),\n",
              " (('9035020', '2022-01-08'), '900164'),\n",
              " (('9020900', '2022-01-08'), '900149')]"
            ]
          },
          "metadata": {},
          "execution_count": 26
        }
      ]
    },
    {
      "cell_type": "code",
      "source": [
        "rdd_a_1=df_a_rdd.groupByKey().mapValues(set).mapValues(list) #(key=(plate,date),value = [Device Code List])"
      ],
      "metadata": {
        "id": "uEXQCX7D9eXw"
      },
      "execution_count": null,
      "outputs": []
    },
    {
      "cell_type": "code",
      "source": [
        "rdd_a_1.take(10)"
      ],
      "metadata": {
        "colab": {
          "base_uri": "https://localhost:8080/"
        },
        "id": "Vvk9VDvy9fhB",
        "outputId": "09a0e95a-cba5-4472-cccf-7ae67425c810"
      },
      "execution_count": null,
      "outputs": [
        {
          "output_type": "execute_result",
          "data": {
            "text/plain": [
              "[(('9385850', '2022-01-08'), ['900244', '100700839', '900212', '900222']),\n",
              " (('9938579', '2022-01-08'),\n",
              "  ['123',\n",
              "   '100700820',\n",
              "   '900266',\n",
              "   '100700853',\n",
              "   '900243',\n",
              "   '900164',\n",
              "   '230204',\n",
              "   '631719',\n",
              "   '631367',\n",
              "   '119']),\n",
              " (('9492185', '2022-01-08'), ['22010139', '22010110']),\n",
              " (('11469363', '2022-01-08'), ['22010111', '22010138']),\n",
              " (('35558776', '2022-01-08'), ['22010111', '22010110', '22010138']),\n",
              " (('35409091', '2022-01-08'), ['22010047']),\n",
              " (('8129856', '2022-01-08'), ['900234', '205802', '631354', '900246']),\n",
              " (('8515533', '2022-01-08'),\n",
              "  ['900142', '100700853', '631506', '900212', '631634']),\n",
              " (('8572367', '2022-01-08'),\n",
              "  ['100700804',\n",
              "   '900142',\n",
              "   '631368',\n",
              "   '100700864',\n",
              "   '100700853',\n",
              "   '209103',\n",
              "   '101301',\n",
              "   '22010117',\n",
              "   '900218',\n",
              "   '900197',\n",
              "   '900164',\n",
              "   '900185',\n",
              "   '900129',\n",
              "   '203902',\n",
              "   '900212',\n",
              "   '900273',\n",
              "   '163',\n",
              "   '22010054']),\n",
              " (('29143159', '2022-01-08'), ['22010047'])]"
            ]
          },
          "metadata": {},
          "execution_count": 28
        }
      ]
    },
    {
      "cell_type": "markdown",
      "source": [
        "Part B"
      ],
      "metadata": {
        "id": "Jz3ZrzBksJTu"
      }
    },
    {
      "cell_type": "code",
      "source": [
        "uniq_cam=df.select('DEVICE_CODE').distinct().collect()                            "
      ],
      "metadata": {
        "id": "unOulAShsLPE"
      },
      "execution_count": null,
      "outputs": []
    },
    {
      "cell_type": "code",
      "source": [
        "import numpy as np"
      ],
      "metadata": {
        "id": "XxqPz_zx-iaG"
      },
      "execution_count": null,
      "outputs": []
    },
    {
      "cell_type": "code",
      "source": [
        "ind = np.random.randint(0,len(uniq_cam),4) #creating random index for choosing random cameras\n",
        "ind"
      ],
      "metadata": {
        "colab": {
          "base_uri": "https://localhost:8080/"
        },
        "id": "ZEaxsgqMHLsu",
        "outputId": "e75e9228-f132-470f-c383-a3e7a8dd2aba"
      },
      "execution_count": null,
      "outputs": [
        {
          "output_type": "execute_result",
          "data": {
            "text/plain": [
              "array([423, 892, 663, 749])"
            ]
          },
          "metadata": {},
          "execution_count": 31
        }
      ]
    },
    {
      "cell_type": "code",
      "source": [
        "hypo_path = np.array(uniq_cam)[(ind).astype(int)] #creating a hypothetical path\n",
        "hypo_path"
      ],
      "metadata": {
        "colab": {
          "base_uri": "https://localhost:8080/"
        },
        "id": "8BVQdj55I6AA",
        "outputId": "6ad82709-cd84-4277-ee1e-fa356130c5da"
      },
      "execution_count": null,
      "outputs": [
        {
          "output_type": "execute_result",
          "data": {
            "text/plain": [
              "array([['22010058'],\n",
              "       ['631702'],\n",
              "       ['22009911'],\n",
              "       ['109']], dtype='<U9')"
            ]
          },
          "metadata": {},
          "execution_count": 44
        }
      ]
    },
    {
      "cell_type": "code",
      "source": [
        "rdd_similar_path=rdd_1.filter(lambda x: set(hypo_path[0]).issubset(set(x[1])) or set(hypo_path[1]).issubset(set(x[1])) or set(hypo_path[2]).issubset(set(x[1])) or set(hypo_path[3]).issubset(set(x[1])))"
      ],
      "metadata": {
        "id": "Whg8JGRKTd_g"
      },
      "execution_count": null,
      "outputs": []
    },
    {
      "cell_type": "code",
      "source": [
        "rdd_similar_path.count()"
      ],
      "metadata": {
        "colab": {
          "base_uri": "https://localhost:8080/"
        },
        "id": "-lOnJHuKU5ap",
        "outputId": "75b7fc57-87f5-407d-cbdd-c6b7934633d3"
      },
      "execution_count": null,
      "outputs": [
        {
          "output_type": "execute_result",
          "data": {
            "text/plain": [
              "2563"
            ]
          },
          "metadata": {},
          "execution_count": 34
        }
      ]
    },
    {
      "cell_type": "code",
      "source": [
        "rdd_similar_path.take(5)"
      ],
      "metadata": {
        "id": "Gm4Nhszib5wj",
        "colab": {
          "base_uri": "https://localhost:8080/"
        },
        "outputId": "d572f92c-be25-4afa-91a7-157a68bf55a4"
      },
      "execution_count": null,
      "outputs": [
        {
          "output_type": "execute_result",
          "data": {
            "text/plain": [
              "[(('15537551', '2022-01-08'), ['22010057', '22010058']),\n",
              " (('7967132', '2022-01-08'), ['22010057', '22010058']),\n",
              " (('12206868', '2022-01-08'), ['22010057', '22010058']),\n",
              " (('17079637', '2022-01-08'), ['22010057', '900141', '22010058']),\n",
              " (('8469491', '2022-01-08'), ['100701144', '109', '108', '200301'])]"
            ]
          },
          "metadata": {},
          "execution_count": 35
        }
      ]
    },
    {
      "cell_type": "code",
      "source": [
        "set_hypo=set()\n",
        "for i in range(len(hypo_path)):\n",
        "    set_hypo.add(hypo_path.tolist()[i][0])"
      ],
      "metadata": {
        "id": "Saub1O6Wi5bd"
      },
      "execution_count": null,
      "outputs": []
    },
    {
      "cell_type": "code",
      "source": [
        "#( key =cos(theta), value = ((plate,date),[Device Code List]) )\n",
        "rdd_cosine_similarity=rdd_similar_path.map(lambda x: ((len(set_hypo.intersection(set(x[1])))/(np.sqrt(len(set_hypo)) * np.sqrt(len(set(x[1]))) )).round(3),(x[0],x[1])) )"
      ],
      "metadata": {
        "id": "roqM9xU3h6RD"
      },
      "execution_count": null,
      "outputs": []
    },
    {
      "cell_type": "code",
      "source": [
        "sorted(rdd_cosine_similarity.collect(),reverse=True)"
      ],
      "metadata": {
        "id": "NnPgqJopqGeS"
      },
      "execution_count": null,
      "outputs": []
    },
    {
      "cell_type": "markdown",
      "source": [
        "part B(all data)"
      ],
      "metadata": {
        "id": "Fhq_JX0C4Ns5"
      }
    },
    {
      "cell_type": "code",
      "source": [
        "uniq_cam=df_a.select('DEVICE_CODE').distinct().collect()  "
      ],
      "metadata": {
        "id": "ft_30gyi4aeC"
      },
      "execution_count": null,
      "outputs": []
    },
    {
      "cell_type": "code",
      "source": [
        "len(uniq_cam)"
      ],
      "metadata": {
        "colab": {
          "base_uri": "https://localhost:8080/"
        },
        "id": "hBJaPhCW6RA5",
        "outputId": "42311b92-d60f-4951-febf-def7bd486f7f"
      },
      "execution_count": null,
      "outputs": [
        {
          "output_type": "execute_result",
          "data": {
            "text/plain": [
              "946"
            ]
          },
          "metadata": {},
          "execution_count": 83
        }
      ]
    },
    {
      "cell_type": "code",
      "source": [
        "ind = np.random.randint(0,len(uniq_cam),4) #creating random index for choosing random camera\n",
        "ind"
      ],
      "metadata": {
        "colab": {
          "base_uri": "https://localhost:8080/"
        },
        "id": "i-ntZezm48p_",
        "outputId": "11a17ca1-9774-4133-89fc-dbb5ca2bd9c7"
      },
      "execution_count": null,
      "outputs": [
        {
          "output_type": "execute_result",
          "data": {
            "text/plain": [
              "array([177, 127, 354, 297])"
            ]
          },
          "metadata": {},
          "execution_count": 82
        }
      ]
    },
    {
      "cell_type": "code",
      "source": [
        "hypo_path = np.array(uniq_cam)[(ind).astype(int)] #creating a hypothetical path\n",
        "hypo_path"
      ],
      "metadata": {
        "colab": {
          "base_uri": "https://localhost:8080/"
        },
        "id": "LbkwvWZ05E_c",
        "outputId": "393e967c-81c3-4d7e-8653-eba234987a9e"
      },
      "execution_count": null,
      "outputs": [
        {
          "output_type": "execute_result",
          "data": {
            "text/plain": [
              "array([['22009806'],\n",
              "       ['1001001'],\n",
              "       ['900195'],\n",
              "       ['100701298']], dtype='<U9')"
            ]
          },
          "metadata": {},
          "execution_count": 84
        }
      ]
    },
    {
      "cell_type": "code",
      "source": [
        "rdd_similar_path=rdd_a_1.filter(lambda x: set(hypo_path[0]).issubset(set(x[1])) or set(hypo_path[1]).issubset(set(x[1])) or set(hypo_path[2]).issubset(set(x[1])) or set(hypo_path[3]).issubset(set(x[1])))"
      ],
      "metadata": {
        "id": "5Sa94XH55K_a"
      },
      "execution_count": null,
      "outputs": []
    },
    {
      "cell_type": "code",
      "source": [
        "rdd_similar_path.count()"
      ],
      "metadata": {
        "colab": {
          "base_uri": "https://localhost:8080/"
        },
        "id": "vigSNY2a5XoV",
        "outputId": "9b237086-2a67-48ec-a283-b63da1e1d66d"
      },
      "execution_count": null,
      "outputs": [
        {
          "output_type": "execute_result",
          "data": {
            "text/plain": [
              "3953"
            ]
          },
          "metadata": {},
          "execution_count": 86
        }
      ]
    },
    {
      "cell_type": "code",
      "source": [
        "rdd_similar_path.take(5)"
      ],
      "metadata": {
        "colab": {
          "base_uri": "https://localhost:8080/"
        },
        "id": "m04ltadK5ar0",
        "outputId": "ba2d891a-7e4f-496d-b741-a258afcd8676"
      },
      "execution_count": null,
      "outputs": [
        {
          "output_type": "execute_result",
          "data": {
            "text/plain": [
              "[(('42083983', '2022-01-08'), ['22010122', '100701298', '22010054']),\n",
              " (('60482918', '2022-01-08'), ['100701298', '22010125']),\n",
              " (('20250397', '2022-01-08'), ['100701298']),\n",
              " (('26108324', '2022-01-08'), ['100701298', '22010127']),\n",
              " (('91978972', '2022-01-08'), ['100701298'])]"
            ]
          },
          "metadata": {},
          "execution_count": 87
        }
      ]
    },
    {
      "cell_type": "code",
      "source": [
        "set_hypo=set()\n",
        "for i in range(len(hypo_path)):\n",
        "    set_hypo.add(hypo_path.tolist()[i][0])"
      ],
      "metadata": {
        "id": "r5pwFNGh8Zuh"
      },
      "execution_count": null,
      "outputs": []
    },
    {
      "cell_type": "code",
      "source": [
        "#( key =cos(theta), value = ((plate,date),[Device Code List]) )\n",
        "rdd_cosine_similarity=rdd_similar_path.map(lambda x: ((len(set_hypo.intersection(set(x[1])))/(np.sqrt(len(set_hypo)) * np.sqrt(len(set(x[1]))) )).round(3),(x[0],x[1])) )"
      ],
      "metadata": {
        "id": "eo6b244x5eWZ"
      },
      "execution_count": null,
      "outputs": []
    },
    {
      "cell_type": "code",
      "source": [
        "sorted(rdd_cosine_similarity.take(15),reverse=True)"
      ],
      "metadata": {
        "colab": {
          "base_uri": "https://localhost:8080/"
        },
        "id": "-K1vicy55vCx",
        "outputId": "b6e6e4b7-e7a4-4161-ad95-fc7cba9c7422"
      },
      "execution_count": null,
      "outputs": [
        {
          "output_type": "execute_result",
          "data": {
            "text/plain": [
              "[(0.5, (('91978972', '2022-01-08'), ['100701298'])),\n",
              " (0.5, (('74609983', '2022-01-08'), ['100701298'])),\n",
              " (0.5, (('40201285', '2022-01-08'), ['100701298'])),\n",
              " (0.5, (('20250397', '2022-01-08'), ['100701298'])),\n",
              " (0.354, (('9423700', '2022-01-08'), ['22010121', '100701298'])),\n",
              " (0.354, (('88467288', '2022-01-08'), ['22010112', '100701298'])),\n",
              " (0.354, (('8738634', '2022-01-08'), ['100701298', '22010128'])),\n",
              " (0.354, (('60482918', '2022-01-08'), ['100701298', '22010125'])),\n",
              " (0.354, (('26108324', '2022-01-08'), ['100701298', '22010127'])),\n",
              " (0.354, (('20211489', '2022-01-08'), ['100701298', '22010059'])),\n",
              " (0.289,\n",
              "  (('60123951', '2022-01-08'), ['100701298', '100701119', '100701297'])),\n",
              " (0.289, (('42083983', '2022-01-08'), ['22010122', '100701298', '22010054'])),\n",
              " (0.25,\n",
              "  (('26173221', '2022-01-08'),\n",
              "   ['100701298', '900202', '900155', '100701157'])),\n",
              " (0.224,\n",
              "  (('19745155', '2022-01-08'),\n",
              "   ['205202', '205201', '169', '22009972', '100701298'])),\n",
              " (0.204,\n",
              "  (('104633602', '2022-01-08'),\n",
              "   ['100700820', '22010110', '900216', '100701298', '631765', '900158']))]"
            ]
          },
          "metadata": {},
          "execution_count": 105
        }
      ]
    },
    {
      "cell_type": "code",
      "source": [],
      "metadata": {
        "id": "3RVwq9ifCy6e"
      },
      "execution_count": null,
      "outputs": []
    },
    {
      "cell_type": "markdown",
      "source": [
        "**part C**"
      ],
      "metadata": {
        "id": "lERPDKJECzhQ"
      }
    },
    {
      "cell_type": "code",
      "source": [],
      "metadata": {
        "id": "1iOAXAY7C7ZI"
      },
      "execution_count": null,
      "outputs": []
    }
  ]
}