{
 "cells": [
  {
   "cell_type": "code",
   "execution_count": 1,
   "id": "e37cc98f",
   "metadata": {},
   "outputs": [],
   "source": [
    "# import necessary packages\n",
    "import numpy as np\n",
    "import random\n",
    "import math\n",
    "import matplotlib.pyplot as plt\n",
    "from collections import Counter\n",
    "from datetime import datetime\n",
    "from itertools import product\n",
    "from pyspark import SparkContext,SparkConf\n",
    "from pyspark.sql import SparkSession"
   ]
  },
  {
   "cell_type": "code",
   "execution_count": 2,
   "id": "7f45c901",
   "metadata": {
    "scrolled": true
   },
   "outputs": [
    {
     "name": "stderr",
     "output_type": "stream",
     "text": [
      "Setting default log level to \"WARN\".\n",
      "To adjust logging level use sc.setLogLevel(newLevel). For SparkR, use setLogLevel(newLevel).\n"
     ]
    },
    {
     "name": "stdout",
     "output_type": "stream",
     "text": [
      "23/01/21 03:05:45 WARN NativeCodeLoader: Unable to load native-hadoop library for your platform... using builtin-java classes where applicable\n"
     ]
    }
   ],
   "source": [
    "# initialize spark\n",
    "spark = SparkSession \\\n",
    "    .builder \\\n",
    "    .appName(\"municipality\") \\\n",
    "    .master(\"local[*]\") \\\n",
    "    .getOrCreate()\n",
    "\n",
    "sc=spark.sparkContext"
   ]
  },
  {
   "cell_type": "code",
   "execution_count": 3,
   "id": "7bd5b765",
   "metadata": {},
   "outputs": [
    {
     "name": "stdout",
     "output_type": "stream",
     "text": [
      "+-----------+---------+---------------+-------------+----------------+----------+-------------------+\n",
      "|DEVICE_CODE|SYSTEM_ID|ORIGINE_CAR_KEY|FINAL_CAR_KEY|CHECK_STATUS_KEY|COMPANY_ID|      PASS_DAY_TIME|\n",
      "+-----------+---------+---------------+-------------+----------------+----------+-------------------+\n",
      "|     200501|       81|       10477885|     10477885|               5|       161|2021-06-01 03:54:39|\n",
      "|        155|       81|       87625017|     87625017|               5|       161|2021-06-01 04:14:21|\n",
      "|     631757|       81|        8652928|      8652928|               5|       161|2021-06-01 03:58:57|\n",
      "|     631757|       81|        8548123|      8548123|               5|       161|2021-06-01 04:01:38|\n",
      "|     631757|       81|       24715264|     24715264|               5|       161|2021-06-01 03:56:57|\n",
      "+-----------+---------+---------------+-------------+----------------+----------+-------------------+\n",
      "only showing top 5 rows\n",
      "\n",
      "+-----------+---------------+-------------------+\n",
      "|DEVICE_CODE|ORIGINE_CAR_KEY|      PASS_DAY_TIME|\n",
      "+-----------+---------------+-------------------+\n",
      "|     200501|       10477885|2021-06-01 03:54:39|\n",
      "|        155|       87625017|2021-06-01 04:14:21|\n",
      "|     631757|        8652928|2021-06-01 03:58:57|\n",
      "|     631757|        8548123|2021-06-01 04:01:38|\n",
      "|     631757|       24715264|2021-06-01 03:56:57|\n",
      "+-----------+---------------+-------------------+\n",
      "only showing top 5 rows\n",
      "\n"
     ]
    }
   ],
   "source": [
    "# read data file\n",
    "df=spark.read.option('header',True).csv(\"Sample_Traffic.csv\")\n",
    "# show top 5 rows\n",
    "df.show(5)\n",
    "# select needed columns\n",
    "new_df=df.select([df.columns[i] for i in [0,2,6]])\n",
    "# show top 5 selected rows\n",
    "new_df.show(5)\n",
    "# convert new_df to rdd format\n",
    "ds=new_df.rdd"
   ]
  },
  {
   "cell_type": "markdown",
   "id": "727b4682",
   "metadata": {},
   "source": [
    "### preproccesing"
   ]
  },
  {
   "cell_type": "code",
   "execution_count": 4,
   "id": "165fd6eb",
   "metadata": {
    "scrolled": false
   },
   "outputs": [
    {
     "name": "stderr",
     "output_type": "stream",
     "text": [
      "                                                                                \r"
     ]
    },
    {
     "name": "stdout",
     "output_type": "stream",
     "text": [
      "the most number of passes for a car from a traffic light is 2932 before removing outlier datas\n",
      "the most number of passes for a car from a traffic light is 411 after cleaning\n"
     ]
    },
    {
     "name": "stderr",
     "output_type": "stream",
     "text": [
      "                                                                                \r"
     ]
    },
    {
     "data": {
      "text/plain": [
       "(('8687397', '2021-06-01'), ['202901', '22010051', '900240', '22010052'])"
      ]
     },
     "execution_count": 4,
     "metadata": {},
     "output_type": "execute_result"
    }
   ],
   "source": [
    "pass_time=ds.map(lambda x: ((x[0],x[1]),[datetime.strptime(x[2],'%Y-%m-%d %H:%M:%S')])) \\\n",
    "                    .reduceByKey(lambda x,y: x+y)\n",
    "def sorting(x):\n",
    "    time_list=x[1]\n",
    "    time_list.sort()\n",
    "    time_list.reverse()\n",
    "    return (x[0],time_list)\n",
    "pass_time_sort=pass_time.map(sorting)\n",
    "def remove_outlier_data(x):\n",
    "    time_list=x[1]\n",
    "    new_time_list=[]\n",
    "    for i in range(len(time_list)):\n",
    "        if (time_list[i]-time_list[(i+1)%len(time_list)]).total_seconds()>=60:\n",
    "            new_time_list.append(datetime.strftime(time_list[i],'%Y-%m-%d'))\n",
    "    if len(time_list)==1:\n",
    "        new_time_list=[datetime.strftime(time_list[0],'%Y-%m-%d')]\n",
    "    return (x[0],new_time_list)\n",
    "clear_pass_time=pass_time_sort.map(remove_outlier_data)\n",
    "# find the (device_code,palte) with the most probable error\n",
    "error_device=pass_time_sort.sortBy(lambda x: len(x[1]),ascending=False).take(1)[0]\n",
    "print(f'the most number of passes for a car from a traffic light is {len(error_device[1])} before removing outlier datas')\n",
    "print(f'the most number of passes for a car from a traffic light is {len(remove_outlier_data(error_device)[1])} after cleaning')\n",
    "pass_device_code=clear_pass_time.flatMap(lambda x: product((x[0],),x[1])) \\\n",
    "                                    .map(lambda x: ((x[0][1],x[1]),[x[0][0]])) \\\n",
    "                                    .reduceByKey(lambda x,y: x+y) \\\n",
    "                                    .filter(lambda x: len(x[1])<=400)\n",
    "pass_device_code.take(1)[0]"
   ]
  },
  {
   "cell_type": "markdown",
   "id": "a5df4fb6",
   "metadata": {},
   "source": [
    "### cosine similarity"
   ]
  },
  {
   "cell_type": "code",
   "execution_count": 5,
   "id": "5049036f",
   "metadata": {
    "scrolled": true
   },
   "outputs": [
    {
     "name": "stderr",
     "output_type": "stream",
     "text": [
      "[Stage 24:=====================>                                  (6 + 10) / 16]\r"
     ]
    },
    {
     "name": "stdout",
     "output_type": "stream",
     "text": [
      "the assumptive path is (('9203915', '2021-06-01'), ['202901', '100700804', '100700834', '900265', '631765', '209103', '100700864', '900203', '175', '211301', '900191', '900191', '203902', '203902', '900242'])\n",
      "-------------------------------------------------------\n",
      "the path is ['202901', '100700804', '100700834', '900265', '631765', '209103', '100700864', '900203', '175', '211301', '900191', '900191', '203902', '203902', '900242'] and the plate of car is 9203915\n",
      "0.9999999932921207\n",
      "-------------------------------------------------------\n",
      "the path is ['209103', '22009971', '900101', '900265', '100700834', '203902', '203902', '100700804', '175', '145', '211301', '900191', '900191', '22009972'] and the plate of car is 37043180\n",
      "0.7733519637903687\n",
      "-------------------------------------------------------\n",
      "the path is ['202901', '202901', '202901', '202901', '202901', '202901', '203001', '900215', '203902', '203902', '203902', '203902', '203902', '203902', '203902', '22009923', '900265', '205201', '900237', '100700864', '202101', '900150', '900216', '22009972', '201901', '211301', '900191', '900191', '900191', '900191', '900191', '900191', '900191', '900191', '900238', '175', '175', '175'] and the plate of car is 10470069\n",
      "0.7626756622080607\n",
      "-------------------------------------------------------\n",
      "the path is ['100700864', '211301', '900191', '900191', '203902', '202901'] and the plate of car is 15178794\n",
      "0.7604782880140474\n",
      "-------------------------------------------------------\n",
      "the path is ['202901', '900191', '900191', '900191', '900191', '900191', '900191', '900191', '203902', '203902', '203902', '203902', '203902', '209103', '100700804', '900265'] and the plate of car is 15663933\n",
      "0.7592409032763172\n",
      "-------------------------------------------------------\n"
     ]
    },
    {
     "name": "stderr",
     "output_type": "stream",
     "text": [
      "\r",
      "                                                                                \r"
     ]
    }
   ],
   "source": [
    "def build_vector(x, y):\n",
    "    counter1 = Counter(x[1])\n",
    "    counter2= Counter(y[1])\n",
    "    all_items = set(counter1.keys()).union(set(counter2.keys()))\n",
    "    vector1 = [counter1[k] for k in all_items]\n",
    "    vector2 = [counter2[k] for k in all_items]\n",
    "    return vector1, vector2\n",
    "def cosine_similarity(x,y):\n",
    "    vec1,vec2=build_vector(x,y)\n",
    "    cos_distance=np.dot(vec1,vec2)/(np.linalg.norm(vec1)*np.linalg.norm(vec2))\n",
    "    theta=math.acos(cos_distance)\n",
    "    similarity=1-theta/math.pi\n",
    "    return similarity\n",
    "# make an assumptive path, choose randomly a path with the size of 10 from all pathes\n",
    "assumptive_path=pass_device_code.filter(lambda x: len(x[1])==15).take(1)[0]\n",
    "top_path_similarity=pass_device_code.map(lambda x: (x[0],(x[1],cosine_similarity(x,assumptive_path)))) \\\n",
    "                                    .sortBy(lambda x: x[1][1],ascending=False).take(5)\n",
    "print(f'the assumptive path is {assumptive_path[1]}')\n",
    "print('-'*55)\n",
    "for path in top_path_similarity:\n",
    "    print(f'the path is {path[1][0]} and the plate of car is {path[0][0]}')\n",
    "    print(path[1][1])\n",
    "    print('-'*55)"
   ]
  },
  {
   "cell_type": "markdown",
   "id": "7786f124",
   "metadata": {},
   "source": [
    "### LSH"
   ]
  },
  {
   "cell_type": "code",
   "execution_count": 6,
   "id": "ced05316",
   "metadata": {},
   "outputs": [
    {
     "name": "stderr",
     "output_type": "stream",
     "text": [
      "                                                                                \r"
     ]
    },
    {
     "data": {
      "image/png": "[encoded data removed]",
      "text/plain": [
       "<Figure size 640x480 with 1 Axes>"
      ]
     },
     "metadata": {},
     "output_type": "display_data"
    }
   ],
   "source": [
    "def build_dict(x):\n",
    "    return dict(Counter(x[1]))\n",
    "def hashing(x,v):\n",
    "    dict_x=build_dict(x)\n",
    "    effective_v=np.array([v[key] for key in dict_x])\n",
    "    effective_v=effective_v.reshape(-1,effective_v.shape[0])\n",
    "    vec=effective_v@np.array(list(dict_x.values()))\n",
    "    return vec>=0\n",
    "def hash_document(x,v_matrix,all_device_code):\n",
    "    v=dict(zip(all_device_code,v_matrix))\n",
    "    ls=hashing(x,v)\n",
    "    return (x[0],(x[1],ls))\n",
    "# finding the total possible device codes\n",
    "all_device_code=pass_device_code.map(lambda x: set(x[1])).reduce(lambda x,y: x.union(y))\n",
    "n=len(all_device_code)\n",
    "# for using AND | OR concepts we assign b=50 and r=8 where br=m\n",
    "# note: at first we use AND then OR operations\n",
    "number_bands=70\n",
    "number_rows=9\n",
    "t=np.linspace(0,1,100)\n",
    "s=1-(1-t**number_rows)**number_bands\n",
    "figure,ax=plt.subplots()\n",
    "ax.plot(t,s)\n",
    "ax.plot([0.7,0.7],[0,1])\n",
    "ax.set_xlabel('probability of similarity')\n",
    "ax.set_ylabel(f'b={number_bands} , r={number_rows}')\n",
    "ax.grid()\n",
    "# find m random v vector\n",
    "m=number_bands*number_rows\n",
    "elements=[-1,1]\n",
    "v_matrix=np.random.choice(elements,(n,m))\n",
    "#computing signature matrix\n",
    "signature_matrix=pass_device_code.map(lambda x: hash_document(x,v_matrix,all_device_code))"
   ]
  },
  {
   "cell_type": "code",
   "execution_count": 7,
   "id": "965cec60",
   "metadata": {
    "scrolled": true
   },
   "outputs": [
    {
     "name": "stderr",
     "output_type": "stream",
     "text": [
      "[Stage 31:====================================================>   (15 + 1) / 16]\r"
     ]
    },
    {
     "name": "stdout",
     "output_type": "stream",
     "text": [
      "23/01/21 03:06:58 WARN TransportClientFactory: DNS resolution succeed for hp-omen/172.27.171.82:35605 took 5944 ms\n"
     ]
    },
    {
     "name": "stderr",
     "output_type": "stream",
     "text": [
      "\r",
      "                                                                                \r"
     ]
    },
    {
     "name": "stdout",
     "output_type": "stream",
     "text": [
      "the probability of two items map goes to the same bucket is about 1.0164830310799289e-06%\n"
     ]
    }
   ],
   "source": [
    "# for hashing we use p=2^61-1 that is prime number and it is as large as needed \n",
    "# if we use p prime number, the probability that 2 items map to the same bucket is at least p1 where is\n",
    "# in the order of 1e-5\n",
    "# note: for more information, refer to the HW report\n",
    "# the below code shows the probability\n",
    "N=len(pass_device_code.collect())\n",
    "bucket=2**67-1\n",
    "p=1\n",
    "for i in range(N):\n",
    "    p*=(bucket-i)/bucket\n",
    "p1=1-p\n",
    "print(f'the probability of two items goes to the same bucket is about {p1*100}%')"
   ]
  },
  {
   "cell_type": "code",
   "execution_count": 8,
   "id": "504068cc",
   "metadata": {},
   "outputs": [],
   "source": [
    "# hasing all bands\n",
    "def hash_band(vector,bucket):\n",
    "    return hash(tuple(vector))%bucket\n",
    "def choose_bucket(x,bucket,number_bands,number_rows):\n",
    "    signature=x[1][1]\n",
    "    bucket_ls=[hash_band(signature[b*number_rows:(b+1)*number_rows],bucket) for b in range(number_bands)]\n",
    "    return (x[0],(x[1][0],bucket_ls))\n",
    "similar_items=signature_matrix.map(lambda x: choose_bucket(x,bucket,number_bands,number_rows))"
   ]
  },
  {
   "cell_type": "code",
   "execution_count": 10,
   "id": "5b9a559b",
   "metadata": {
    "scrolled": true
   },
   "outputs": [
    {
     "name": "stdout",
     "output_type": "stream",
     "text": [
      "the assumptive path is ['202901', '100700804', '100700834', '900265', '631765', '209103', '100700864', '900203', '175', '211301', '900191', '900191', '203902', '203902', '900242']\n",
      "----------------------------------------------------------------------\n",
      "the path is ['202901', '100700932', '900118', '900216', '100700864', '100700864', '100700864', '107301', '900239', '175', '175', '175', '900191', '900191', '900191', '900191', '900191', '900191', '203902', '203902', '203902', '900242'] and the plate of car is 8551233\n",
      "0.7526327582266752\n",
      "-----------------------------------------------------------------\n",
      "the path is ['203902', '203902', '203902', '203902', '203902', '203902', '203902', '113', '202901', '175', '175', '175', '900191', '900191', '900191', '900191', '900191', '900191', '900191', '900191', '900191'] and the plate of car is 9040909\n",
      "0.7448305655154388\n",
      "-----------------------------------------------------------------\n",
      "the path is ['175', '232', '900191', '900191', '900191', '900191', '900191', '900191', '900191', '900191', '900191', '203902', '203902', '203902', '203902', '203902', '203902', '203902', '203902', '22010031', '202901', '202901', '202901', '202901', '900256', '900126', '22010117'] and the plate of car is 22091671\n",
      "0.7434272848707957\n",
      "-----------------------------------------------------------------\n",
      "the path is ['203902', '203902', '202901', '900191', '900191', '175', '107301'] and the plate of car is 9497419\n",
      "0.743144317933728\n",
      "-----------------------------------------------------------------\n",
      "the path is ['900191', '900191', '900191', '900191', '900191', '900191', '900191', '900191', '900191', '900191', '900191', '900191', '900191', '900191', '900191', '203902', '203902', '203902', '203902', '203902', '203902', '203902', '203902', '203902', '203902', '203902', '203902', '203902', '900115', '175', '175', '175', '175', '175', '175', '175', '175', '175', '175', '202901'] and the plate of car is 25810739\n",
      "0.7424650224173308\n",
      "-----------------------------------------------------------------\n"
     ]
    }
   ],
   "source": [
    "# hashing assumptive path\n",
    "def hash_assumptive_path(assumptive_path,v_matrix,all_device_code,bucket,number_bands,number_rows):\n",
    "    signature_vec=hash_document(assumptive_path,v_matrix,all_device_code)\n",
    "    similarity=choose_bucket(signature_vec,bucket,number_bands,number_rows)\n",
    "    return np.array(similarity[1][1])\n",
    "# finding all similar items for this assumptive path\n",
    "similarity=hash_assumptive_path(assumptive_path,v_matrix,all_device_code,bucket,number_bands,number_rows)\n",
    "total_similar_items=similar_items.filter(lambda x: any(np.array(x[1][1])==similarity)) \\\n",
    "                                    .map(lambda x: (x[0],x[1][0])) \\\n",
    "                                    .map(lambda x: (x[0],(x[1],cosine_similarity(x,assumptive_path)))) \\\n",
    "                                    .sortBy(lambda x: x[1][1],ascending=False).take(5)\n",
    "print(f'the assumptive path is {assumptive_path[1]}')\n",
    "print('-'*70)\n",
    "for path in total_similar_items:\n",
    "    print(f'the path is {path[1][0]} and the plate of car is {path[0][0]}')\n",
    "    print(path[1][1])\n",
    "    print('-'*65)"
   ]
  },
  {
   "cell_type": "code",
   "execution_count": 59,
   "id": "cf799252",
   "metadata": {},
   "outputs": [
    {
     "data": {
      "text/plain": [
       "array([False, False, False, False, False, False, False, False, False,\n",
       "       False, False, False, False, False, False, False, False, False,\n",
       "       False, False, False, False, False, False, False, False, False,\n",
       "       False, False, False, False, False, False, False, False, False,\n",
       "       False, False, False, False, False, False, False, False, False,\n",
       "       False, False, False, False, False, False, False, False, False,\n",
       "       False, False, False, False, False, False, False, False, False,\n",
       "       False, False, False, False, False, False, False])"
      ]
     },
     "execution_count": 59,
     "metadata": {},
     "output_type": "execute_result"
    }
   ],
   "source": [
    "a=similar_items.filter(lambda x: (x[0],x[1][0])==assumptive_path).take(1)[0]\n",
    "b=(a[0],a[1][0])\n",
    "c=np.array(a[1][1])\n",
    "hash_assumptive_path(b,v_matrix,all_device_code,bucket,number_bands,number_rows)==c"
   ]
  },
  {
   "cell_type": "code",
   "execution_count": 55,
   "id": "327189ec",
   "metadata": {},
   "outputs": [
    {
     "data": {
      "text/plain": [
       "array([1870161674818193243, 146462527349933266806, 143094686777537694992,\n",
       "       3306437917098454531, 5103040370781907104, 4090844574982032082,\n",
       "       145855256836114037016, 6141707726213528455, 1198946419452415239,\n",
       "       138441610378918005702, 4845276646923836960, 146928350789519057906,\n",
       "       146335841162388582473, 6079446267149598077, 3755235225256482217,\n",
       "       3631568700088505955, 147407542914314901871, 142702065349833066864,\n",
       "       145510131026662949603, 144902012564742081589,\n",
       "       147174687317581569938, 143745973462996406719, 1670269163844383520,\n",
       "       145248814237538011329, 647068424473703308, 3976729284455197465,\n",
       "       142066473172110394284, 8764019581339796646, 139022670676703346615,\n",
       "       2259286633844117952, 140547059846266357652, 923979151088165514,\n",
       "       146388204128605272001, 140372616379453414693,\n",
       "       145510131026662949603, 2047216644927834475, 143582325978681237124,\n",
       "       901447417977520563, 8548798039696304158, 3002692529735983138,\n",
       "       231600365729688396, 145065403944463939641, 138912343911428042301,\n",
       "       9011765463087141554, 9125021736595553438, 7290523772515994733,\n",
       "       145056803435080847440, 7554983433451107372, 3529691913654711257,\n",
       "       6169986544367603770, 7000557415813922383, 142925373044584854469,\n",
       "       139667109612757967944, 231600365729688396, 147410273840538144472,\n",
       "       2050024256029435401, 144716453463641024361, 145510131026662949603,\n",
       "       146148640477715584303, 145645731015099340463,\n",
       "       138986749201888480640, 7664255364771335303, 141991667694844804397,\n",
       "       7995702068842091910, 138513621863731108942, 144061171679665552711,\n",
       "       139880563372503273576, 3783951994391045851, 7971385149905246720,\n",
       "       5708769298835471836], dtype=object)"
      ]
     },
     "execution_count": 55,
     "metadata": {},
     "output_type": "execute_result"
    }
   ],
   "source": [
    "hash_assumptive_path(assumptive_path,v_matrix,all_device_code,bucket,number_bands,number_rows)"
   ]
  }
 ],
 "metadata": {
  "kernelspec": {
   "display_name": "Python 3 (ipykernel)",
   "language": "python",
   "name": "python3"
  },
  "language_info": {
   "codemirror_mode": {
    "name": "ipython",
    "version": 3
   },
   "file_extension": ".py",
   "mimetype": "text/x-python",
   "name": "python",
   "nbconvert_exporter": "python",
   "pygments_lexer": "ipython3",
   "version": "3.10.6"
  }
 },
 "nbformat": 4,
 "nbformat_minor": 5
}
