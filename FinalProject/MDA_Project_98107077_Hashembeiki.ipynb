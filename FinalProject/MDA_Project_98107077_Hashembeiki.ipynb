{
  "cells": [
    {
      "cell_type": "markdown",
      "metadata": {
        "id": "QpOJB8tCOXyW"
      },
      "source": [
        "# **MDA project**"
      ]
    },
    {
      "cell_type": "markdown",
      "metadata": {
        "id": "FHQ0jXwKtEcC"
      },
      "source": [
        "# **Setup and import the data**"
      ]
    },
    {
      "cell_type": "code",
      "execution_count": null,
      "metadata": {
        "id": "rtk_LB_5tJIg"
      },
      "outputs": [],
      "source": [
        "#setup\n",
        "!pip install pyspark"
      ]
    },
    {
      "cell_type": "code",
      "execution_count": 2,
      "metadata": {
        "id": "6zOwObISvUJL"
      },
      "outputs": [],
      "source": [
        "from pyspark import SparkContext, SparkConf \n",
        "from pyspark.sql import functions \n",
        "from pyspark.sql import SparkSession\n",
        "from pyspark.sql.types import StructType,StructField, StringType, IntegerType,TimestampType\n",
        "from pyspark.sql.functions import col,current_timestamp,to_date,hour,dayofweek\n",
        "spark = SparkSession \\\n",
        "    .builder \\\n",
        "    .appName(\"Spark_Processor\") \\\n",
        "    .master(\"local[*]\") \\\n",
        "    .getOrCreate()\n",
        "\n",
        "sc=spark.sparkContext"
      ]
    },
    {
      "cell_type": "code",
      "execution_count": 4,
      "metadata": {
        "id": "zYjGq9LK1f7S"
      },
      "outputs": [],
      "source": [
        "#import require libraries\n",
        "import numpy as np\n",
        "import matplotlib.pyplot as plt\n",
        "import random\n",
        "import pandas as pd\n",
        "import seaborn as sns\n",
        "from scipy.linalg import eigh\n",
        "from sklearn.preprocessing import StandardScaler\n",
        "from sklearn.cluster import KMeans"
      ]
    },
    {
      "cell_type": "code",
      "execution_count": 5,
      "metadata": {
        "colab": {
          "base_uri": "https://localhost:8080/"
        },
        "id": "FIMqBU9rtNO3",
        "outputId": "665a33bc-a15f-4d3d-dc05-96abdea4e789"
      },
      "outputs": [
        {
          "name": "stdout",
          "output_type": "stream",
          "text": [
            "Mounted at /content/drive\n"
          ]
        }
      ],
      "source": [
        "# import data from google drive\n",
        "from google.colab import drive\n",
        "drive.mount('/content/drive',force_remount=True)"
      ]
    },
    {
      "cell_type": "code",
      "execution_count": 6,
      "metadata": {
        "id": "7jhy0Mlrw3xO"
      },
      "outputs": [],
      "source": [
        "# !unzip \"/content/drive/My Drive/MDA2022ProjectData.zip\" -d \"/content/drive/My Drive/MDA2022ProjectData\""
      ]
    },
    {
      "cell_type": "code",
      "execution_count": 7,
      "metadata": {
        "id": "uhTX2dv6xYlT"
      },
      "outputs": [],
      "source": [
        "# read data and creat dataframe\n",
        "df=spark.read.csv('/content/drive/My Drive/MDA2022ProjectData/MDA2022ProjectData.csv',header=True)"
      ]
    },
    {
      "cell_type": "code",
      "execution_count": 8,
      "metadata": {
        "colab": {
          "base_uri": "https://localhost:8080/"
        },
        "id": "sWi3riA6yszT",
        "outputId": "b23e095b-b852-49f9-f083-7b0a7525ea63"
      },
      "outputs": [
        {
          "name": "stdout",
          "output_type": "stream",
          "text": [
            "+-----------+---------+---------------+-------------+----------------+----------+-------------------+\n",
            "|DEVICE_CODE|SYSTEM_ID|ORIGINE_CAR_KEY|FINAL_CAR_KEY|CHECK_STATUS_KEY|COMPANY_ID|      PASS_DAY_TIME|\n",
            "+-----------+---------+---------------+-------------+----------------+----------+-------------------+\n",
            "|   22010047|      284|       63455590|     63455590|               6|       161|2021-12-22 00:59:30|\n",
            "|   22010054|      284|       63566637|     64111706|               7|       161|2021-12-22 01:24:58|\n",
            "|   22010057|      284|       63653636|     63653636|               6|       161|2021-12-22 00:46:37|\n",
            "|   22010039|      284|       63562975|     64111706|               7|       161|2021-12-22 00:27:32|\n",
            "|   22010053|      284|       63634047|     64111706|               7|       161|2021-12-22 01:29:24|\n",
            "+-----------+---------+---------------+-------------+----------------+----------+-------------------+\n",
            "only showing top 5 rows\n",
            "\n"
          ]
        }
      ],
      "source": [
        "#  showing top 5 rows of df\n",
        "df.show(5)"
      ]
    },
    {
      "cell_type": "code",
      "execution_count": 9,
      "metadata": {
        "colab": {
          "base_uri": "https://localhost:8080/"
        },
        "id": "C5MS4_tXzDGW",
        "outputId": "ecd38ae2-3df1-4d00-95db-78d91c863d7a"
      },
      "outputs": [
        {
          "name": "stdout",
          "output_type": "stream",
          "text": [
            "+-----------+-------------+-------------------+\n",
            "|DEVICE_CODE|FINAL_CAR_KEY|      PASS_DAY_TIME|\n",
            "+-----------+-------------+-------------------+\n",
            "|   22010054|     64111706|2021-12-22 01:24:18|\n",
            "|   22010040|     64111706|2021-12-22 01:40:29|\n",
            "|   22010079|     63348486|2021-12-22 01:14:32|\n",
            "|   22010053|     64111706|2021-12-22 00:32:33|\n",
            "|   22010044|     64111706|2021-12-22 01:25:06|\n",
            "+-----------+-------------+-------------------+\n",
            "only showing top 5 rows\n",
            "\n"
          ]
        }
      ],
      "source": [
        "#drop useless columns\n",
        "df = df[['DEVICE_CODE','FINAL_CAR_KEY','PASS_DAY_TIME']]\n",
        "df.show(5)"
      ]
    },
    {
      "cell_type": "code",
      "execution_count": 10,
      "metadata": {
        "id": "xu9Ih5Mo0BH7"
      },
      "outputs": [],
      "source": [
        "#add columns that show time and day of the week\n",
        "# Sunday:1 to Saturday:7 \n",
        "df_1 = df.withColumn('DAY_OF_WEEK',dayofweek(df.PASS_DAY_TIME))\n",
        "df_2 = df_1.withColumn('HOUR', hour(df_1.PASS_DAY_TIME))"
      ]
    },
    {
      "cell_type": "code",
      "execution_count": 12,
      "metadata": {
        "colab": {
          "base_uri": "https://localhost:8080/"
        },
        "id": "orRhnaxj00QU",
        "outputId": "2a00d9fd-3be6-415d-b9c2-ffdfe0a52374"
      },
      "outputs": [
        {
          "name": "stdout",
          "output_type": "stream",
          "text": [
            "+-----------+-------------+-------------------+-----------+----+\n",
            "|DEVICE_CODE|FINAL_CAR_KEY|      PASS_DAY_TIME|DAY_OF_WEEK|HOUR|\n",
            "+-----------+-------------+-------------------+-----------+----+\n",
            "|   22010054|     64111706|2021-12-22 01:24:18|          4|   1|\n",
            "|   22010040|     64111706|2021-12-22 01:40:29|          4|   1|\n",
            "|   22010079|     63348486|2021-12-22 01:14:32|          4|   1|\n",
            "|   22010053|     64111706|2021-12-22 00:32:33|          4|   0|\n",
            "|   22010044|     64111706|2021-12-22 01:25:06|          4|   1|\n",
            "+-----------+-------------+-------------------+-----------+----+\n",
            "only showing top 5 rows\n",
            "\n"
          ]
        }
      ],
      "source": [
        "df_2.show(5)"
      ]
    },
    {
      "cell_type": "markdown",
      "metadata": {
        "id": "l1EpGQW62WmE"
      },
      "source": [
        "# **Collaborative filtering on cameras**"
      ]
    },
    {
      "cell_type": "code",
      "execution_count": null,
      "metadata": {
        "id": "zD_FxkVk1JfT"
      },
      "outputs": [],
      "source": [
        "#creat  vector  7*24\n",
        "vec_7_24= np.zeros(shape=(df_2.select(df_2.DEVICE_CODE).distinct().count(),7,24))"
      ]
    },
    {
      "cell_type": "code",
      "execution_count": null,
      "metadata": {
        "colab": {
          "base_uri": "https://localhost:8080/"
        },
        "id": "Zv33KBn022A5",
        "outputId": "5d92e662-6b36-4374-d7e3-272bd69092eb"
      },
      "outputs": [
        {
          "name": "stdout",
          "output_type": "stream",
          "text": [
            "+-----------+-----------+----+-----+\n",
            "|DEVICE_CODE|DAY_OF_WEEK|HOUR|count|\n",
            "+-----------+-----------+----+-----+\n",
            "|    8106011|          4|  12|    1|\n",
            "|     631357|          4|   7|    1|\n",
            "|     631639|          4|  11|    1|\n",
            "|     202101|          4|   6|    1|\n",
            "|  100701090|          4|   6|    1|\n",
            "+-----------+-----------+----+-----+\n",
            "only showing top 5 rows\n",
            "\n"
          ]
        }
      ],
      "source": [
        "#creat dataframe with  DAY_OF_WEEK|HOUR|count columns\n",
        "device = [i.DEVICE_CODE for i in df_2.select('DEVICE_CODE').distinct().collect()]\n",
        "df_3 = df_2.groupby(['DEVICE_CODE','DAY_OF_WEEK','HOUR']).count()\n",
        "df_3.show(5)"
      ]
    },
    {
      "cell_type": "code",
      "execution_count": null,
      "metadata": {
        "id": "4L6sox2w5OCx"
      },
      "outputs": [],
      "source": [
        "#indexing the cameras\n",
        "device_dict = {}\n",
        "for i, devicecode in enumerate(device):\n",
        "    device_dict[i] = devicecode\n",
        "device_dict = {j: i for i, j in device_dict.items()}\n"
      ]
    },
    {
      "cell_type": "code",
      "execution_count": null,
      "metadata": {
        "id": "AHu9Cw3CigLz"
      },
      "outputs": [],
      "source": [
        "df_3_list=df_3.collect()"
      ]
    },
    {
      "cell_type": "code",
      "execution_count": null,
      "metadata": {
        "id": "qFu2Fl145ok2"
      },
      "outputs": [],
      "source": [
        "#fill the matrix based on the dataframe fields\n",
        "for cam,d,h,num in df_3_list:\n",
        "  vec_7_24[device_dict[cam],d-1,h-1] = num"
      ]
    },
    {
      "cell_type": "code",
      "execution_count": null,
      "metadata": {
        "id": "rvzHMcOJ6qhe"
      },
      "outputs": [],
      "source": [
        "# now we use CF on cameras\n",
        "user_item_matrix = np.zeros(shape=(len(device),7*24))\n",
        "for i in range(len(device)):\n",
        "   user_item_matrix[i] = vec_7_24[i].ravel()"
      ]
    },
    {
      "cell_type": "code",
      "execution_count": null,
      "metadata": {
        "colab": {
          "base_uri": "https://localhost:8080/",
          "height": 488
        },
        "id": "sQbsFHap7urF",
        "outputId": "757dfef0-1c2e-4376-a99a-254dbd72bf57"
      },
      "outputs": [
        {
          "data": {
            "text/html": [
              "\n",
              "  <div id=\"df-ac2bd276-eef0-4928-aa34-f7a0d8680f8c\">\n",
              "    <div class=\"colab-df-container\">\n",
              "      <div>\n",
              "<style scoped>\n",
              "    .dataframe tbody tr th:only-of-type {\n",
              "        vertical-align: middle;\n",
              "    }\n",
              "\n",
              "    .dataframe tbody tr th {\n",
              "        vertical-align: top;\n",
              "    }\n",
              "\n",
              "    .dataframe thead th {\n",
              "        text-align: right;\n",
              "    }\n",
              "</style>\n",
              "<table border=\"1\" class=\"dataframe\">\n",
              "  <thead>\n",
              "    <tr style=\"text-align: right;\">\n",
              "      <th></th>\n",
              "      <th>0</th>\n",
              "      <th>1</th>\n",
              "      <th>2</th>\n",
              "      <th>3</th>\n",
              "      <th>4</th>\n",
              "      <th>5</th>\n",
              "      <th>6</th>\n",
              "      <th>7</th>\n",
              "      <th>8</th>\n",
              "      <th>9</th>\n",
              "      <th>...</th>\n",
              "      <th>493</th>\n",
              "      <th>494</th>\n",
              "      <th>495</th>\n",
              "      <th>496</th>\n",
              "      <th>497</th>\n",
              "      <th>498</th>\n",
              "      <th>499</th>\n",
              "      <th>500</th>\n",
              "      <th>501</th>\n",
              "      <th>502</th>\n",
              "    </tr>\n",
              "  </thead>\n",
              "  <tbody>\n",
              "    <tr>\n",
              "      <th>0</th>\n",
              "      <td>1.000000</td>\n",
              "      <td>0.078795</td>\n",
              "      <td>-0.052688</td>\n",
              "      <td>-0.055431</td>\n",
              "      <td>0.017425</td>\n",
              "      <td>0.210939</td>\n",
              "      <td>-0.015515</td>\n",
              "      <td>0.030815</td>\n",
              "      <td>-0.083390</td>\n",
              "      <td>0.126806</td>\n",
              "      <td>...</td>\n",
              "      <td>-0.028858</td>\n",
              "      <td>0.196203</td>\n",
              "      <td>-0.028858</td>\n",
              "      <td>-0.061548</td>\n",
              "      <td>-0.028858</td>\n",
              "      <td>-0.028858</td>\n",
              "      <td>-0.028858</td>\n",
              "      <td>-0.028858</td>\n",
              "      <td>-0.040934</td>\n",
              "      <td>-0.028858</td>\n",
              "    </tr>\n",
              "    <tr>\n",
              "      <th>1</th>\n",
              "      <td>0.078795</td>\n",
              "      <td>1.000000</td>\n",
              "      <td>0.212567</td>\n",
              "      <td>0.013783</td>\n",
              "      <td>0.058303</td>\n",
              "      <td>0.013821</td>\n",
              "      <td>0.113017</td>\n",
              "      <td>0.250670</td>\n",
              "      <td>0.026741</td>\n",
              "      <td>0.048675</td>\n",
              "      <td>...</td>\n",
              "      <td>0.032118</td>\n",
              "      <td>0.110420</td>\n",
              "      <td>-0.059336</td>\n",
              "      <td>0.124227</td>\n",
              "      <td>0.215024</td>\n",
              "      <td>-0.059336</td>\n",
              "      <td>0.032118</td>\n",
              "      <td>-0.059336</td>\n",
              "      <td>-0.084166</td>\n",
              "      <td>-0.059336</td>\n",
              "    </tr>\n",
              "    <tr>\n",
              "      <th>2</th>\n",
              "      <td>-0.052688</td>\n",
              "      <td>0.212567</td>\n",
              "      <td>1.000000</td>\n",
              "      <td>0.047531</td>\n",
              "      <td>0.044383</td>\n",
              "      <td>0.046801</td>\n",
              "      <td>-0.048782</td>\n",
              "      <td>0.171729</td>\n",
              "      <td>0.236197</td>\n",
              "      <td>0.037092</td>\n",
              "      <td>...</td>\n",
              "      <td>-0.039631</td>\n",
              "      <td>-0.056215</td>\n",
              "      <td>-0.039631</td>\n",
              "      <td>-0.084524</td>\n",
              "      <td>-0.039631</td>\n",
              "      <td>-0.039631</td>\n",
              "      <td>-0.039631</td>\n",
              "      <td>-0.039631</td>\n",
              "      <td>-0.056215</td>\n",
              "      <td>0.099078</td>\n",
              "    </tr>\n",
              "    <tr>\n",
              "      <th>3</th>\n",
              "      <td>-0.055431</td>\n",
              "      <td>0.013783</td>\n",
              "      <td>0.047531</td>\n",
              "      <td>1.000000</td>\n",
              "      <td>0.053943</td>\n",
              "      <td>-0.061252</td>\n",
              "      <td>-0.085126</td>\n",
              "      <td>0.042674</td>\n",
              "      <td>0.230584</td>\n",
              "      <td>-0.000689</td>\n",
              "      <td>...</td>\n",
              "      <td>-0.020747</td>\n",
              "      <td>-0.029429</td>\n",
              "      <td>-0.020747</td>\n",
              "      <td>-0.044249</td>\n",
              "      <td>-0.020747</td>\n",
              "      <td>-0.020747</td>\n",
              "      <td>-0.020747</td>\n",
              "      <td>-0.020747</td>\n",
              "      <td>-0.029429</td>\n",
              "      <td>-0.020747</td>\n",
              "    </tr>\n",
              "    <tr>\n",
              "      <th>4</th>\n",
              "      <td>0.017425</td>\n",
              "      <td>0.058303</td>\n",
              "      <td>0.044383</td>\n",
              "      <td>0.053943</td>\n",
              "      <td>1.000000</td>\n",
              "      <td>0.087831</td>\n",
              "      <td>0.038020</td>\n",
              "      <td>0.151798</td>\n",
              "      <td>0.130359</td>\n",
              "      <td>-0.001053</td>\n",
              "      <td>...</td>\n",
              "      <td>0.173135</td>\n",
              "      <td>-0.044967</td>\n",
              "      <td>-0.031701</td>\n",
              "      <td>0.057208</td>\n",
              "      <td>-0.031701</td>\n",
              "      <td>-0.031701</td>\n",
              "      <td>-0.031701</td>\n",
              "      <td>-0.031701</td>\n",
              "      <td>0.100310</td>\n",
              "      <td>-0.031701</td>\n",
              "    </tr>\n",
              "    <tr>\n",
              "      <th>...</th>\n",
              "      <td>...</td>\n",
              "      <td>...</td>\n",
              "      <td>...</td>\n",
              "      <td>...</td>\n",
              "      <td>...</td>\n",
              "      <td>...</td>\n",
              "      <td>...</td>\n",
              "      <td>...</td>\n",
              "      <td>...</td>\n",
              "      <td>...</td>\n",
              "      <td>...</td>\n",
              "      <td>...</td>\n",
              "      <td>...</td>\n",
              "      <td>...</td>\n",
              "      <td>...</td>\n",
              "      <td>...</td>\n",
              "      <td>...</td>\n",
              "      <td>...</td>\n",
              "      <td>...</td>\n",
              "      <td>...</td>\n",
              "      <td>...</td>\n",
              "    </tr>\n",
              "    <tr>\n",
              "      <th>498</th>\n",
              "      <td>-0.028858</td>\n",
              "      <td>-0.059336</td>\n",
              "      <td>-0.039631</td>\n",
              "      <td>-0.020747</td>\n",
              "      <td>-0.031701</td>\n",
              "      <td>-0.017678</td>\n",
              "      <td>-0.024569</td>\n",
              "      <td>-0.044933</td>\n",
              "      <td>-0.017303</td>\n",
              "      <td>0.111224</td>\n",
              "      <td>...</td>\n",
              "      <td>-0.005988</td>\n",
              "      <td>-0.008494</td>\n",
              "      <td>-0.005988</td>\n",
              "      <td>0.293733</td>\n",
              "      <td>-0.005988</td>\n",
              "      <td>1.000000</td>\n",
              "      <td>-0.005988</td>\n",
              "      <td>-0.005988</td>\n",
              "      <td>-0.008494</td>\n",
              "      <td>-0.005988</td>\n",
              "    </tr>\n",
              "    <tr>\n",
              "      <th>499</th>\n",
              "      <td>-0.028858</td>\n",
              "      <td>0.032118</td>\n",
              "      <td>-0.039631</td>\n",
              "      <td>-0.020747</td>\n",
              "      <td>-0.031701</td>\n",
              "      <td>-0.017678</td>\n",
              "      <td>-0.024569</td>\n",
              "      <td>-0.044933</td>\n",
              "      <td>-0.017303</td>\n",
              "      <td>-0.033626</td>\n",
              "      <td>...</td>\n",
              "      <td>-0.005988</td>\n",
              "      <td>-0.008494</td>\n",
              "      <td>-0.005988</td>\n",
              "      <td>-0.012771</td>\n",
              "      <td>-0.005988</td>\n",
              "      <td>-0.005988</td>\n",
              "      <td>1.000000</td>\n",
              "      <td>-0.005988</td>\n",
              "      <td>-0.008494</td>\n",
              "      <td>-0.005988</td>\n",
              "    </tr>\n",
              "    <tr>\n",
              "      <th>500</th>\n",
              "      <td>-0.028858</td>\n",
              "      <td>-0.059336</td>\n",
              "      <td>-0.039631</td>\n",
              "      <td>-0.020747</td>\n",
              "      <td>-0.031701</td>\n",
              "      <td>-0.017678</td>\n",
              "      <td>-0.024569</td>\n",
              "      <td>-0.044933</td>\n",
              "      <td>-0.017303</td>\n",
              "      <td>-0.033626</td>\n",
              "      <td>...</td>\n",
              "      <td>-0.005988</td>\n",
              "      <td>-0.008494</td>\n",
              "      <td>-0.005988</td>\n",
              "      <td>-0.012771</td>\n",
              "      <td>-0.005988</td>\n",
              "      <td>-0.005988</td>\n",
              "      <td>-0.005988</td>\n",
              "      <td>1.000000</td>\n",
              "      <td>-0.008494</td>\n",
              "      <td>-0.005988</td>\n",
              "    </tr>\n",
              "    <tr>\n",
              "      <th>501</th>\n",
              "      <td>-0.040934</td>\n",
              "      <td>-0.084166</td>\n",
              "      <td>-0.056215</td>\n",
              "      <td>-0.029429</td>\n",
              "      <td>0.100310</td>\n",
              "      <td>0.396205</td>\n",
              "      <td>-0.034850</td>\n",
              "      <td>-0.063736</td>\n",
              "      <td>-0.024544</td>\n",
              "      <td>-0.047697</td>\n",
              "      <td>...</td>\n",
              "      <td>-0.008494</td>\n",
              "      <td>-0.012048</td>\n",
              "      <td>-0.008494</td>\n",
              "      <td>-0.018115</td>\n",
              "      <td>-0.008494</td>\n",
              "      <td>-0.008494</td>\n",
              "      <td>-0.008494</td>\n",
              "      <td>-0.008494</td>\n",
              "      <td>1.000000</td>\n",
              "      <td>-0.008494</td>\n",
              "    </tr>\n",
              "    <tr>\n",
              "      <th>502</th>\n",
              "      <td>-0.028858</td>\n",
              "      <td>-0.059336</td>\n",
              "      <td>0.099078</td>\n",
              "      <td>-0.020747</td>\n",
              "      <td>-0.031701</td>\n",
              "      <td>-0.017678</td>\n",
              "      <td>-0.024569</td>\n",
              "      <td>-0.044933</td>\n",
              "      <td>-0.017303</td>\n",
              "      <td>-0.033626</td>\n",
              "      <td>...</td>\n",
              "      <td>-0.005988</td>\n",
              "      <td>-0.008494</td>\n",
              "      <td>-0.005988</td>\n",
              "      <td>-0.012771</td>\n",
              "      <td>-0.005988</td>\n",
              "      <td>-0.005988</td>\n",
              "      <td>-0.005988</td>\n",
              "      <td>-0.005988</td>\n",
              "      <td>-0.008494</td>\n",
              "      <td>1.000000</td>\n",
              "    </tr>\n",
              "  </tbody>\n",
              "</table>\n",
              "<p>503 rows × 503 columns</p>\n",
              "</div>\n",
              "      <button class=\"colab-df-convert\" onclick=\"convertToInteractive('df-ac2bd276-eef0-4928-aa34-f7a0d8680f8c')\"\n",
              "              title=\"Convert this dataframe to an interactive table.\"\n",
              "              style=\"display:none;\">\n",
              "        \n",
              "  <svg xmlns=\"http://www.w3.org/2000/svg\" height=\"24px\"viewBox=\"0 0 24 24\"\n",
              "       width=\"24px\">\n",
              "    <path d=\"M0 0h24v24H0V0z\" fill=\"none\"/>\n",
              "    <path d=\"M18.56 5.44l.94 2.06.94-2.06 2.06-.94-2.06-.94-.94-2.06-.94 2.06-2.06.94zm-11 1L8.5 8.5l.94-2.06 2.06-.94-2.06-.94L8.5 2.5l-.94 2.06-2.06.94zm10 10l.94 2.06.94-2.06 2.06-.94-2.06-.94-.94-2.06-.94 2.06-2.06.94z\"/><path d=\"M17.41 7.96l-1.37-1.37c-.4-.4-.92-.59-1.43-.59-.52 0-1.04.2-1.43.59L10.3 9.45l-7.72 7.72c-.78.78-.78 2.05 0 2.83L4 21.41c.39.39.9.59 1.41.59.51 0 1.02-.2 1.41-.59l7.78-7.78 2.81-2.81c.8-.78.8-2.07 0-2.86zM5.41 20L4 18.59l7.72-7.72 1.47 1.35L5.41 20z\"/>\n",
              "  </svg>\n",
              "      </button>\n",
              "      \n",
              "  <style>\n",
              "    .colab-df-container {\n",
              "      display:flex;\n",
              "      flex-wrap:wrap;\n",
              "      gap: 12px;\n",
              "    }\n",
              "\n",
              "    .colab-df-convert {\n",
              "      background-color: #E8F0FE;\n",
              "      border: none;\n",
              "      border-radius: 50%;\n",
              "      cursor: pointer;\n",
              "      display: none;\n",
              "      fill: #1967D2;\n",
              "      height: 32px;\n",
              "      padding: 0 0 0 0;\n",
              "      width: 32px;\n",
              "    }\n",
              "\n",
              "    .colab-df-convert:hover {\n",
              "      background-color: #E2EBFA;\n",
              "      box-shadow: 0px 1px 2px rgba(60, 64, 67, 0.3), 0px 1px 3px 1px rgba(60, 64, 67, 0.15);\n",
              "      fill: #174EA6;\n",
              "    }\n",
              "\n",
              "    [theme=dark] .colab-df-convert {\n",
              "      background-color: #3B4455;\n",
              "      fill: #D2E3FC;\n",
              "    }\n",
              "\n",
              "    [theme=dark] .colab-df-convert:hover {\n",
              "      background-color: #434B5C;\n",
              "      box-shadow: 0px 1px 3px 1px rgba(0, 0, 0, 0.15);\n",
              "      filter: drop-shadow(0px 1px 2px rgba(0, 0, 0, 0.3));\n",
              "      fill: #FFFFFF;\n",
              "    }\n",
              "  </style>\n",
              "\n",
              "      <script>\n",
              "        const buttonEl =\n",
              "          document.querySelector('#df-ac2bd276-eef0-4928-aa34-f7a0d8680f8c button.colab-df-convert');\n",
              "        buttonEl.style.display =\n",
              "          google.colab.kernel.accessAllowed ? 'block' : 'none';\n",
              "\n",
              "        async function convertToInteractive(key) {\n",
              "          const element = document.querySelector('#df-ac2bd276-eef0-4928-aa34-f7a0d8680f8c');\n",
              "          const dataTable =\n",
              "            await google.colab.kernel.invokeFunction('convertToInteractive',\n",
              "                                                     [key], {});\n",
              "          if (!dataTable) return;\n",
              "\n",
              "          const docLinkHtml = 'Like what you see? Visit the ' +\n",
              "            '<a target=\"_blank\" href=https://colab.research.google.com/notebooks/data_table.ipynb>data table notebook</a>'\n",
              "            + ' to learn more about interactive tables.';\n",
              "          element.innerHTML = '';\n",
              "          dataTable['output_type'] = 'display_data';\n",
              "          await google.colab.output.renderOutput(dataTable, element);\n",
              "          const docLink = document.createElement('div');\n",
              "          docLink.innerHTML = docLinkHtml;\n",
              "          element.appendChild(docLink);\n",
              "        }\n",
              "      </script>\n",
              "    </div>\n",
              "  </div>\n",
              "  "
            ],
            "text/plain": [
              "          0         1         2         3         4         5         6    \\\n",
              "0    1.000000  0.078795 -0.052688 -0.055431  0.017425  0.210939 -0.015515   \n",
              "1    0.078795  1.000000  0.212567  0.013783  0.058303  0.013821  0.113017   \n",
              "2   -0.052688  0.212567  1.000000  0.047531  0.044383  0.046801 -0.048782   \n",
              "3   -0.055431  0.013783  0.047531  1.000000  0.053943 -0.061252 -0.085126   \n",
              "4    0.017425  0.058303  0.044383  0.053943  1.000000  0.087831  0.038020   \n",
              "..        ...       ...       ...       ...       ...       ...       ...   \n",
              "498 -0.028858 -0.059336 -0.039631 -0.020747 -0.031701 -0.017678 -0.024569   \n",
              "499 -0.028858  0.032118 -0.039631 -0.020747 -0.031701 -0.017678 -0.024569   \n",
              "500 -0.028858 -0.059336 -0.039631 -0.020747 -0.031701 -0.017678 -0.024569   \n",
              "501 -0.040934 -0.084166 -0.056215 -0.029429  0.100310  0.396205 -0.034850   \n",
              "502 -0.028858 -0.059336  0.099078 -0.020747 -0.031701 -0.017678 -0.024569   \n",
              "\n",
              "          7         8         9    ...       493       494       495  \\\n",
              "0    0.030815 -0.083390  0.126806  ... -0.028858  0.196203 -0.028858   \n",
              "1    0.250670  0.026741  0.048675  ...  0.032118  0.110420 -0.059336   \n",
              "2    0.171729  0.236197  0.037092  ... -0.039631 -0.056215 -0.039631   \n",
              "3    0.042674  0.230584 -0.000689  ... -0.020747 -0.029429 -0.020747   \n",
              "4    0.151798  0.130359 -0.001053  ...  0.173135 -0.044967 -0.031701   \n",
              "..        ...       ...       ...  ...       ...       ...       ...   \n",
              "498 -0.044933 -0.017303  0.111224  ... -0.005988 -0.008494 -0.005988   \n",
              "499 -0.044933 -0.017303 -0.033626  ... -0.005988 -0.008494 -0.005988   \n",
              "500 -0.044933 -0.017303 -0.033626  ... -0.005988 -0.008494 -0.005988   \n",
              "501 -0.063736 -0.024544 -0.047697  ... -0.008494 -0.012048 -0.008494   \n",
              "502 -0.044933 -0.017303 -0.033626  ... -0.005988 -0.008494 -0.005988   \n",
              "\n",
              "          496       497       498       499       500       501       502  \n",
              "0   -0.061548 -0.028858 -0.028858 -0.028858 -0.028858 -0.040934 -0.028858  \n",
              "1    0.124227  0.215024 -0.059336  0.032118 -0.059336 -0.084166 -0.059336  \n",
              "2   -0.084524 -0.039631 -0.039631 -0.039631 -0.039631 -0.056215  0.099078  \n",
              "3   -0.044249 -0.020747 -0.020747 -0.020747 -0.020747 -0.029429 -0.020747  \n",
              "4    0.057208 -0.031701 -0.031701 -0.031701 -0.031701  0.100310 -0.031701  \n",
              "..        ...       ...       ...       ...       ...       ...       ...  \n",
              "498  0.293733 -0.005988  1.000000 -0.005988 -0.005988 -0.008494 -0.005988  \n",
              "499 -0.012771 -0.005988 -0.005988  1.000000 -0.005988 -0.008494 -0.005988  \n",
              "500 -0.012771 -0.005988 -0.005988 -0.005988  1.000000 -0.008494 -0.005988  \n",
              "501 -0.018115 -0.008494 -0.008494 -0.008494 -0.008494  1.000000 -0.008494  \n",
              "502 -0.012771 -0.005988 -0.005988 -0.005988 -0.005988 -0.008494  1.000000  \n",
              "\n",
              "[503 rows x 503 columns]"
            ]
          },
          "execution_count": 65,
          "metadata": {},
          "output_type": "execute_result"
        }
      ],
      "source": [
        "#calculating correlation by corr() methode\n",
        "user_item_df = pd.DataFrame(user_item_matrix)\n",
        "cor_df = user_item_df.T.corr()\n",
        "cor_df"
      ]
    },
    {
      "cell_type": "code",
      "execution_count": null,
      "metadata": {
        "colab": {
          "base_uri": "https://localhost:8080/",
          "height": 488
        },
        "id": "psFYt2u08qka",
        "outputId": "68f3ee0d-51bb-44c2-f406-30d0550e40d6"
      },
      "outputs": [
        {
          "data": {
            "text/html": [
              "\n",
              "  <div id=\"df-4feff2ff-3ff2-4d5c-bfee-1c02f1c2dece\">\n",
              "    <div class=\"colab-df-container\">\n",
              "      <div>\n",
              "<style scoped>\n",
              "    .dataframe tbody tr th:only-of-type {\n",
              "        vertical-align: middle;\n",
              "    }\n",
              "\n",
              "    .dataframe tbody tr th {\n",
              "        vertical-align: top;\n",
              "    }\n",
              "\n",
              "    .dataframe thead th {\n",
              "        text-align: right;\n",
              "    }\n",
              "</style>\n",
              "<table border=\"1\" class=\"dataframe\">\n",
              "  <thead>\n",
              "    <tr style=\"text-align: right;\">\n",
              "      <th></th>\n",
              "      <th>0</th>\n",
              "      <th>1</th>\n",
              "      <th>2</th>\n",
              "      <th>3</th>\n",
              "      <th>4</th>\n",
              "      <th>5</th>\n",
              "      <th>6</th>\n",
              "      <th>7</th>\n",
              "      <th>8</th>\n",
              "      <th>9</th>\n",
              "      <th>...</th>\n",
              "      <th>493</th>\n",
              "      <th>494</th>\n",
              "      <th>495</th>\n",
              "      <th>496</th>\n",
              "      <th>497</th>\n",
              "      <th>498</th>\n",
              "      <th>499</th>\n",
              "      <th>500</th>\n",
              "      <th>501</th>\n",
              "      <th>502</th>\n",
              "    </tr>\n",
              "  </thead>\n",
              "  <tbody>\n",
              "    <tr>\n",
              "      <th>0</th>\n",
              "      <td>0.000000</td>\n",
              "      <td>0.000000</td>\n",
              "      <td>0.000000</td>\n",
              "      <td>0.000000</td>\n",
              "      <td>0.000000</td>\n",
              "      <td>0.000000</td>\n",
              "      <td>0.000000</td>\n",
              "      <td>0.000000</td>\n",
              "      <td>0.000000</td>\n",
              "      <td>0.000000</td>\n",
              "      <td>...</td>\n",
              "      <td>0.000000</td>\n",
              "      <td>0.000000</td>\n",
              "      <td>0.000000</td>\n",
              "      <td>0.000000</td>\n",
              "      <td>0.000000</td>\n",
              "      <td>0.000000</td>\n",
              "      <td>0.000000</td>\n",
              "      <td>0.000000</td>\n",
              "      <td>0.000000</td>\n",
              "      <td>0.0</td>\n",
              "    </tr>\n",
              "    <tr>\n",
              "      <th>1</th>\n",
              "      <td>0.078795</td>\n",
              "      <td>0.000000</td>\n",
              "      <td>0.000000</td>\n",
              "      <td>0.000000</td>\n",
              "      <td>0.000000</td>\n",
              "      <td>0.000000</td>\n",
              "      <td>0.000000</td>\n",
              "      <td>0.000000</td>\n",
              "      <td>0.000000</td>\n",
              "      <td>0.000000</td>\n",
              "      <td>...</td>\n",
              "      <td>0.000000</td>\n",
              "      <td>0.000000</td>\n",
              "      <td>0.000000</td>\n",
              "      <td>0.000000</td>\n",
              "      <td>0.000000</td>\n",
              "      <td>0.000000</td>\n",
              "      <td>0.000000</td>\n",
              "      <td>0.000000</td>\n",
              "      <td>0.000000</td>\n",
              "      <td>0.0</td>\n",
              "    </tr>\n",
              "    <tr>\n",
              "      <th>2</th>\n",
              "      <td>-0.052688</td>\n",
              "      <td>0.212567</td>\n",
              "      <td>0.000000</td>\n",
              "      <td>0.000000</td>\n",
              "      <td>0.000000</td>\n",
              "      <td>0.000000</td>\n",
              "      <td>0.000000</td>\n",
              "      <td>0.000000</td>\n",
              "      <td>0.000000</td>\n",
              "      <td>0.000000</td>\n",
              "      <td>...</td>\n",
              "      <td>0.000000</td>\n",
              "      <td>0.000000</td>\n",
              "      <td>0.000000</td>\n",
              "      <td>0.000000</td>\n",
              "      <td>0.000000</td>\n",
              "      <td>0.000000</td>\n",
              "      <td>0.000000</td>\n",
              "      <td>0.000000</td>\n",
              "      <td>0.000000</td>\n",
              "      <td>0.0</td>\n",
              "    </tr>\n",
              "    <tr>\n",
              "      <th>3</th>\n",
              "      <td>-0.055431</td>\n",
              "      <td>0.013783</td>\n",
              "      <td>0.047531</td>\n",
              "      <td>0.000000</td>\n",
              "      <td>0.000000</td>\n",
              "      <td>0.000000</td>\n",
              "      <td>0.000000</td>\n",
              "      <td>0.000000</td>\n",
              "      <td>0.000000</td>\n",
              "      <td>0.000000</td>\n",
              "      <td>...</td>\n",
              "      <td>0.000000</td>\n",
              "      <td>0.000000</td>\n",
              "      <td>0.000000</td>\n",
              "      <td>0.000000</td>\n",
              "      <td>0.000000</td>\n",
              "      <td>0.000000</td>\n",
              "      <td>0.000000</td>\n",
              "      <td>0.000000</td>\n",
              "      <td>0.000000</td>\n",
              "      <td>0.0</td>\n",
              "    </tr>\n",
              "    <tr>\n",
              "      <th>4</th>\n",
              "      <td>0.017425</td>\n",
              "      <td>0.058303</td>\n",
              "      <td>0.044383</td>\n",
              "      <td>0.053943</td>\n",
              "      <td>0.000000</td>\n",
              "      <td>0.000000</td>\n",
              "      <td>0.000000</td>\n",
              "      <td>0.000000</td>\n",
              "      <td>0.000000</td>\n",
              "      <td>0.000000</td>\n",
              "      <td>...</td>\n",
              "      <td>0.000000</td>\n",
              "      <td>0.000000</td>\n",
              "      <td>0.000000</td>\n",
              "      <td>0.000000</td>\n",
              "      <td>0.000000</td>\n",
              "      <td>0.000000</td>\n",
              "      <td>0.000000</td>\n",
              "      <td>0.000000</td>\n",
              "      <td>0.000000</td>\n",
              "      <td>0.0</td>\n",
              "    </tr>\n",
              "    <tr>\n",
              "      <th>...</th>\n",
              "      <td>...</td>\n",
              "      <td>...</td>\n",
              "      <td>...</td>\n",
              "      <td>...</td>\n",
              "      <td>...</td>\n",
              "      <td>...</td>\n",
              "      <td>...</td>\n",
              "      <td>...</td>\n",
              "      <td>...</td>\n",
              "      <td>...</td>\n",
              "      <td>...</td>\n",
              "      <td>...</td>\n",
              "      <td>...</td>\n",
              "      <td>...</td>\n",
              "      <td>...</td>\n",
              "      <td>...</td>\n",
              "      <td>...</td>\n",
              "      <td>...</td>\n",
              "      <td>...</td>\n",
              "      <td>...</td>\n",
              "      <td>...</td>\n",
              "    </tr>\n",
              "    <tr>\n",
              "      <th>498</th>\n",
              "      <td>-0.028858</td>\n",
              "      <td>-0.059336</td>\n",
              "      <td>-0.039631</td>\n",
              "      <td>-0.020747</td>\n",
              "      <td>-0.031701</td>\n",
              "      <td>-0.017678</td>\n",
              "      <td>-0.024569</td>\n",
              "      <td>-0.044933</td>\n",
              "      <td>-0.017303</td>\n",
              "      <td>0.111224</td>\n",
              "      <td>...</td>\n",
              "      <td>-0.005988</td>\n",
              "      <td>-0.008494</td>\n",
              "      <td>-0.005988</td>\n",
              "      <td>0.293733</td>\n",
              "      <td>-0.005988</td>\n",
              "      <td>0.000000</td>\n",
              "      <td>0.000000</td>\n",
              "      <td>0.000000</td>\n",
              "      <td>0.000000</td>\n",
              "      <td>0.0</td>\n",
              "    </tr>\n",
              "    <tr>\n",
              "      <th>499</th>\n",
              "      <td>-0.028858</td>\n",
              "      <td>0.032118</td>\n",
              "      <td>-0.039631</td>\n",
              "      <td>-0.020747</td>\n",
              "      <td>-0.031701</td>\n",
              "      <td>-0.017678</td>\n",
              "      <td>-0.024569</td>\n",
              "      <td>-0.044933</td>\n",
              "      <td>-0.017303</td>\n",
              "      <td>-0.033626</td>\n",
              "      <td>...</td>\n",
              "      <td>-0.005988</td>\n",
              "      <td>-0.008494</td>\n",
              "      <td>-0.005988</td>\n",
              "      <td>-0.012771</td>\n",
              "      <td>-0.005988</td>\n",
              "      <td>-0.005988</td>\n",
              "      <td>0.000000</td>\n",
              "      <td>0.000000</td>\n",
              "      <td>0.000000</td>\n",
              "      <td>0.0</td>\n",
              "    </tr>\n",
              "    <tr>\n",
              "      <th>500</th>\n",
              "      <td>-0.028858</td>\n",
              "      <td>-0.059336</td>\n",
              "      <td>-0.039631</td>\n",
              "      <td>-0.020747</td>\n",
              "      <td>-0.031701</td>\n",
              "      <td>-0.017678</td>\n",
              "      <td>-0.024569</td>\n",
              "      <td>-0.044933</td>\n",
              "      <td>-0.017303</td>\n",
              "      <td>-0.033626</td>\n",
              "      <td>...</td>\n",
              "      <td>-0.005988</td>\n",
              "      <td>-0.008494</td>\n",
              "      <td>-0.005988</td>\n",
              "      <td>-0.012771</td>\n",
              "      <td>-0.005988</td>\n",
              "      <td>-0.005988</td>\n",
              "      <td>-0.005988</td>\n",
              "      <td>0.000000</td>\n",
              "      <td>0.000000</td>\n",
              "      <td>0.0</td>\n",
              "    </tr>\n",
              "    <tr>\n",
              "      <th>501</th>\n",
              "      <td>-0.040934</td>\n",
              "      <td>-0.084166</td>\n",
              "      <td>-0.056215</td>\n",
              "      <td>-0.029429</td>\n",
              "      <td>0.100310</td>\n",
              "      <td>0.396205</td>\n",
              "      <td>-0.034850</td>\n",
              "      <td>-0.063736</td>\n",
              "      <td>-0.024544</td>\n",
              "      <td>-0.047697</td>\n",
              "      <td>...</td>\n",
              "      <td>-0.008494</td>\n",
              "      <td>-0.012048</td>\n",
              "      <td>-0.008494</td>\n",
              "      <td>-0.018115</td>\n",
              "      <td>-0.008494</td>\n",
              "      <td>-0.008494</td>\n",
              "      <td>-0.008494</td>\n",
              "      <td>-0.008494</td>\n",
              "      <td>0.000000</td>\n",
              "      <td>0.0</td>\n",
              "    </tr>\n",
              "    <tr>\n",
              "      <th>502</th>\n",
              "      <td>-0.028858</td>\n",
              "      <td>-0.059336</td>\n",
              "      <td>0.099078</td>\n",
              "      <td>-0.020747</td>\n",
              "      <td>-0.031701</td>\n",
              "      <td>-0.017678</td>\n",
              "      <td>-0.024569</td>\n",
              "      <td>-0.044933</td>\n",
              "      <td>-0.017303</td>\n",
              "      <td>-0.033626</td>\n",
              "      <td>...</td>\n",
              "      <td>-0.005988</td>\n",
              "      <td>-0.008494</td>\n",
              "      <td>-0.005988</td>\n",
              "      <td>-0.012771</td>\n",
              "      <td>-0.005988</td>\n",
              "      <td>-0.005988</td>\n",
              "      <td>-0.005988</td>\n",
              "      <td>-0.005988</td>\n",
              "      <td>-0.008494</td>\n",
              "      <td>0.0</td>\n",
              "    </tr>\n",
              "  </tbody>\n",
              "</table>\n",
              "<p>503 rows × 503 columns</p>\n",
              "</div>\n",
              "      <button class=\"colab-df-convert\" onclick=\"convertToInteractive('df-4feff2ff-3ff2-4d5c-bfee-1c02f1c2dece')\"\n",
              "              title=\"Convert this dataframe to an interactive table.\"\n",
              "              style=\"display:none;\">\n",
              "        \n",
              "  <svg xmlns=\"http://www.w3.org/2000/svg\" height=\"24px\"viewBox=\"0 0 24 24\"\n",
              "       width=\"24px\">\n",
              "    <path d=\"M0 0h24v24H0V0z\" fill=\"none\"/>\n",
              "    <path d=\"M18.56 5.44l.94 2.06.94-2.06 2.06-.94-2.06-.94-.94-2.06-.94 2.06-2.06.94zm-11 1L8.5 8.5l.94-2.06 2.06-.94-2.06-.94L8.5 2.5l-.94 2.06-2.06.94zm10 10l.94 2.06.94-2.06 2.06-.94-2.06-.94-.94-2.06-.94 2.06-2.06.94z\"/><path d=\"M17.41 7.96l-1.37-1.37c-.4-.4-.92-.59-1.43-.59-.52 0-1.04.2-1.43.59L10.3 9.45l-7.72 7.72c-.78.78-.78 2.05 0 2.83L4 21.41c.39.39.9.59 1.41.59.51 0 1.02-.2 1.41-.59l7.78-7.78 2.81-2.81c.8-.78.8-2.07 0-2.86zM5.41 20L4 18.59l7.72-7.72 1.47 1.35L5.41 20z\"/>\n",
              "  </svg>\n",
              "      </button>\n",
              "      \n",
              "  <style>\n",
              "    .colab-df-container {\n",
              "      display:flex;\n",
              "      flex-wrap:wrap;\n",
              "      gap: 12px;\n",
              "    }\n",
              "\n",
              "    .colab-df-convert {\n",
              "      background-color: #E8F0FE;\n",
              "      border: none;\n",
              "      border-radius: 50%;\n",
              "      cursor: pointer;\n",
              "      display: none;\n",
              "      fill: #1967D2;\n",
              "      height: 32px;\n",
              "      padding: 0 0 0 0;\n",
              "      width: 32px;\n",
              "    }\n",
              "\n",
              "    .colab-df-convert:hover {\n",
              "      background-color: #E2EBFA;\n",
              "      box-shadow: 0px 1px 2px rgba(60, 64, 67, 0.3), 0px 1px 3px 1px rgba(60, 64, 67, 0.15);\n",
              "      fill: #174EA6;\n",
              "    }\n",
              "\n",
              "    [theme=dark] .colab-df-convert {\n",
              "      background-color: #3B4455;\n",
              "      fill: #D2E3FC;\n",
              "    }\n",
              "\n",
              "    [theme=dark] .colab-df-convert:hover {\n",
              "      background-color: #434B5C;\n",
              "      box-shadow: 0px 1px 3px 1px rgba(0, 0, 0, 0.15);\n",
              "      filter: drop-shadow(0px 1px 2px rgba(0, 0, 0, 0.3));\n",
              "      fill: #FFFFFF;\n",
              "    }\n",
              "  </style>\n",
              "\n",
              "      <script>\n",
              "        const buttonEl =\n",
              "          document.querySelector('#df-4feff2ff-3ff2-4d5c-bfee-1c02f1c2dece button.colab-df-convert');\n",
              "        buttonEl.style.display =\n",
              "          google.colab.kernel.accessAllowed ? 'block' : 'none';\n",
              "\n",
              "        async function convertToInteractive(key) {\n",
              "          const element = document.querySelector('#df-4feff2ff-3ff2-4d5c-bfee-1c02f1c2dece');\n",
              "          const dataTable =\n",
              "            await google.colab.kernel.invokeFunction('convertToInteractive',\n",
              "                                                     [key], {});\n",
              "          if (!dataTable) return;\n",
              "\n",
              "          const docLinkHtml = 'Like what you see? Visit the ' +\n",
              "            '<a target=\"_blank\" href=https://colab.research.google.com/notebooks/data_table.ipynb>data table notebook</a>'\n",
              "            + ' to learn more about interactive tables.';\n",
              "          element.innerHTML = '';\n",
              "          dataTable['output_type'] = 'display_data';\n",
              "          await google.colab.output.renderOutput(dataTable, element);\n",
              "          const docLink = document.createElement('div');\n",
              "          docLink.innerHTML = docLinkHtml;\n",
              "          element.appendChild(docLink);\n",
              "        }\n",
              "      </script>\n",
              "    </div>\n",
              "  </div>\n",
              "  "
            ],
            "text/plain": [
              "          0         1         2         3         4         5         6    \\\n",
              "0    0.000000  0.000000  0.000000  0.000000  0.000000  0.000000  0.000000   \n",
              "1    0.078795  0.000000  0.000000  0.000000  0.000000  0.000000  0.000000   \n",
              "2   -0.052688  0.212567  0.000000  0.000000  0.000000  0.000000  0.000000   \n",
              "3   -0.055431  0.013783  0.047531  0.000000  0.000000  0.000000  0.000000   \n",
              "4    0.017425  0.058303  0.044383  0.053943  0.000000  0.000000  0.000000   \n",
              "..        ...       ...       ...       ...       ...       ...       ...   \n",
              "498 -0.028858 -0.059336 -0.039631 -0.020747 -0.031701 -0.017678 -0.024569   \n",
              "499 -0.028858  0.032118 -0.039631 -0.020747 -0.031701 -0.017678 -0.024569   \n",
              "500 -0.028858 -0.059336 -0.039631 -0.020747 -0.031701 -0.017678 -0.024569   \n",
              "501 -0.040934 -0.084166 -0.056215 -0.029429  0.100310  0.396205 -0.034850   \n",
              "502 -0.028858 -0.059336  0.099078 -0.020747 -0.031701 -0.017678 -0.024569   \n",
              "\n",
              "          7         8         9    ...       493       494       495  \\\n",
              "0    0.000000  0.000000  0.000000  ...  0.000000  0.000000  0.000000   \n",
              "1    0.000000  0.000000  0.000000  ...  0.000000  0.000000  0.000000   \n",
              "2    0.000000  0.000000  0.000000  ...  0.000000  0.000000  0.000000   \n",
              "3    0.000000  0.000000  0.000000  ...  0.000000  0.000000  0.000000   \n",
              "4    0.000000  0.000000  0.000000  ...  0.000000  0.000000  0.000000   \n",
              "..        ...       ...       ...  ...       ...       ...       ...   \n",
              "498 -0.044933 -0.017303  0.111224  ... -0.005988 -0.008494 -0.005988   \n",
              "499 -0.044933 -0.017303 -0.033626  ... -0.005988 -0.008494 -0.005988   \n",
              "500 -0.044933 -0.017303 -0.033626  ... -0.005988 -0.008494 -0.005988   \n",
              "501 -0.063736 -0.024544 -0.047697  ... -0.008494 -0.012048 -0.008494   \n",
              "502 -0.044933 -0.017303 -0.033626  ... -0.005988 -0.008494 -0.005988   \n",
              "\n",
              "          496       497       498       499       500       501  502  \n",
              "0    0.000000  0.000000  0.000000  0.000000  0.000000  0.000000  0.0  \n",
              "1    0.000000  0.000000  0.000000  0.000000  0.000000  0.000000  0.0  \n",
              "2    0.000000  0.000000  0.000000  0.000000  0.000000  0.000000  0.0  \n",
              "3    0.000000  0.000000  0.000000  0.000000  0.000000  0.000000  0.0  \n",
              "4    0.000000  0.000000  0.000000  0.000000  0.000000  0.000000  0.0  \n",
              "..        ...       ...       ...       ...       ...       ...  ...  \n",
              "498  0.293733 -0.005988  0.000000  0.000000  0.000000  0.000000  0.0  \n",
              "499 -0.012771 -0.005988 -0.005988  0.000000  0.000000  0.000000  0.0  \n",
              "500 -0.012771 -0.005988 -0.005988 -0.005988  0.000000  0.000000  0.0  \n",
              "501 -0.018115 -0.008494 -0.008494 -0.008494 -0.008494  0.000000  0.0  \n",
              "502 -0.012771 -0.005988 -0.005988 -0.005988 -0.005988 -0.008494  0.0  \n",
              "\n",
              "[503 rows x 503 columns]"
            ]
          },
          "execution_count": 66,
          "metadata": {},
          "output_type": "execute_result"
        }
      ],
      "source": [
        "cor_df = np.tril(cor_df,-1)\n",
        "pd.DataFrame(cor_df)"
      ]
    },
    {
      "cell_type": "code",
      "execution_count": null,
      "metadata": {
        "id": "NOPBhZnh9Azw"
      },
      "outputs": [],
      "source": [
        "idx = np.unravel_index(np.argsort(cor_df.ravel())[-100:], cor_df.shape)"
      ]
    },
    {
      "cell_type": "code",
      "execution_count": null,
      "metadata": {
        "colab": {
          "base_uri": "https://localhost:8080/",
          "height": 424
        },
        "id": "UF33ajdS9Oft",
        "outputId": "659853c4-24fb-4084-84cb-651811983b00"
      },
      "outputs": [
        {
          "data": {
            "text/html": [
              "\n",
              "  <div id=\"df-b2744434-1b4c-4b63-bdd6-3bad67f1e50b\">\n",
              "    <div class=\"colab-df-container\">\n",
              "      <div>\n",
              "<style scoped>\n",
              "    .dataframe tbody tr th:only-of-type {\n",
              "        vertical-align: middle;\n",
              "    }\n",
              "\n",
              "    .dataframe tbody tr th {\n",
              "        vertical-align: top;\n",
              "    }\n",
              "\n",
              "    .dataframe thead th {\n",
              "        text-align: right;\n",
              "    }\n",
              "</style>\n",
              "<table border=\"1\" class=\"dataframe\">\n",
              "  <thead>\n",
              "    <tr style=\"text-align: right;\">\n",
              "      <th></th>\n",
              "      <th>Camera 1</th>\n",
              "      <th>Camera 2</th>\n",
              "    </tr>\n",
              "  </thead>\n",
              "  <tbody>\n",
              "    <tr>\n",
              "      <th>0</th>\n",
              "      <td>100701235</td>\n",
              "      <td>22010135</td>\n",
              "    </tr>\n",
              "    <tr>\n",
              "      <th>1</th>\n",
              "      <td>100701181</td>\n",
              "      <td>631782</td>\n",
              "    </tr>\n",
              "    <tr>\n",
              "      <th>2</th>\n",
              "      <td>230105</td>\n",
              "      <td>631358</td>\n",
              "    </tr>\n",
              "    <tr>\n",
              "      <th>3</th>\n",
              "      <td>100701120</td>\n",
              "      <td>100701235</td>\n",
              "    </tr>\n",
              "    <tr>\n",
              "      <th>4</th>\n",
              "      <td>631783</td>\n",
              "      <td>157</td>\n",
              "    </tr>\n",
              "    <tr>\n",
              "      <th>...</th>\n",
              "      <td>...</td>\n",
              "      <td>...</td>\n",
              "    </tr>\n",
              "    <tr>\n",
              "      <th>95</th>\n",
              "      <td>212001</td>\n",
              "      <td>101</td>\n",
              "    </tr>\n",
              "    <tr>\n",
              "      <th>96</th>\n",
              "      <td>631881</td>\n",
              "      <td>635623</td>\n",
              "    </tr>\n",
              "    <tr>\n",
              "      <th>97</th>\n",
              "      <td>711018</td>\n",
              "      <td>230202</td>\n",
              "    </tr>\n",
              "    <tr>\n",
              "      <th>98</th>\n",
              "      <td>810210</td>\n",
              "      <td>107</td>\n",
              "    </tr>\n",
              "    <tr>\n",
              "      <th>99</th>\n",
              "      <td>204701</td>\n",
              "      <td>900122</td>\n",
              "    </tr>\n",
              "  </tbody>\n",
              "</table>\n",
              "<p>100 rows × 2 columns</p>\n",
              "</div>\n",
              "      <button class=\"colab-df-convert\" onclick=\"convertToInteractive('df-b2744434-1b4c-4b63-bdd6-3bad67f1e50b')\"\n",
              "              title=\"Convert this dataframe to an interactive table.\"\n",
              "              style=\"display:none;\">\n",
              "        \n",
              "  <svg xmlns=\"http://www.w3.org/2000/svg\" height=\"24px\"viewBox=\"0 0 24 24\"\n",
              "       width=\"24px\">\n",
              "    <path d=\"M0 0h24v24H0V0z\" fill=\"none\"/>\n",
              "    <path d=\"M18.56 5.44l.94 2.06.94-2.06 2.06-.94-2.06-.94-.94-2.06-.94 2.06-2.06.94zm-11 1L8.5 8.5l.94-2.06 2.06-.94-2.06-.94L8.5 2.5l-.94 2.06-2.06.94zm10 10l.94 2.06.94-2.06 2.06-.94-2.06-.94-.94-2.06-.94 2.06-2.06.94z\"/><path d=\"M17.41 7.96l-1.37-1.37c-.4-.4-.92-.59-1.43-.59-.52 0-1.04.2-1.43.59L10.3 9.45l-7.72 7.72c-.78.78-.78 2.05 0 2.83L4 21.41c.39.39.9.59 1.41.59.51 0 1.02-.2 1.41-.59l7.78-7.78 2.81-2.81c.8-.78.8-2.07 0-2.86zM5.41 20L4 18.59l7.72-7.72 1.47 1.35L5.41 20z\"/>\n",
              "  </svg>\n",
              "      </button>\n",
              "      \n",
              "  <style>\n",
              "    .colab-df-container {\n",
              "      display:flex;\n",
              "      flex-wrap:wrap;\n",
              "      gap: 12px;\n",
              "    }\n",
              "\n",
              "    .colab-df-convert {\n",
              "      background-color: #E8F0FE;\n",
              "      border: none;\n",
              "      border-radius: 50%;\n",
              "      cursor: pointer;\n",
              "      display: none;\n",
              "      fill: #1967D2;\n",
              "      height: 32px;\n",
              "      padding: 0 0 0 0;\n",
              "      width: 32px;\n",
              "    }\n",
              "\n",
              "    .colab-df-convert:hover {\n",
              "      background-color: #E2EBFA;\n",
              "      box-shadow: 0px 1px 2px rgba(60, 64, 67, 0.3), 0px 1px 3px 1px rgba(60, 64, 67, 0.15);\n",
              "      fill: #174EA6;\n",
              "    }\n",
              "\n",
              "    [theme=dark] .colab-df-convert {\n",
              "      background-color: #3B4455;\n",
              "      fill: #D2E3FC;\n",
              "    }\n",
              "\n",
              "    [theme=dark] .colab-df-convert:hover {\n",
              "      background-color: #434B5C;\n",
              "      box-shadow: 0px 1px 3px 1px rgba(0, 0, 0, 0.15);\n",
              "      filter: drop-shadow(0px 1px 2px rgba(0, 0, 0, 0.3));\n",
              "      fill: #FFFFFF;\n",
              "    }\n",
              "  </style>\n",
              "\n",
              "      <script>\n",
              "        const buttonEl =\n",
              "          document.querySelector('#df-b2744434-1b4c-4b63-bdd6-3bad67f1e50b button.colab-df-convert');\n",
              "        buttonEl.style.display =\n",
              "          google.colab.kernel.accessAllowed ? 'block' : 'none';\n",
              "\n",
              "        async function convertToInteractive(key) {\n",
              "          const element = document.querySelector('#df-b2744434-1b4c-4b63-bdd6-3bad67f1e50b');\n",
              "          const dataTable =\n",
              "            await google.colab.kernel.invokeFunction('convertToInteractive',\n",
              "                                                     [key], {});\n",
              "          if (!dataTable) return;\n",
              "\n",
              "          const docLinkHtml = 'Like what you see? Visit the ' +\n",
              "            '<a target=\"_blank\" href=https://colab.research.google.com/notebooks/data_table.ipynb>data table notebook</a>'\n",
              "            + ' to learn more about interactive tables.';\n",
              "          element.innerHTML = '';\n",
              "          dataTable['output_type'] = 'display_data';\n",
              "          await google.colab.output.renderOutput(dataTable, element);\n",
              "          const docLink = document.createElement('div');\n",
              "          docLink.innerHTML = docLinkHtml;\n",
              "          element.appendChild(docLink);\n",
              "        }\n",
              "      </script>\n",
              "    </div>\n",
              "  </div>\n",
              "  "
            ],
            "text/plain": [
              "     Camera 1   Camera 2\n",
              "0   100701235   22010135\n",
              "1   100701181     631782\n",
              "2      230105     631358\n",
              "3   100701120  100701235\n",
              "4      631783        157\n",
              "..        ...        ...\n",
              "95     212001        101\n",
              "96     631881     635623\n",
              "97     711018     230202\n",
              "98     810210        107\n",
              "99     204701     900122\n",
              "\n",
              "[100 rows x 2 columns]"
            ]
          },
          "execution_count": 68,
          "metadata": {},
          "output_type": "execute_result"
        }
      ],
      "source": [
        "#creat dataframe of similar cameras\n",
        "idx_0 = idx[0].tolist()\n",
        "idx_1 = idx[1].tolist()\n",
        "device_ser = pd.Series(device)\n",
        "ac_ser_0 = device_ser[idx_0].values\n",
        "ac_ser_1 = device_ser[idx_1].values\n",
        "sim_cameras = pd.DataFrame({'Camera 1': ac_ser_0, 'Camera 2': list(ac_ser_1)},columns=['Camera 1', 'Camera 2'])\n",
        "sim_cameras"
      ]
    },
    {
      "cell_type": "code",
      "execution_count": null,
      "metadata": {
        "colab": {
          "base_uri": "https://localhost:8080/",
          "height": 391
        },
        "id": "TAb_DkeV-C8-",
        "outputId": "68abef12-9f0c-4af7-d328-17dad1bd51ef"
      },
      "outputs": [
        {
          "data": {
            "text/plain": [
              "Text(0, 0.5, 'DEVICE_CODE:22010092')"
            ]
          },
          "execution_count": 74,
          "metadata": {},
          "output_type": "execute_result"
        },
        {
          "data": {
            "image/png": "[encoded data removed]",
            "text/plain": [
              "<Figure size 864x432 with 2 Axes>"
            ]
          },
          "metadata": {
            "needs_background": "light"
          },
          "output_type": "display_data"
        }
      ],
      "source": [
        "#plot similar cameras\n",
        "plt.figure(figsize=(12, 6))\n",
        "plt.subplot(2,1,1)\n",
        "plt.plot(range(0,24*7),user_item_matrix[device_dict['204701']],'go')\n",
        "plt.ylabel('DEVICE_CODE:22010093')\n",
        "plt.subplot(2,1,2)\n",
        "plt.plot(range(0,24*7),user_item_matrix[device_dict['900122']],'go')\n",
        "plt.ylabel('DEVICE_CODE:22010092')"
      ]
    },
    {
      "cell_type": "markdown",
      "metadata": {
        "id": "EQqzQoVzEH8A"
      },
      "source": [
        "# **Collaborative filtering on cars**"
      ]
    },
    {
      "cell_type": "code",
      "execution_count": null,
      "metadata": {
        "id": "ChzTJ6gPBRUp"
      },
      "outputs": [],
      "source": [
        "path = device\n",
        "list_temp=df_2.select('FINAL_CAR_KEY').distinct().collect()\n",
        "cars =  [i.FINAL_CAR_KEY for i in list_temp]\n",
        "matrix = np.zeros((len(cars),len(path)))"
      ]
    },
    {
      "cell_type": "code",
      "execution_count": null,
      "metadata": {
        "colab": {
          "base_uri": "https://localhost:8080/"
        },
        "id": "V0o7UvhlFvQ1",
        "outputId": "5d3c397e-2d1b-46c9-ff3d-c3e8f5dc2c7b"
      },
      "outputs": [
        {
          "name": "stdout",
          "output_type": "stream",
          "text": [
            "+-------------+-------------------------+\n",
            "|FINAL_CAR_KEY|collect_list(DEVICE_CODE)|\n",
            "+-------------+-------------------------+\n",
            "|         null|     [631830, 900247, ...|\n",
            "|     10000048|                 [900183]|\n",
            "|     10000061|         [900256, 900256]|\n",
            "|     10000155|      [100700862, 900174]|\n",
            "|    100001807|                 [900269]|\n",
            "+-------------+-------------------------+\n",
            "only showing top 5 rows\n",
            "\n"
          ]
        }
      ],
      "source": [
        "df_4 = df_2.groupBy('FINAL_CAR_KEY').agg(functions.collect_list(\"DEVICE_CODE\"))\n",
        "df_4.show(5)"
      ]
    },
    {
      "cell_type": "code",
      "execution_count": null,
      "metadata": {
        "id": "UPXKJARiGWCO"
      },
      "outputs": [],
      "source": [
        "#indexing the cars\n",
        "car_dict = {}\n",
        "for i, carkey in enumerate(cars):\n",
        "  car_dict[i] = carkey\n",
        "car_dict = {j: i for i, j in car_dict.items()}"
      ]
    },
    {
      "cell_type": "code",
      "execution_count": null,
      "metadata": {
        "colab": {
          "base_uri": "https://localhost:8080/"
        },
        "id": "eZ5GZcX8LnJd",
        "outputId": "a3fbe69a-e4a2-4996-9efd-de9942950985"
      },
      "outputs": [
        {
          "data": {
            "text/plain": [
              "Row(FINAL_CAR_KEY='10000048', collect_list(DEVICE_CODE)=['900183'])"
            ]
          },
          "execution_count": 30,
          "metadata": {},
          "output_type": "execute_result"
        }
      ],
      "source": [
        "df_4_list=df_4.collect()"
      ]
    },
    {
      "cell_type": "code",
      "execution_count": null,
      "metadata": {
        "colab": {
          "base_uri": "https://localhost:8080/"
        },
        "id": "0YnRN19IHkdd",
        "outputId": "99f14342-2089-402d-c4bb-594c6f2cf1f3"
      },
      "outputs": [
        {
          "data": {
            "text/plain": [
              "array([[0., 0., 0., ..., 0., 0., 0.],\n",
              "       [0., 0., 0., ..., 0., 0., 0.],\n",
              "       [0., 0., 0., ..., 0., 0., 0.],\n",
              "       ...,\n",
              "       [0., 0., 0., ..., 0., 0., 0.],\n",
              "       [0., 0., 0., ..., 0., 0., 0.],\n",
              "       [0., 0., 0., ..., 0., 0., 0.]])"
            ]
          },
          "execution_count": 31,
          "metadata": {},
          "output_type": "execute_result"
        }
      ],
      "source": [
        "for j,m in df_4_list:\n",
        "  for i in m:\n",
        "    idx = device.index(i)\n",
        "    matrix[car_dict[j]][idx] = 1\n",
        "matrix"
      ]
    },
    {
      "cell_type": "code",
      "execution_count": null,
      "metadata": {
        "id": "ZDY1hPfLHt40"
      },
      "outputs": [],
      "source": [
        "# calculating correlation by corr() methode\n",
        "matrix_df = pd.DataFrame(matrix)\n",
        "matrix_df = matrix_df[matrix_df.iloc[:, 1:].sum(axis=1)>=]\n",
        "cor_df_2 = matrix_df.T.corr()\n",
        "cor_df_2 = np.tril(cor_df_2,-1)\n",
        "idx_2 = np.unravel_index(np.argsort(cor_df_2.ravel())[-100:], cor_df_2.shape)\n",
        "idx_0_2 = idx_2[0].tolist()\n",
        "idx_1_2 = idx_2[1].tolist()\n",
        "car_ser = pd.Series(cars)\n",
        "ac_ser_0_2 = car_ser[idx_0_2].values\n",
        "ac_ser_1_2 = car_ser[idx_1_2].values\n",
        "#creat dataframe of similar cars\n",
        "sim_cars = pd.DataFrame({'Car 1': ac_ser_0_2, 'Car 2': list(ac_ser_1_2)}, columns=['Car 1', 'Car 2'])"
      ]
    },
    {
      "cell_type": "code",
      "execution_count": null,
      "metadata": {
        "colab": {
          "base_uri": "https://localhost:8080/",
          "height": 391
        },
        "id": "b0vvtGzSIUhl",
        "outputId": "921788b4-99bc-4f69-d6d0-3e5683b51740"
      },
      "outputs": [
        {
          "data": {
            "text/plain": [
              "Text(0, 0.5, 'CAR_KEY:16173590')"
            ]
          },
          "execution_count": 54,
          "metadata": {},
          "output_type": "execute_result"
        },
        {
          "data": {
            "image/png": "[encoded data removed]",
            "text/plain": [
              "<Figure size 864x432 with 2 Axes>"
            ]
          },
          "metadata": {
            "needs_background": "light"
          },
          "output_type": "display_data"
        }
      ],
      "source": [
        "#plot two similar cars\n",
        "plt.figure(figsize=(12, 6))\n",
        "plt.subplot(2,1,1)\n",
        "plt.plot(range(0,len(device)),matrix[car_dict['7744834']],'go')\n",
        "plt.ylabel('CAR_KEY:7744834')\n",
        "plt.subplot(2,1,2)\n",
        "plt.plot(range(0,len(device)),matrix[car_dict['16173590']],'go')\n",
        "plt.ylabel('CAR_KEY:16173590')"
      ]
    },
    {
      "cell_type": "markdown",
      "metadata": {
        "id": "Tg27p3ljg-YY"
      },
      "source": [
        "# **Car similarity by cosine distance**"
      ]
    },
    {
      "cell_type": "code",
      "execution_count": null,
      "metadata": {
        "colab": {
          "base_uri": "https://localhost:8080/"
        },
        "id": "i_Zpg_HphE2r",
        "outputId": "d9f5274f-a0c2-4595-f962-85b3c9ab851b"
      },
      "outputs": [
        {
          "name": "stdout",
          "output_type": "stream",
          "text": [
            "+-----------+-------------+-------------------+----------+\n",
            "|DEVICE_CODE|FINAL_CAR_KEY|      PASS_DAY_TIME|      date|\n",
            "+-----------+-------------+-------------------+----------+\n",
            "|   22010059|     63315887|2021-12-22 00:51:16|2021-12-22|\n",
            "|  100701235|     47807908|2021-12-22 01:07:42|2021-12-22|\n",
            "|     635607|     81726547|2021-12-22 00:05:34|2021-12-22|\n",
            "|   10015301|     36037995|2021-12-22 00:51:14|2021-12-22|\n",
            "|   22010044|     64111706|2021-12-22 01:30:33|2021-12-22|\n",
            "+-----------+-------------+-------------------+----------+\n",
            "only showing top 5 rows\n",
            "\n"
          ]
        }
      ],
      "source": [
        "df_a=df.withColumn(\"date\",to_date(\"PASS_DAY_TIME\"))\n",
        "df_a.show(5)"
      ]
    },
    {
      "cell_type": "code",
      "execution_count": null,
      "metadata": {
        "id": "6_P2tzWz6wvm"
      },
      "outputs": [],
      "source": [
        "df_a_rdd=df_a.rdd.map(lambda x: ((x[1],str(x[3])),x[0]))  # (key=(plate,date),value=DEVICE_CODE)"
      ]
    },
    {
      "cell_type": "code",
      "execution_count": null,
      "metadata": {
        "colab": {
          "base_uri": "https://localhost:8080/"
        },
        "id": "ttZOew4y7F5Y",
        "outputId": "99408f56-1650-4240-a03c-9caf60cb88e8"
      },
      "outputs": [
        {
          "data": {
            "text/plain": [
              "[(('63315887', '2021-12-22'), '22010059'),\n",
              " (('47807908', '2021-12-22'), '100701235'),\n",
              " (('81726547', '2021-12-22'), '635607'),\n",
              " (('36037995', '2021-12-22'), '10015301'),\n",
              " (('64111706', '2021-12-22'), '22010044')]"
            ]
          },
          "execution_count": 12,
          "metadata": {},
          "output_type": "execute_result"
        }
      ],
      "source": [
        "df_a_rdd.take(5)"
      ]
    },
    {
      "cell_type": "code",
      "execution_count": null,
      "metadata": {
        "id": "SsAEwk_7hEql"
      },
      "outputs": [],
      "source": [
        "rdd_a_1=df_a_rdd.groupByKey().mapValues(set).mapValues(list) #(key=(plate,date),value = [Device Code List])"
      ]
    },
    {
      "cell_type": "code",
      "execution_count": null,
      "metadata": {
        "colab": {
          "base_uri": "https://localhost:8080/"
        },
        "id": "Y8YqWOau7K0n",
        "outputId": "fc89d1f1-b97f-4203-b6b0-25f1b5dc1bd3"
      },
      "outputs": [
        {
          "data": {
            "text/plain": [
              "[(('84772646', '2021-12-22'), ['100700820']),\n",
              " (('84755468', '2021-12-22'), ['100701096', '22010095']),\n",
              " (('83441842', '2021-12-22'), ['900241']),\n",
              " (('7657081', '2021-12-22'), ['900149']),\n",
              " (('29484171', '2021-12-22'), ['202601'])]"
            ]
          },
          "execution_count": 14,
          "metadata": {},
          "output_type": "execute_result"
        }
      ],
      "source": [
        "rdd_a_1.take(5)"
      ]
    },
    {
      "cell_type": "code",
      "execution_count": null,
      "metadata": {
        "id": "akl-f6Ygf_bg"
      },
      "outputs": [],
      "source": [
        "uniq_cam=df_a.select('DEVICE_CODE').distinct().collect() #determine unique camera"
      ]
    },
    {
      "cell_type": "code",
      "execution_count": null,
      "metadata": {
        "id": "XK7mOyUDf_X0"
      },
      "outputs": [],
      "source": [
        "ind = np.random.randint(0,len(uniq_cam),4) #creating random index for choosing random camera\n",
        "hypo_path = np.array(uniq_cam)[(ind).astype(int)] #creating a hypothetical path"
      ]
    },
    {
      "cell_type": "code",
      "execution_count": null,
      "metadata": {
        "colab": {
          "base_uri": "https://localhost:8080/"
        },
        "id": "-elreL9P9_4F",
        "outputId": "2a23a0fe-8df5-4ca3-d01f-2441cbb9071c"
      },
      "outputs": [
        {
          "data": {
            "text/plain": [
              "array([['900155'],\n",
              "       ['212001'],\n",
              "       ['22010073'],\n",
              "       ['22009915']], dtype='<U9')"
            ]
          },
          "execution_count": 20,
          "metadata": {},
          "output_type": "execute_result"
        }
      ],
      "source": [
        "hypo_path"
      ]
    },
    {
      "cell_type": "code",
      "execution_count": null,
      "metadata": {
        "id": "qd_9jSt8h4od"
      },
      "outputs": [],
      "source": [
        "#finding cars that their Device Code List  have at least a camera on hypothetical path\n",
        "rdd_similar_path=rdd_a_1.filter(lambda x: set(hypo_path[0]).issubset(set(x[1])) or set(hypo_path[1]).issubset(set(x[1])) or set(hypo_path[2]).issubset(set(x[1])) or set(hypo_path[3]).issubset(set(x[1])))"
      ]
    },
    {
      "cell_type": "code",
      "execution_count": null,
      "metadata": {
        "id": "fr1rFNWch7_l"
      },
      "outputs": [],
      "source": [
        "#convert hypo_path to set for next cell\n",
        "set_hypo=set()\n",
        "for i in range(len(hypo_path)):\n",
        "    set_hypo.add(hypo_path.tolist()[i][0])"
      ]
    },
    {
      "cell_type": "code",
      "execution_count": null,
      "metadata": {
        "id": "6Ny7WJsviC9Q"
      },
      "outputs": [],
      "source": [
        "#( key =cos(theta), value = ((plate,date),[Device Code List]) )\n",
        "rdd_cosine_similarity=rdd_similar_path.map(lambda x: ((len(set_hypo.intersection(set(x[1])))/(np.sqrt(len(set_hypo)) * np.sqrt(len(set(x[1]))) )).round(3),(x[0],x[1])) )"
      ]
    },
    {
      "cell_type": "code",
      "execution_count": null,
      "metadata": {
        "colab": {
          "base_uri": "https://localhost:8080/"
        },
        "id": "zSarkYFQiCxH",
        "outputId": "191ee540-f41b-46f8-fbb5-0d1fac02dd26"
      },
      "outputs": [
        {
          "data": {
            "text/plain": [
              "[(0.5, (('94177400', '2021-12-23'), ['900155'])),\n",
              " (0.5, (('92618743', '2021-12-22'), ['900155'])),\n",
              " (0.5, (('88011827', '2021-12-24'), ['900155'])),\n",
              " (0.5, (('8540129', '2021-12-24'), ['900155'])),\n",
              " (0.5, (('63349828', '2021-12-23'), ['900155'])),\n",
              " (0.5, (('61937158', '2021-12-22'), ['212001'])),\n",
              " (0.5, (('50078902', '2021-12-23'), ['900155'])),\n",
              " (0.5, (('35282772', '2021-12-22'), ['900155'])),\n",
              " (0.5, (('31973122', '2021-12-24'), ['900155'])),\n",
              " (0.5, (('29603337', '2021-12-24'), ['900155'])),\n",
              " (0.5, (('23192263', '2021-12-24'), ['900155'])),\n",
              " (0.5, (('22879913', '2021-12-23'), ['900155'])),\n",
              " (0.5, (('19047993', '2021-12-23'), ['900155'])),\n",
              " (0.5, (('17863807', '2021-12-22'), ['22010073'])),\n",
              " (0.5, (('16415071', '2021-12-25'), ['900155'])),\n",
              " (0.5, (('15200215', '2021-12-24'), ['900155'])),\n",
              " (0.5, (('14304296', '2021-12-24'), ['900155'])),\n",
              " (0.5, (('13847493', '2021-12-25'), ['900155'])),\n",
              " (0.5, (('10873263', '2021-12-24'), ['900155'])),\n",
              " (0.354, (('7889187', '2021-12-24'), ['900155', '22010031']))]"
            ]
          },
          "execution_count": 31,
          "metadata": {},
          "output_type": "execute_result"
        }
      ],
      "source": [
        "#sort by cosine similarity\n",
        "sorted(rdd_cosine_similarity.take(20),reverse=True)"
      ]
    },
    {
      "cell_type": "markdown",
      "metadata": {
        "id": "azyfDT4OgscV"
      },
      "source": [
        "# **SVD decomposition**"
      ]
    },
    {
      "cell_type": "code",
      "execution_count": null,
      "metadata": {
        "colab": {
          "base_uri": "https://localhost:8080/",
          "height": 488
        },
        "id": "MkPstTQ-grVK",
        "outputId": "269b8d95-3356-4b20-fff9-3fb083e80da0"
      },
      "outputs": [
        {
          "data": {
            "text/html": [
              "\n",
              "  <div id=\"df-c91af1eb-75f5-42de-9e11-fb99348b536b\">\n",
              "    <div class=\"colab-df-container\">\n",
              "      <div>\n",
              "<style scoped>\n",
              "    .dataframe tbody tr th:only-of-type {\n",
              "        vertical-align: middle;\n",
              "    }\n",
              "\n",
              "    .dataframe tbody tr th {\n",
              "        vertical-align: top;\n",
              "    }\n",
              "\n",
              "    .dataframe thead th {\n",
              "        text-align: right;\n",
              "    }\n",
              "</style>\n",
              "<table border=\"1\" class=\"dataframe\">\n",
              "  <thead>\n",
              "    <tr style=\"text-align: right;\">\n",
              "      <th></th>\n",
              "      <th>0</th>\n",
              "      <th>1</th>\n",
              "      <th>2</th>\n",
              "      <th>3</th>\n",
              "      <th>4</th>\n",
              "      <th>5</th>\n",
              "      <th>6</th>\n",
              "      <th>7</th>\n",
              "      <th>8</th>\n",
              "      <th>9</th>\n",
              "      <th>...</th>\n",
              "      <th>930</th>\n",
              "      <th>931</th>\n",
              "      <th>932</th>\n",
              "      <th>933</th>\n",
              "      <th>934</th>\n",
              "      <th>935</th>\n",
              "      <th>936</th>\n",
              "      <th>937</th>\n",
              "      <th>938</th>\n",
              "      <th>939</th>\n",
              "    </tr>\n",
              "  </thead>\n",
              "  <tbody>\n",
              "    <tr>\n",
              "      <th>0</th>\n",
              "      <td>0.532425</td>\n",
              "      <td>0.000000</td>\n",
              "      <td>0.000000</td>\n",
              "      <td>0.000000</td>\n",
              "      <td>0.000000</td>\n",
              "      <td>0.0</td>\n",
              "      <td>0.0</td>\n",
              "      <td>0.0</td>\n",
              "      <td>0.0</td>\n",
              "      <td>0.0</td>\n",
              "      <td>...</td>\n",
              "      <td>0.0</td>\n",
              "      <td>0.0</td>\n",
              "      <td>0.0</td>\n",
              "      <td>0.0</td>\n",
              "      <td>0.0</td>\n",
              "      <td>0.000000e+00</td>\n",
              "      <td>0.000000e+00</td>\n",
              "      <td>0.000000e+00</td>\n",
              "      <td>0.000000e+00</td>\n",
              "      <td>0.000000e+00</td>\n",
              "    </tr>\n",
              "    <tr>\n",
              "      <th>1</th>\n",
              "      <td>0.000000</td>\n",
              "      <td>0.395324</td>\n",
              "      <td>0.000000</td>\n",
              "      <td>0.000000</td>\n",
              "      <td>0.000000</td>\n",
              "      <td>0.0</td>\n",
              "      <td>0.0</td>\n",
              "      <td>0.0</td>\n",
              "      <td>0.0</td>\n",
              "      <td>0.0</td>\n",
              "      <td>...</td>\n",
              "      <td>0.0</td>\n",
              "      <td>0.0</td>\n",
              "      <td>0.0</td>\n",
              "      <td>0.0</td>\n",
              "      <td>0.0</td>\n",
              "      <td>0.000000e+00</td>\n",
              "      <td>0.000000e+00</td>\n",
              "      <td>0.000000e+00</td>\n",
              "      <td>0.000000e+00</td>\n",
              "      <td>0.000000e+00</td>\n",
              "    </tr>\n",
              "    <tr>\n",
              "      <th>2</th>\n",
              "      <td>0.000000</td>\n",
              "      <td>0.000000</td>\n",
              "      <td>0.337711</td>\n",
              "      <td>0.000000</td>\n",
              "      <td>0.000000</td>\n",
              "      <td>0.0</td>\n",
              "      <td>0.0</td>\n",
              "      <td>0.0</td>\n",
              "      <td>0.0</td>\n",
              "      <td>0.0</td>\n",
              "      <td>...</td>\n",
              "      <td>0.0</td>\n",
              "      <td>0.0</td>\n",
              "      <td>0.0</td>\n",
              "      <td>0.0</td>\n",
              "      <td>0.0</td>\n",
              "      <td>0.000000e+00</td>\n",
              "      <td>0.000000e+00</td>\n",
              "      <td>0.000000e+00</td>\n",
              "      <td>0.000000e+00</td>\n",
              "      <td>0.000000e+00</td>\n",
              "    </tr>\n",
              "    <tr>\n",
              "      <th>3</th>\n",
              "      <td>0.000000</td>\n",
              "      <td>0.000000</td>\n",
              "      <td>0.000000</td>\n",
              "      <td>0.318462</td>\n",
              "      <td>0.000000</td>\n",
              "      <td>0.0</td>\n",
              "      <td>0.0</td>\n",
              "      <td>0.0</td>\n",
              "      <td>0.0</td>\n",
              "      <td>0.0</td>\n",
              "      <td>...</td>\n",
              "      <td>0.0</td>\n",
              "      <td>0.0</td>\n",
              "      <td>0.0</td>\n",
              "      <td>0.0</td>\n",
              "      <td>0.0</td>\n",
              "      <td>0.000000e+00</td>\n",
              "      <td>0.000000e+00</td>\n",
              "      <td>0.000000e+00</td>\n",
              "      <td>0.000000e+00</td>\n",
              "      <td>0.000000e+00</td>\n",
              "    </tr>\n",
              "    <tr>\n",
              "      <th>4</th>\n",
              "      <td>0.000000</td>\n",
              "      <td>0.000000</td>\n",
              "      <td>0.000000</td>\n",
              "      <td>0.000000</td>\n",
              "      <td>0.318165</td>\n",
              "      <td>0.0</td>\n",
              "      <td>0.0</td>\n",
              "      <td>0.0</td>\n",
              "      <td>0.0</td>\n",
              "      <td>0.0</td>\n",
              "      <td>...</td>\n",
              "      <td>0.0</td>\n",
              "      <td>0.0</td>\n",
              "      <td>0.0</td>\n",
              "      <td>0.0</td>\n",
              "      <td>0.0</td>\n",
              "      <td>0.000000e+00</td>\n",
              "      <td>0.000000e+00</td>\n",
              "      <td>0.000000e+00</td>\n",
              "      <td>0.000000e+00</td>\n",
              "      <td>0.000000e+00</td>\n",
              "    </tr>\n",
              "    <tr>\n",
              "      <th>...</th>\n",
              "      <td>...</td>\n",
              "      <td>...</td>\n",
              "      <td>...</td>\n",
              "      <td>...</td>\n",
              "      <td>...</td>\n",
              "      <td>...</td>\n",
              "      <td>...</td>\n",
              "      <td>...</td>\n",
              "      <td>...</td>\n",
              "      <td>...</td>\n",
              "      <td>...</td>\n",
              "      <td>...</td>\n",
              "      <td>...</td>\n",
              "      <td>...</td>\n",
              "      <td>...</td>\n",
              "      <td>...</td>\n",
              "      <td>...</td>\n",
              "      <td>...</td>\n",
              "      <td>...</td>\n",
              "      <td>...</td>\n",
              "      <td>...</td>\n",
              "    </tr>\n",
              "    <tr>\n",
              "      <th>935</th>\n",
              "      <td>0.000000</td>\n",
              "      <td>0.000000</td>\n",
              "      <td>0.000000</td>\n",
              "      <td>0.000000</td>\n",
              "      <td>0.000000</td>\n",
              "      <td>0.0</td>\n",
              "      <td>0.0</td>\n",
              "      <td>0.0</td>\n",
              "      <td>0.0</td>\n",
              "      <td>0.0</td>\n",
              "      <td>...</td>\n",
              "      <td>0.0</td>\n",
              "      <td>0.0</td>\n",
              "      <td>0.0</td>\n",
              "      <td>0.0</td>\n",
              "      <td>0.0</td>\n",
              "      <td>2.401736e-17</td>\n",
              "      <td>0.000000e+00</td>\n",
              "      <td>0.000000e+00</td>\n",
              "      <td>0.000000e+00</td>\n",
              "      <td>0.000000e+00</td>\n",
              "    </tr>\n",
              "    <tr>\n",
              "      <th>936</th>\n",
              "      <td>0.000000</td>\n",
              "      <td>0.000000</td>\n",
              "      <td>0.000000</td>\n",
              "      <td>0.000000</td>\n",
              "      <td>0.000000</td>\n",
              "      <td>0.0</td>\n",
              "      <td>0.0</td>\n",
              "      <td>0.0</td>\n",
              "      <td>0.0</td>\n",
              "      <td>0.0</td>\n",
              "      <td>...</td>\n",
              "      <td>0.0</td>\n",
              "      <td>0.0</td>\n",
              "      <td>0.0</td>\n",
              "      <td>0.0</td>\n",
              "      <td>0.0</td>\n",
              "      <td>0.000000e+00</td>\n",
              "      <td>2.372258e-17</td>\n",
              "      <td>0.000000e+00</td>\n",
              "      <td>0.000000e+00</td>\n",
              "      <td>0.000000e+00</td>\n",
              "    </tr>\n",
              "    <tr>\n",
              "      <th>937</th>\n",
              "      <td>0.000000</td>\n",
              "      <td>0.000000</td>\n",
              "      <td>0.000000</td>\n",
              "      <td>0.000000</td>\n",
              "      <td>0.000000</td>\n",
              "      <td>0.0</td>\n",
              "      <td>0.0</td>\n",
              "      <td>0.0</td>\n",
              "      <td>0.0</td>\n",
              "      <td>0.0</td>\n",
              "      <td>...</td>\n",
              "      <td>0.0</td>\n",
              "      <td>0.0</td>\n",
              "      <td>0.0</td>\n",
              "      <td>0.0</td>\n",
              "      <td>0.0</td>\n",
              "      <td>0.000000e+00</td>\n",
              "      <td>0.000000e+00</td>\n",
              "      <td>1.450720e-17</td>\n",
              "      <td>0.000000e+00</td>\n",
              "      <td>0.000000e+00</td>\n",
              "    </tr>\n",
              "    <tr>\n",
              "      <th>938</th>\n",
              "      <td>0.000000</td>\n",
              "      <td>0.000000</td>\n",
              "      <td>0.000000</td>\n",
              "      <td>0.000000</td>\n",
              "      <td>0.000000</td>\n",
              "      <td>0.0</td>\n",
              "      <td>0.0</td>\n",
              "      <td>0.0</td>\n",
              "      <td>0.0</td>\n",
              "      <td>0.0</td>\n",
              "      <td>...</td>\n",
              "      <td>0.0</td>\n",
              "      <td>0.0</td>\n",
              "      <td>0.0</td>\n",
              "      <td>0.0</td>\n",
              "      <td>0.0</td>\n",
              "      <td>0.000000e+00</td>\n",
              "      <td>0.000000e+00</td>\n",
              "      <td>0.000000e+00</td>\n",
              "      <td>9.165517e-18</td>\n",
              "      <td>0.000000e+00</td>\n",
              "    </tr>\n",
              "    <tr>\n",
              "      <th>939</th>\n",
              "      <td>0.000000</td>\n",
              "      <td>0.000000</td>\n",
              "      <td>0.000000</td>\n",
              "      <td>0.000000</td>\n",
              "      <td>0.000000</td>\n",
              "      <td>0.0</td>\n",
              "      <td>0.0</td>\n",
              "      <td>0.0</td>\n",
              "      <td>0.0</td>\n",
              "      <td>0.0</td>\n",
              "      <td>...</td>\n",
              "      <td>0.0</td>\n",
              "      <td>0.0</td>\n",
              "      <td>0.0</td>\n",
              "      <td>0.0</td>\n",
              "      <td>0.0</td>\n",
              "      <td>0.000000e+00</td>\n",
              "      <td>0.000000e+00</td>\n",
              "      <td>0.000000e+00</td>\n",
              "      <td>0.000000e+00</td>\n",
              "      <td>6.944305e-18</td>\n",
              "    </tr>\n",
              "  </tbody>\n",
              "</table>\n",
              "<p>940 rows × 940 columns</p>\n",
              "</div>\n",
              "      <button class=\"colab-df-convert\" onclick=\"convertToInteractive('df-c91af1eb-75f5-42de-9e11-fb99348b536b')\"\n",
              "              title=\"Convert this dataframe to an interactive table.\"\n",
              "              style=\"display:none;\">\n",
              "        \n",
              "  <svg xmlns=\"http://www.w3.org/2000/svg\" height=\"24px\"viewBox=\"0 0 24 24\"\n",
              "       width=\"24px\">\n",
              "    <path d=\"M0 0h24v24H0V0z\" fill=\"none\"/>\n",
              "    <path d=\"M18.56 5.44l.94 2.06.94-2.06 2.06-.94-2.06-.94-.94-2.06-.94 2.06-2.06.94zm-11 1L8.5 8.5l.94-2.06 2.06-.94-2.06-.94L8.5 2.5l-.94 2.06-2.06.94zm10 10l.94 2.06.94-2.06 2.06-.94-2.06-.94-.94-2.06-.94 2.06-2.06.94z\"/><path d=\"M17.41 7.96l-1.37-1.37c-.4-.4-.92-.59-1.43-.59-.52 0-1.04.2-1.43.59L10.3 9.45l-7.72 7.72c-.78.78-.78 2.05 0 2.83L4 21.41c.39.39.9.59 1.41.59.51 0 1.02-.2 1.41-.59l7.78-7.78 2.81-2.81c.8-.78.8-2.07 0-2.86zM5.41 20L4 18.59l7.72-7.72 1.47 1.35L5.41 20z\"/>\n",
              "  </svg>\n",
              "      </button>\n",
              "      \n",
              "  <style>\n",
              "    .colab-df-container {\n",
              "      display:flex;\n",
              "      flex-wrap:wrap;\n",
              "      gap: 12px;\n",
              "    }\n",
              "\n",
              "    .colab-df-convert {\n",
              "      background-color: #E8F0FE;\n",
              "      border: none;\n",
              "      border-radius: 50%;\n",
              "      cursor: pointer;\n",
              "      display: none;\n",
              "      fill: #1967D2;\n",
              "      height: 32px;\n",
              "      padding: 0 0 0 0;\n",
              "      width: 32px;\n",
              "    }\n",
              "\n",
              "    .colab-df-convert:hover {\n",
              "      background-color: #E2EBFA;\n",
              "      box-shadow: 0px 1px 2px rgba(60, 64, 67, 0.3), 0px 1px 3px 1px rgba(60, 64, 67, 0.15);\n",
              "      fill: #174EA6;\n",
              "    }\n",
              "\n",
              "    [theme=dark] .colab-df-convert {\n",
              "      background-color: #3B4455;\n",
              "      fill: #D2E3FC;\n",
              "    }\n",
              "\n",
              "    [theme=dark] .colab-df-convert:hover {\n",
              "      background-color: #434B5C;\n",
              "      box-shadow: 0px 1px 3px 1px rgba(0, 0, 0, 0.15);\n",
              "      filter: drop-shadow(0px 1px 2px rgba(0, 0, 0, 0.3));\n",
              "      fill: #FFFFFF;\n",
              "    }\n",
              "  </style>\n",
              "\n",
              "      <script>\n",
              "        const buttonEl =\n",
              "          document.querySelector('#df-c91af1eb-75f5-42de-9e11-fb99348b536b button.colab-df-convert');\n",
              "        buttonEl.style.display =\n",
              "          google.colab.kernel.accessAllowed ? 'block' : 'none';\n",
              "\n",
              "        async function convertToInteractive(key) {\n",
              "          const element = document.querySelector('#df-c91af1eb-75f5-42de-9e11-fb99348b536b');\n",
              "          const dataTable =\n",
              "            await google.colab.kernel.invokeFunction('convertToInteractive',\n",
              "                                                     [key], {});\n",
              "          if (!dataTable) return;\n",
              "\n",
              "          const docLinkHtml = 'Like what you see? Visit the ' +\n",
              "            '<a target=\"_blank\" href=https://colab.research.google.com/notebooks/data_table.ipynb>data table notebook</a>'\n",
              "            + ' to learn more about interactive tables.';\n",
              "          element.innerHTML = '';\n",
              "          dataTable['output_type'] = 'display_data';\n",
              "          await google.colab.output.renderOutput(dataTable, element);\n",
              "          const docLink = document.createElement('div');\n",
              "          docLink.innerHTML = docLinkHtml;\n",
              "          element.appendChild(docLink);\n",
              "        }\n",
              "      </script>\n",
              "    </div>\n",
              "  </div>\n",
              "  "
            ],
            "text/plain": [
              "          0         1         2         3         4    5    6    7    8    \\\n",
              "0    0.532425  0.000000  0.000000  0.000000  0.000000  0.0  0.0  0.0  0.0   \n",
              "1    0.000000  0.395324  0.000000  0.000000  0.000000  0.0  0.0  0.0  0.0   \n",
              "2    0.000000  0.000000  0.337711  0.000000  0.000000  0.0  0.0  0.0  0.0   \n",
              "3    0.000000  0.000000  0.000000  0.318462  0.000000  0.0  0.0  0.0  0.0   \n",
              "4    0.000000  0.000000  0.000000  0.000000  0.318165  0.0  0.0  0.0  0.0   \n",
              "..        ...       ...       ...       ...       ...  ...  ...  ...  ...   \n",
              "935  0.000000  0.000000  0.000000  0.000000  0.000000  0.0  0.0  0.0  0.0   \n",
              "936  0.000000  0.000000  0.000000  0.000000  0.000000  0.0  0.0  0.0  0.0   \n",
              "937  0.000000  0.000000  0.000000  0.000000  0.000000  0.0  0.0  0.0  0.0   \n",
              "938  0.000000  0.000000  0.000000  0.000000  0.000000  0.0  0.0  0.0  0.0   \n",
              "939  0.000000  0.000000  0.000000  0.000000  0.000000  0.0  0.0  0.0  0.0   \n",
              "\n",
              "     9    ...  930  931  932  933  934           935           936  \\\n",
              "0    0.0  ...  0.0  0.0  0.0  0.0  0.0  0.000000e+00  0.000000e+00   \n",
              "1    0.0  ...  0.0  0.0  0.0  0.0  0.0  0.000000e+00  0.000000e+00   \n",
              "2    0.0  ...  0.0  0.0  0.0  0.0  0.0  0.000000e+00  0.000000e+00   \n",
              "3    0.0  ...  0.0  0.0  0.0  0.0  0.0  0.000000e+00  0.000000e+00   \n",
              "4    0.0  ...  0.0  0.0  0.0  0.0  0.0  0.000000e+00  0.000000e+00   \n",
              "..   ...  ...  ...  ...  ...  ...  ...           ...           ...   \n",
              "935  0.0  ...  0.0  0.0  0.0  0.0  0.0  2.401736e-17  0.000000e+00   \n",
              "936  0.0  ...  0.0  0.0  0.0  0.0  0.0  0.000000e+00  2.372258e-17   \n",
              "937  0.0  ...  0.0  0.0  0.0  0.0  0.0  0.000000e+00  0.000000e+00   \n",
              "938  0.0  ...  0.0  0.0  0.0  0.0  0.0  0.000000e+00  0.000000e+00   \n",
              "939  0.0  ...  0.0  0.0  0.0  0.0  0.0  0.000000e+00  0.000000e+00   \n",
              "\n",
              "              937           938           939  \n",
              "0    0.000000e+00  0.000000e+00  0.000000e+00  \n",
              "1    0.000000e+00  0.000000e+00  0.000000e+00  \n",
              "2    0.000000e+00  0.000000e+00  0.000000e+00  \n",
              "3    0.000000e+00  0.000000e+00  0.000000e+00  \n",
              "4    0.000000e+00  0.000000e+00  0.000000e+00  \n",
              "..            ...           ...           ...  \n",
              "935  0.000000e+00  0.000000e+00  0.000000e+00  \n",
              "936  0.000000e+00  0.000000e+00  0.000000e+00  \n",
              "937  1.450720e-17  0.000000e+00  0.000000e+00  \n",
              "938  0.000000e+00  9.165517e-18  0.000000e+00  \n",
              "939  0.000000e+00  0.000000e+00  6.944305e-18  \n",
              "\n",
              "[940 rows x 940 columns]"
            ]
          },
          "execution_count": 76,
          "metadata": {},
          "output_type": "execute_result"
        }
      ],
      "source": [
        "from scipy.linalg import svd \n",
        "matrix_df_normalise = matrix_df - np.asarray([(np.mean(matrix_df, 1))]).T\n",
        "Utility = matrix_df_normalise.T / np.sqrt(matrix_df.shape[0] - 1)\n",
        "U, S, V = svd(Utility)\n",
        "pd.DataFrame(np.diag(S))"
      ]
    },
    {
      "cell_type": "markdown",
      "metadata": {
        "id": "ywn5l8BDiOeB"
      },
      "source": [
        "# **Pixie**"
      ]
    },
    {
      "cell_type": "code",
      "execution_count": null,
      "metadata": {
        "id": "putZPoLL3Qy0"
      },
      "outputs": [],
      "source": [
        "#creat  KV_car_camera : (key=(FINAL_CAR_KEY,DEVICE_CODE),1)\n",
        "KV_car_camera = df.rdd.map(lambda x: ((x[1],x[0]),1))\n",
        "reduced_car_camera=KV_car_camera.reduceByKey(lambda x,y: x+y)"
      ]
    },
    {
      "cell_type": "code",
      "execution_count": null,
      "metadata": {
        "id": "bc0r-_Gd9Lq4"
      },
      "outputs": [],
      "source": [
        "#creat graphs\n",
        "camera_car_rdd=reduced_car_camera.map(lambda x:(x[0][1],(x[0][0],x[1]))).groupByKey()\n",
        "camera_car_list=camera_car_rdd.mapValues(dict).collect()                  \n",
        "car_camera_rdd=reduced_car_camera.map(lambda x:(x[0][0],(x[0][1],x[1]))).groupByKey()\n",
        "car_camera_list=car_camera_rdd.mapValues(dict).collect()                  "
      ]
    },
    {
      "cell_type": "code",
      "execution_count": null,
      "metadata": {
        "id": "RHaejLUh9LoL"
      },
      "outputs": [],
      "source": [
        "#a:probability , lim:threshold ,iter:number of steps\n",
        "def Pixie_sim(pin,board,query,a,lim,iter):\n",
        "  pin_node=query\n",
        "  visit_pin_s={}\n",
        "  for i in range(0,iter):\n",
        "      s=pin[pin_node]\n",
        "      r=board[random.choices(list(s.keys()),list(s.values()))[0]]\n",
        "      pin_node=random.choices(list(r.keys()),list(r.values()))[0]\n",
        "      if pin_node in visit_pin_s:\n",
        "        visit_pin_s[pin_node]=visit_pin_s[pin_node]+1\n",
        "      else:\n",
        "        visit_pin_s[pin_node]=1\n",
        "      if random.random()<a:\n",
        "        pin_node=query\n",
        "  sim_item={}\n",
        "  for pin_node in visit_pin_s:\n",
        "    if visit_pin_s[pin_node]>lim:\n",
        "      sim_item[pin_node]=visit_pin_s[pin_node]\n",
        "  return sim_item"
      ]
    },
    {
      "cell_type": "code",
      "execution_count": null,
      "metadata": {
        "colab": {
          "base_uri": "https://localhost:8080/"
        },
        "id": "Y-If-bPS9La3",
        "outputId": "dae30f77-9668-4679-e26a-0be83b17a7dd"
      },
      "outputs": [
        {
          "name": "stdout",
          "output_type": "stream",
          "text": [
            "31112426\n"
          ]
        },
        {
          "data": {
            "text/plain": [
              "{'20332201': 212,\n",
              " '88682899': 191,\n",
              " '64111706': 1998,\n",
              " '95686695': 201,\n",
              " '8589324': 209,\n",
              " '16993854': 205,\n",
              " '16694581': 225,\n",
              " '12521319': 193,\n",
              " '14004295': 194,\n",
              " '31112426': 203,\n",
              " '9833773': 191,\n",
              " '17268428': 212,\n",
              " '82807364': 192,\n",
              " '14067234': 196,\n",
              " '101329458': 197}"
            ]
          },
          "execution_count": 87,
          "metadata": {},
          "output_type": "execute_result"
        }
      ],
      "source": [
        "#similarity on cars\n",
        "car_camera_dict=dict(car_camera_list)\n",
        "camera_car_dict=dict(camera_car_list)\n",
        "cars=list(car_camera_dict.keys())\n",
        "sim_cars=Pixie_sim(car_camera_dict,camera_car_dict,random.choices(cars)[0],0.55,20,6000)\n",
        "print(str(random.choices(cars)[0]))\n",
        "sim_cars"
      ]
    },
    {
      "cell_type": "code",
      "execution_count": null,
      "metadata": {
        "colab": {
          "base_uri": "https://localhost:8080/"
        },
        "id": "EicI7HXT9Llr",
        "outputId": "731a3af2-63d8-4683-898a-6b1cc0597449"
      },
      "outputs": [
        {
          "name": "stdout",
          "output_type": "stream",
          "text": [
            "211701\n"
          ]
        },
        {
          "data": {
            "text/plain": [
              "{'211701': 2116, '22010054': 95, '22010040': 110, '114': 84, '22010053': 142}"
            ]
          },
          "execution_count": 99,
          "metadata": {},
          "output_type": "execute_result"
        }
      ],
      "source": [
        "#similarity on cameras\n",
        "cameras=list(camera_car_dict.keys())\n",
        "sim_cam=Pixie_sim(camera_car_dict,car_camera_dict,random.choices(cameras)[0],0.55,80,6000)\n",
        "print(str(random.choices(cameras)[0]))\n",
        "sim_cam"
      ]
    },
    {
      "cell_type": "markdown",
      "metadata": {
        "id": "F_BOsI9EiS2-"
      },
      "source": [
        "# **clustering**"
      ]
    },
    {
      "cell_type": "code",
      "execution_count": null,
      "metadata": {
        "id": "CHyxklc1iWuK"
      },
      "outputs": [],
      "source": [
        "from sklearn.cluster import KMeans\n",
        "from sklearn.preprocessing import StandardScaler\n",
        "feature_matrix = user_item_matrix\n",
        "standard_scaler= StandardScaler()\n",
        "scaled_feature_matrix = standard_scaler.fit_transform(feature_matrix)\n",
        "kmeans_kwargs = {\"init\":\"random\",\"n_init\":10,\"max_iter\":250,\"random_state\":52}\n",
        "e = []\n",
        "for i in range(1, 11):\n",
        "    kmeans = KMeans(n_clusters=i,**kmeans_kwargs)\n",
        "    kmeans.fit(scaled_feature_matrix)\n",
        "    e.append(kmeans.inertia_)"
      ]
    },
    {
      "cell_type": "code",
      "execution_count": null,
      "metadata": {
        "colab": {
          "base_uri": "https://localhost:8080/",
          "height": 296
        },
        "id": "gh2lQu5akZoV",
        "outputId": "ef713e92-067d-4778-c25d-6ec0378b9403"
      },
      "outputs": [
        {
          "data": {
            "text/plain": [
              "Text(0, 0.5, 'SSE')"
            ]
          },
          "execution_count": 34,
          "metadata": {},
          "output_type": "execute_result"
        },
        {
          "data": {
            "image/png": "[encoded data removed]",
            "text/plain": [
              "<Figure size 432x288 with 1 Axes>"
            ]
          },
          "metadata": {
            "needs_background": "light"
          },
          "output_type": "display_data"
        }
      ],
      "source": [
        "plt.plot(range(1, 11), e)\n",
        "plt.grid()\n",
        "plt.xlabel(\"Number of Clusters\")\n",
        "plt.ylabel(\"SSE\")"
      ]
    },
    {
      "cell_type": "code",
      "execution_count": null,
      "metadata": {
        "colab": {
          "base_uri": "https://localhost:8080/"
        },
        "id": "ycZ7OS-w0KRS",
        "outputId": "7a053acb-5ecd-46b9-b415-712c6e960e44"
      },
      "outputs": [
        {
          "data": {
            "text/plain": [
              "array([6, 1, 1, 1, 5, 6, 6, 1, 6, 1, 1, 6, 1, 7, 2, 6, 5, 7, 1, 4, 1, 1,\n",
              "       1, 1, 6, 6, 7, 4, 6, 3, 1, 4, 1, 4, 1, 1, 1, 4, 1, 1, 9, 1, 1, 6,\n",
              "       5, 1, 1, 5, 6, 3, 4, 9, 1, 8, 4, 1, 1, 4, 7, 1, 6, 1, 6, 1, 7, 1,\n",
              "       1, 1, 1, 1, 1, 1, 1, 5, 6, 1, 1, 4, 1, 1, 1, 4, 1, 5, 7, 1, 6, 4,\n",
              "       6, 1, 7, 6, 1, 1, 6, 6, 5, 4, 1, 6, 1, 2, 7, 1, 6, 1, 1, 1, 5, 1,\n",
              "       1, 1, 5, 4, 6, 1, 8, 3, 5, 1, 1, 6, 6, 1, 7, 1, 1, 4, 4, 1, 7, 1,\n",
              "       8, 7, 5, 1, 1, 1, 1, 1, 1, 1, 6, 1, 1, 7, 4, 6, 4, 4, 7, 5, 1, 7,\n",
              "       6, 1, 1, 1, 4, 2, 4, 1, 1, 4, 4, 3, 1, 1, 4, 7, 6, 6, 1, 1, 6, 1,\n",
              "       7, 7, 7, 1, 6, 1, 1, 1, 1, 1, 1, 1, 1, 6, 7, 3, 1, 1, 6, 1, 6, 1,\n",
              "       6, 8, 6, 1, 1, 1, 8, 7, 1, 1, 1, 4, 4, 1, 6, 4, 1, 1, 1, 3, 8, 6,\n",
              "       1, 1, 1, 1, 5, 6, 7, 8, 1, 1, 1, 1, 1, 1, 6, 1, 1, 0, 1, 5, 1, 1,\n",
              "       1, 4, 4, 7, 6, 1, 6, 6, 4, 1, 1, 8, 4, 4, 7, 1, 9, 1, 1, 1, 6, 1,\n",
              "       1, 4, 6, 4, 4, 1, 6, 4, 1, 1, 2, 6, 1, 4, 7, 1, 6, 6, 6, 1, 1, 1,\n",
              "       1, 5, 4, 1, 4, 6, 1, 8, 1, 1, 1, 1, 1, 1, 1, 1, 1, 6, 4, 6, 1, 6,\n",
              "       6, 1, 6, 4, 1, 7, 9, 1, 3, 1, 1, 6, 6, 6, 5, 1, 6, 1, 7, 9, 0, 1,\n",
              "       1, 4, 8, 1, 1, 6, 1, 9, 1, 1, 6, 7, 1, 5, 6, 1, 1, 1, 5, 1, 5, 7,\n",
              "       4, 4, 1, 4, 7, 1, 1, 1, 1, 6, 8, 4, 1, 6, 6, 1, 1, 2, 1, 1, 6, 5,\n",
              "       6, 4, 4, 5, 2, 4, 6, 1, 1, 3, 1, 6, 7, 6, 8, 4, 1, 1, 6, 6, 1, 1,\n",
              "       1, 1, 1, 8, 1, 6, 1, 1, 1, 1, 1, 8, 5, 8, 8, 4, 4, 1, 6, 1, 6, 1,\n",
              "       7, 6, 7, 1, 6, 1, 1, 6, 8, 6, 1, 1, 1, 6, 7, 4, 7, 6, 1, 1, 1, 5,\n",
              "       1, 1, 6, 4, 8, 4, 7, 1, 1, 5, 7, 4, 1, 1, 5, 1, 1, 1, 7, 4, 1, 1,\n",
              "       1, 6, 6, 4, 7, 1, 1, 1, 7, 6, 9, 8, 7, 1, 3, 8, 7, 7, 6, 1, 3, 7,\n",
              "       1, 9, 1, 6, 5, 4, 6, 5, 6, 6, 1, 6, 1, 5, 1, 6, 1, 6, 1, 1, 5, 1,\n",
              "       1, 4, 6, 4, 5, 4, 1, 7, 4, 1, 6, 9, 7, 7, 4, 1, 6, 8, 6, 4, 1, 4,\n",
              "       1, 1, 4, 1, 6, 1, 7, 6, 1, 6, 1, 6, 1, 1, 6, 5, 4, 1, 1, 6, 1, 6,\n",
              "       3, 6, 1, 5, 8, 1, 7, 1, 5, 6, 1, 6, 1, 5, 1, 5, 7, 1, 1, 1, 9, 1,\n",
              "       1, 1, 1, 9, 1, 1, 1, 1, 1, 6, 9, 1, 1, 9, 1, 9, 1, 1, 1, 1, 1, 1,\n",
              "       1, 4, 9, 1, 1, 1, 1, 1, 1, 1, 1, 1, 1, 1, 1, 1, 1, 1, 1, 1, 1, 9,\n",
              "       1, 1, 9, 1, 1, 1, 1, 1, 1, 1, 1, 1, 1, 1, 9, 1, 1, 1, 1, 1, 1, 1,\n",
              "       1, 1, 1, 9, 9, 1, 1, 1, 1, 6, 9, 1, 1, 1, 9, 1, 1, 1, 1, 1, 4, 1,\n",
              "       1, 1, 1, 1, 1, 1, 1, 1, 1, 1, 1, 1, 1, 1, 1, 1, 1, 1, 1, 1, 1, 1,\n",
              "       1, 1, 1, 1, 1, 1, 1, 1, 1, 1, 1, 1, 1, 1, 1, 1, 1, 1, 1, 1, 1, 1,\n",
              "       1, 1, 1, 1, 1, 1, 1, 1, 1, 1, 1, 1, 1, 1, 1, 1, 1, 1, 1, 1, 1, 1,\n",
              "       1, 1, 1, 1, 1, 1, 1, 1, 1, 1, 1, 1, 1, 1, 1, 1, 1, 1, 1, 1, 1, 1,\n",
              "       1, 1, 1, 1, 1, 1, 1, 1, 1, 1, 1, 1, 1, 1, 1, 1, 1, 1, 1, 1, 1, 1,\n",
              "       1, 1, 1, 1, 1, 1, 1, 1, 1, 1, 1, 1, 1, 1, 1, 1, 4, 1, 1, 1, 1, 1,\n",
              "       1, 1, 1, 1, 1, 1, 1, 1, 1, 1, 1, 1, 1, 1, 1, 1, 1, 1, 1, 1, 1, 1,\n",
              "       1, 1, 1, 1, 1, 1, 1, 1, 1, 1, 1, 1, 1, 1, 1, 1, 1, 1, 7, 1, 5, 1,\n",
              "       1, 1, 1, 1, 1, 6, 4, 1, 1, 1, 1, 1, 1, 1, 1, 1, 1, 1, 1, 1, 1, 1,\n",
              "       1, 1, 1, 1, 1, 1, 1, 1, 1, 1, 1, 1, 1, 1, 1, 1, 1, 1, 1, 1, 1, 1,\n",
              "       1, 1, 1, 4, 1, 1, 1, 1, 1, 1, 1, 1, 1, 1, 1, 1, 1, 1, 1, 1, 1, 1,\n",
              "       1, 1, 1, 1, 1, 1, 1, 1, 1, 1, 1, 1, 1, 1, 1, 1, 6, 1, 1, 1, 1, 1,\n",
              "       1, 1, 1, 1, 1, 1, 1, 1, 1, 1, 1, 1, 1, 1, 1, 1, 1, 1, 1, 1, 1, 1,\n",
              "       1, 1, 1, 1, 1, 1, 1, 1, 1, 1, 1, 1, 1, 1, 1, 1])"
            ]
          },
          "execution_count": 35,
          "metadata": {},
          "output_type": "execute_result"
        }
      ],
      "source": [
        "labels = kmeans.labels_.tolist()\n",
        "np.array(labels)"
      ]
    },
    {
      "cell_type": "code",
      "execution_count": null,
      "metadata": {
        "id": "YRfVFAraMWCa"
      },
      "outputs": [],
      "source": [
        "def key_find(arg):\n",
        "    for key, value in device_dict.items():\n",
        "         if arg == value:\n",
        "             return key\n",
        "    return \"non\"\n",
        "label0 = []\n",
        "label1 = []\n",
        "label2 = []\n",
        "label3 = []\n",
        "label4 = []\n",
        "label5 = []\n",
        "label6 = []\n",
        "label7 = []\n",
        "label8 = []\n",
        "label9 = []"
      ]
    },
    {
      "cell_type": "code",
      "execution_count": null,
      "metadata": {
        "id": "c0T7K6DXB9Sf"
      },
      "outputs": [],
      "source": [
        "for i in range(len(labels)):\n",
        "  if labels[i]==0:\n",
        "    label0.append(key_find(i))\n",
        "  elif labels[i]==1:\n",
        "    label1.append(key_find(i))\n",
        "  elif labels[i]==2:\n",
        "    label2.append(key_find(i))\n",
        "  elif labels[i]==3:\n",
        "    label3.append(key_find(i))\n",
        "  elif labels[i]==4:\n",
        "    label4.append(key_find(i))\n",
        "  elif labels[i]==5:\n",
        "    label5.append(key_find(i))\n",
        "  elif labels[i]==6:\n",
        "    label6.append(key_find(i))\n",
        "  elif labels[i]==7:\n",
        "    label7.append(key_find(i))\n",
        "  elif labels[i]==8:\n",
        "    label8.append(key_find(i))\n",
        "  elif labels[i]==9:\n",
        "    label9.append(key_find(i))"
      ]
    },
    {
      "cell_type": "code",
      "execution_count": null,
      "metadata": {
        "colab": {
          "base_uri": "https://localhost:8080/",
          "height": 424
        },
        "id": "wIARMBdwEZUy",
        "outputId": "0c212d1a-1958-4ee8-a5dc-9e5bf9713a43"
      },
      "outputs": [
        {
          "data": {
            "text/html": [
              "\n",
              "  <div id=\"df-9fa2c579-5ba8-4e61-beea-a598b2ad6c4f\">\n",
              "    <div class=\"colab-df-container\">\n",
              "      <div>\n",
              "<style scoped>\n",
              "    .dataframe tbody tr th:only-of-type {\n",
              "        vertical-align: middle;\n",
              "    }\n",
              "\n",
              "    .dataframe tbody tr th {\n",
              "        vertical-align: top;\n",
              "    }\n",
              "\n",
              "    .dataframe thead th {\n",
              "        text-align: right;\n",
              "    }\n",
              "</style>\n",
              "<table border=\"1\" class=\"dataframe\">\n",
              "  <thead>\n",
              "    <tr style=\"text-align: right;\">\n",
              "      <th></th>\n",
              "      <th>Label 4</th>\n",
              "    </tr>\n",
              "  </thead>\n",
              "  <tbody>\n",
              "    <tr>\n",
              "      <th>0</th>\n",
              "      <td>232</td>\n",
              "    </tr>\n",
              "    <tr>\n",
              "      <th>1</th>\n",
              "      <td>155</td>\n",
              "    </tr>\n",
              "    <tr>\n",
              "      <th>2</th>\n",
              "      <td>200902</td>\n",
              "    </tr>\n",
              "    <tr>\n",
              "      <th>3</th>\n",
              "      <td>209103</td>\n",
              "    </tr>\n",
              "    <tr>\n",
              "      <th>4</th>\n",
              "      <td>631346</td>\n",
              "    </tr>\n",
              "    <tr>\n",
              "      <th>...</th>\n",
              "      <td>...</td>\n",
              "    </tr>\n",
              "    <tr>\n",
              "      <th>67</th>\n",
              "      <td>100701269</td>\n",
              "    </tr>\n",
              "    <tr>\n",
              "      <th>68</th>\n",
              "      <td>100701262</td>\n",
              "    </tr>\n",
              "    <tr>\n",
              "      <th>69</th>\n",
              "      <td>100700835</td>\n",
              "    </tr>\n",
              "    <tr>\n",
              "      <th>70</th>\n",
              "      <td>900199</td>\n",
              "    </tr>\n",
              "    <tr>\n",
              "      <th>71</th>\n",
              "      <td>900265</td>\n",
              "    </tr>\n",
              "  </tbody>\n",
              "</table>\n",
              "<p>72 rows × 1 columns</p>\n",
              "</div>\n",
              "      <button class=\"colab-df-convert\" onclick=\"convertToInteractive('df-9fa2c579-5ba8-4e61-beea-a598b2ad6c4f')\"\n",
              "              title=\"Convert this dataframe to an interactive table.\"\n",
              "              style=\"display:none;\">\n",
              "        \n",
              "  <svg xmlns=\"http://www.w3.org/2000/svg\" height=\"24px\"viewBox=\"0 0 24 24\"\n",
              "       width=\"24px\">\n",
              "    <path d=\"M0 0h24v24H0V0z\" fill=\"none\"/>\n",
              "    <path d=\"M18.56 5.44l.94 2.06.94-2.06 2.06-.94-2.06-.94-.94-2.06-.94 2.06-2.06.94zm-11 1L8.5 8.5l.94-2.06 2.06-.94-2.06-.94L8.5 2.5l-.94 2.06-2.06.94zm10 10l.94 2.06.94-2.06 2.06-.94-2.06-.94-.94-2.06-.94 2.06-2.06.94z\"/><path d=\"M17.41 7.96l-1.37-1.37c-.4-.4-.92-.59-1.43-.59-.52 0-1.04.2-1.43.59L10.3 9.45l-7.72 7.72c-.78.78-.78 2.05 0 2.83L4 21.41c.39.39.9.59 1.41.59.51 0 1.02-.2 1.41-.59l7.78-7.78 2.81-2.81c.8-.78.8-2.07 0-2.86zM5.41 20L4 18.59l7.72-7.72 1.47 1.35L5.41 20z\"/>\n",
              "  </svg>\n",
              "      </button>\n",
              "      \n",
              "  <style>\n",
              "    .colab-df-container {\n",
              "      display:flex;\n",
              "      flex-wrap:wrap;\n",
              "      gap: 12px;\n",
              "    }\n",
              "\n",
              "    .colab-df-convert {\n",
              "      background-color: #E8F0FE;\n",
              "      border: none;\n",
              "      border-radius: 50%;\n",
              "      cursor: pointer;\n",
              "      display: none;\n",
              "      fill: #1967D2;\n",
              "      height: 32px;\n",
              "      padding: 0 0 0 0;\n",
              "      width: 32px;\n",
              "    }\n",
              "\n",
              "    .colab-df-convert:hover {\n",
              "      background-color: #E2EBFA;\n",
              "      box-shadow: 0px 1px 2px rgba(60, 64, 67, 0.3), 0px 1px 3px 1px rgba(60, 64, 67, 0.15);\n",
              "      fill: #174EA6;\n",
              "    }\n",
              "\n",
              "    [theme=dark] .colab-df-convert {\n",
              "      background-color: #3B4455;\n",
              "      fill: #D2E3FC;\n",
              "    }\n",
              "\n",
              "    [theme=dark] .colab-df-convert:hover {\n",
              "      background-color: #434B5C;\n",
              "      box-shadow: 0px 1px 3px 1px rgba(0, 0, 0, 0.15);\n",
              "      filter: drop-shadow(0px 1px 2px rgba(0, 0, 0, 0.3));\n",
              "      fill: #FFFFFF;\n",
              "    }\n",
              "  </style>\n",
              "\n",
              "      <script>\n",
              "        const buttonEl =\n",
              "          document.querySelector('#df-9fa2c579-5ba8-4e61-beea-a598b2ad6c4f button.colab-df-convert');\n",
              "        buttonEl.style.display =\n",
              "          google.colab.kernel.accessAllowed ? 'block' : 'none';\n",
              "\n",
              "        async function convertToInteractive(key) {\n",
              "          const element = document.querySelector('#df-9fa2c579-5ba8-4e61-beea-a598b2ad6c4f');\n",
              "          const dataTable =\n",
              "            await google.colab.kernel.invokeFunction('convertToInteractive',\n",
              "                                                     [key], {});\n",
              "          if (!dataTable) return;\n",
              "\n",
              "          const docLinkHtml = 'Like what you see? Visit the ' +\n",
              "            '<a target=\"_blank\" href=https://colab.research.google.com/notebooks/data_table.ipynb>data table notebook</a>'\n",
              "            + ' to learn more about interactive tables.';\n",
              "          element.innerHTML = '';\n",
              "          dataTable['output_type'] = 'display_data';\n",
              "          await google.colab.output.renderOutput(dataTable, element);\n",
              "          const docLink = document.createElement('div');\n",
              "          docLink.innerHTML = docLinkHtml;\n",
              "          element.appendChild(docLink);\n",
              "        }\n",
              "      </script>\n",
              "    </div>\n",
              "  </div>\n",
              "  "
            ],
            "text/plain": [
              "      Label 4\n",
              "0         232\n",
              "1         155\n",
              "2      200902\n",
              "3      209103\n",
              "4      631346\n",
              "..        ...\n",
              "67  100701269\n",
              "68  100701262\n",
              "69  100700835\n",
              "70     900199\n",
              "71     900265\n",
              "\n",
              "[72 rows x 1 columns]"
            ]
          },
          "execution_count": 40,
          "metadata": {},
          "output_type": "execute_result"
        }
      ],
      "source": [
        "pd.DataFrame(label4, columns=['Label 4'])"
      ]
    },
    {
      "cell_type": "markdown",
      "metadata": {
        "id": "l7g1RlqiQrov"
      },
      "source": [
        "# **frequent-items(A-priori)**\n",
        "\n"
      ]
    },
    {
      "cell_type": "code",
      "execution_count": null,
      "metadata": {
        "id": "gPamgH4zE3vp"
      },
      "outputs": [],
      "source": [
        "import pandas as pd\n",
        "import numpy as np\n",
        "import itertools\n",
        "from tqdm import tqdm"
      ]
    },
    {
      "cell_type": "code",
      "execution_count": null,
      "metadata": {
        "colab": {
          "base_uri": "https://localhost:8080/"
        },
        "id": "f6WswjWgRFOy",
        "outputId": "ce388c4b-ba43-47ae-98a4-c4de474c1653"
      },
      "outputs": [
        {
          "name": "stdout",
          "output_type": "stream",
          "text": [
            "+-----------+-------------+-------------------+----------+\n",
            "|DEVICE_CODE|FINAL_CAR_KEY|      PASS_DAY_TIME|      date|\n",
            "+-----------+-------------+-------------------+----------+\n",
            "|   22010054|     64111706|2021-12-22 01:24:18|2021-12-22|\n",
            "|   22010040|     64111706|2021-12-22 01:40:29|2021-12-22|\n",
            "|   22010079|     63348486|2021-12-22 01:14:32|2021-12-22|\n",
            "+-----------+-------------+-------------------+----------+\n",
            "only showing top 3 rows\n",
            "\n"
          ]
        }
      ],
      "source": [
        "#add column 'date' to dataframe\n",
        "df_a=df.withColumn(\"date\",to_date(\"PASS_DAY_TIME\"))\n",
        "df_a.show(3)"
      ]
    },
    {
      "cell_type": "code",
      "execution_count": null,
      "metadata": {
        "id": "A9n-j7KrRF5k"
      },
      "outputs": [],
      "source": [
        "#creat rdd (key=(plate,date),value=DEVICE_CODE)\n",
        "df_a_rdd=df_a.rdd.map(lambda x: ((x[1],str(x[3])),x[0]))"
      ]
    },
    {
      "cell_type": "code",
      "execution_count": null,
      "metadata": {
        "id": "0U-tKY9cRF22"
      },
      "outputs": [],
      "source": [
        "#groupby the rdd and creat the new rdd with new format (key=(plate,date),value=[list of device codes])\n",
        "rdd_a_1=df_a_rdd.groupByKey().mapValues(set).mapValues(list)"
      ]
    },
    {
      "cell_type": "code",
      "execution_count": null,
      "metadata": {
        "id": "v_vuBeNLRFx6"
      },
      "outputs": [],
      "source": [
        "#creat baskets of cameras\n",
        "rdd_of_baskets=rdd_a_1.map(lambda x:x[1])"
      ]
    },
    {
      "cell_type": "code",
      "execution_count": null,
      "metadata": {
        "id": "m9EmnGUjc2Wb"
      },
      "outputs": [],
      "source": [
        "basket_numbers=rdd_of_baskets.count()"
      ]
    },
    {
      "cell_type": "code",
      "execution_count": null,
      "metadata": {
        "id": "2uB3NnUldb7U"
      },
      "outputs": [],
      "source": [
        "baskets_list = rdd_of_baskets.collect()"
      ]
    },
    {
      "cell_type": "code",
      "execution_count": null,
      "metadata": {
        "id": "8l9JPeqTF1kP"
      },
      "outputs": [],
      "source": [
        "#creat rdd of items\n",
        "rdd_of_items = rdd_of_baskets.flatMap(lambda x:x)\n",
        "\n",
        "#creat (key=item, value=1) for each item\n",
        "KV_of_items=rdd_of_items.map(lambda x :(x,1))\n",
        "\n",
        "#count each item with reduceByKey (key = item, value =number of the item) \n",
        "number_of_item = KV_of_items.reduceByKey(lambda x, y: x + y) "
      ]
    },
    {
      "cell_type": "code",
      "execution_count": null,
      "metadata": {
        "colab": {
          "base_uri": "https://localhost:8080/"
        },
        "id": "A2wfYauYJz5Y",
        "outputId": "7d0b90d9-1bb0-474a-b8c6-035652bef937"
      },
      "outputs": [
        {
          "data": {
            "text/plain": [
              "[('900212', 258396),\n",
              " ('900244', 250597),\n",
              " ('100700853', 214275),\n",
              " ('900269', 207356),\n",
              " ('900222', 182983),\n",
              " ('631634', 173842),\n",
              " ('900101', 163240),\n",
              " ('900142', 151506),\n",
              " ('100700841', 143324),\n",
              " ('631633', 142285),\n",
              " ('900268', 139104),\n",
              " ('900225', 138451),\n",
              " ('900155', 135421),\n",
              " ('900246', 132204),\n",
              " ('900236', 131893),\n",
              " ('900164', 122542),\n",
              " ('900191', 119686),\n",
              " ('100700804', 110369),\n",
              " ('631357', 109736),\n",
              " ('900234', 108221),\n",
              " ('100700864', 100147),\n",
              " ('900218', 99848),\n",
              " ('900207', 99468),\n",
              " ('100700820', 94865),\n",
              " ('900273', 89021),\n",
              " ('900266', 86486),\n",
              " ('900233', 81621),\n",
              " ('900202', 81042),\n",
              " ('900259', 80329),\n",
              " ('900217', 78644),\n",
              " ('114', 78000),\n",
              " ('100700839', 75986),\n",
              " ('900226', 75567),\n",
              " ('631829', 75275),\n",
              " ('631795', 74991),\n",
              " ('900185', 74988),\n",
              " ('100700881', 73956),\n",
              " ('22010040', 73507),\n",
              " ('900102', 73083),\n",
              " ('631765', 71195),\n",
              " ('631368', 71094),\n",
              " ('900243', 69807),\n",
              " ('900149', 69613),\n",
              " ('900167', 69318),\n",
              " ('900215', 67545),\n",
              " ('900235', 66107),\n",
              " ('900141', 65372),\n",
              " ('900214', 64205),\n",
              " ('100700862', 64001),\n",
              " ('205802', 63757),\n",
              " ('900256', 62603),\n",
              " ('22010039', 62586),\n",
              " ('203902', 61293),\n",
              " ('22010088', 60453),\n",
              " ('119', 59563),\n",
              " ('900255', 59075),\n",
              " ('900241', 56385),\n",
              " ('22010054', 56276),\n",
              " ('22009971', 56230),\n",
              " ('22010053', 56217),\n",
              " ('900227', 55905),\n",
              " ('135', 54940),\n",
              " ('900152', 54509),\n",
              " ('230204', 52228),\n",
              " ('631363', 52094),\n",
              " ('175', 51948),\n",
              " ('231', 51531),\n",
              " ('900242', 50686),\n",
              " ('100700826', 50513),\n",
              " ('212802', 49991),\n",
              " ('631367', 48710),\n",
              " ('22010047', 48555),\n",
              " ('900213', 48493),\n",
              " ('900224', 48047),\n",
              " ('206602', 46673),\n",
              " ('900158', 45873),\n",
              " ('22010083', 45448),\n",
              " ('22009972', 45404),\n",
              " ('900174', 45054),\n",
              " ('103002', 44638),\n",
              " ('631763', 44435),\n",
              " ('22009977', 43830),\n",
              " ('145', 42331),\n",
              " ('100701130', 42093),\n",
              " ('100700812', 42009),\n",
              " ('900135', 41479),\n",
              " ('101301', 41323),\n",
              " ('100700857', 40983),\n",
              " ('900277', 40434),\n",
              " ('205201', 39567),\n",
              " ('100700834', 39285),\n",
              " ('900223', 39132),\n",
              " ('900193', 38391),\n",
              " ('22010048', 38383),\n",
              " ('900178', 38206),\n",
              " ('100701100', 38150),\n",
              " ('900272', 38033),\n",
              " ('22010031', 37677),\n",
              " ('100700871', 37299),\n",
              " ('900182', 36684),\n",
              " ('631361', 36472),\n",
              " ('100', 36395),\n",
              " ('22010079', 36306),\n",
              " ('900258', 36190),\n",
              " ('900199', 36032),\n",
              " ('117', 35705),\n",
              " ('900228', 35702),\n",
              " ('900151', 35502),\n",
              " ('100701119', 35385),\n",
              " ('103001', 35003),\n",
              " ('900197', 34965),\n",
              " ('22010118', 34902),\n",
              " ('631355', 34769),\n",
              " ('22010087', 34105),\n",
              " ('202601', 33732),\n",
              " ('100701260', 32842),\n",
              " ('631757', 32050),\n",
              " ('631830', 31902),\n",
              " ('900150', 31146),\n",
              " ('22010117', 30905),\n",
              " ('900247', 30731),\n",
              " ('22010059', 30480),\n",
              " ('22010044', 29265),\n",
              " ('900156', 28961),\n",
              " ('900126', 28932),\n",
              " ('900245', 28915),\n",
              " ('100700929', 28839),\n",
              " ('631370', 27812),\n",
              " ('900208', 27693),\n",
              " ('100701092', 27612),\n",
              " ('155', 27374),\n",
              " ('900104', 27261),\n",
              " ('100701096', 27164),\n",
              " ('900211', 27057),\n",
              " ('900221', 26933),\n",
              " ('100700894', 26822),\n",
              " ('22010084', 26574),\n",
              " ('213402', 26558),\n",
              " ('22010085', 26498),\n",
              " ('100701090', 26341),\n",
              " ('631354', 26304),\n",
              " ('900265', 26117),\n",
              " ('100701252', 26000),\n",
              " ('209103', 25949),\n",
              " ('631832', 25673),\n",
              " ('200902', 25568),\n",
              " ('100700847', 25184),\n",
              " ('22010078', 25087),\n",
              " ('900239', 25035),\n",
              " ('22010094', 25004),\n",
              " ('100701263', 24979),\n",
              " ('900232', 24157),\n",
              " ('900134', 24109),\n",
              " ('900251', 23988),\n",
              " ('631346', 23977),\n",
              " ('22010061', 23388),\n",
              " ('202101', 23307),\n",
              " ('211301', 23220),\n",
              " ('22010099', 23191),\n",
              " ('22010095', 23152),\n",
              " ('230101', 23063),\n",
              " ('631775', 22946),\n",
              " ('202901', 22896),\n",
              " ('631362', 22609),\n",
              " ('631369', 22230),\n",
              " ('232', 22143),\n",
              " ('900248', 22054),\n",
              " ('100701045', 21793),\n",
              " ('900139', 21700),\n",
              " ('115', 21568),\n",
              " ('900170', 21252),\n",
              " ('22010086', 20816),\n",
              " ('205202', 20799),\n",
              " ('100701303', 20613),\n",
              " ('900264', 20435),\n",
              " ('208602', 20003),\n",
              " ('104', 19891),\n",
              " ('200301', 19884),\n",
              " ('22010060', 19878),\n",
              " ('100700836', 19600),\n",
              " ('631356', 19570),\n",
              " ('22009923', 19475),\n",
              " ('100700965', 19279),\n",
              " ('900138', 19204),\n",
              " ('100701068', 19004),\n",
              " ('212501', 18862),\n",
              " ('631640', 18826),\n",
              " ('168', 18514),\n",
              " ('206701', 18282),\n",
              " ('230107', 18044),\n",
              " ('100701267', 18009),\n",
              " ('900129', 17890),\n",
              " ('100701299', 17845),\n",
              " ('100701302', 17790),\n",
              " ('100701059', 17781),\n",
              " ('209102', 17675),\n",
              " ('100700835', 17629),\n",
              " ('900253', 17157),\n",
              " ('200502', 16993),\n",
              " ('112', 16921),\n",
              " ('230201', 16691),\n",
              " ('900162', 16652),\n",
              " ('900132', 16446),\n",
              " ('63188201', 16371),\n",
              " ('137', 16131),\n",
              " ('22010100', 16075),\n",
              " ('631366', 15973),\n",
              " ('900179', 15904),\n",
              " ('22010043', 15724),\n",
              " ('100701132', 15553),\n",
              " ('631758', 15444),\n",
              " ('230106', 15408),\n",
              " ('900203', 15390),\n",
              " ('22010057', 15263),\n",
              " ('100701131', 15210),\n",
              " ('900194', 15075),\n",
              " ('900113', 15024),\n",
              " ('100701093', 14864),\n",
              " ('22010110', 14841),\n",
              " ('100701262', 14780),\n",
              " ('900117', 14532),\n",
              " ('123', 14247),\n",
              " ('900125', 14224),\n",
              " ('631776', 14024),\n",
              " ('153', 13960),\n",
              " ('100701265', 13949),\n",
              " ('22010072', 13878),\n",
              " ('204101', 13838),\n",
              " ('100701269', 13773),\n",
              " ('100701266', 13768),\n",
              " ('631759', 13479),\n",
              " ('100701254', 13383),\n",
              " ('100701268', 13271),\n",
              " ('169', 13116),\n",
              " ('22010080', 13044),\n",
              " ('631833', 13033),\n",
              " ('900143', 12962),\n",
              " ('213401', 12738),\n",
              " ('163', 12705),\n",
              " ('631831', 12519),\n",
              " ('100701297', 12462),\n",
              " ('22010096', 12281),\n",
              " ('900278', 12243),\n",
              " ('22010134', 11973),\n",
              " ('900216', 11760),\n",
              " ('156', 11690),\n",
              " ('207501', 11629),\n",
              " ('22010051', 11506),\n",
              " ('100700978', 11449),\n",
              " ('100700880', 11435),\n",
              " ('204901', 11326),\n",
              " ('22010055', 11162),\n",
              " ('144', 11138),\n",
              " ('100701295', 11056),\n",
              " ('900275', 10956),\n",
              " ('900130', 10930),\n",
              " ('128', 10725),\n",
              " ('22010058', 10716),\n",
              " ('107301', 10635),\n",
              " ('631719', 10586),\n",
              " ('100700958', 10583),\n",
              " ('22010056', 10525),\n",
              " ('900231', 10506),\n",
              " ('210602', 10398),\n",
              " ('22010052', 10327),\n",
              " ('22010112', 10322),\n",
              " ('900176', 10269),\n",
              " ('100701293', 10201),\n",
              " ('22010073', 10158),\n",
              " ('631352', 10068),\n",
              " ('900183', 10034),\n",
              " ('22010092', 9953),\n",
              " ('100700910', 9871),\n",
              " ('631748', 9811),\n",
              " ('631359', 9358),\n",
              " ('22010139', 9105),\n",
              " ('900161', 8913),\n",
              " ('203101', 8905),\n",
              " ('100701298', 8848),\n",
              " ('631826', 8729),\n",
              " ('100700914', 8702),\n",
              " ('100701147', 8669),\n",
              " ('230103', 8537),\n",
              " ('207101', 8405),\n",
              " ('204401', 8365),\n",
              " ('211401', 8355),\n",
              " ('100701144', 8312),\n",
              " ('22010071', 8297),\n",
              " ('100701296', 8265),\n",
              " ('100701145', 8208),\n",
              " ('631360', 8194),\n",
              " ('113', 8123),\n",
              " ('22010077', 7806),\n",
              " ('103', 7735),\n",
              " ('150', 7735),\n",
              " ('631608', 7580),\n",
              " ('22009829', 7381),\n",
              " ('100700932', 7364),\n",
              " ('900230', 7303),\n",
              " ('100700814', 7254),\n",
              " ('22010109', 7133),\n",
              " ('900205', 7110),\n",
              " ('22010111', 7042),\n",
              " ('22009912', 7022),\n",
              " ('22009834', 6870),\n",
              " ('631784', 6812),\n",
              " ('100701156', 6771),\n",
              " ('22010122', 6751),\n",
              " ('206601', 6619),\n",
              " ('631610', 6617),\n",
              " ('100700902', 6608),\n",
              " ('140', 6499),\n",
              " ('211901', 6431),\n",
              " ('631609', 6416),\n",
              " ('149', 6345),\n",
              " ('203001', 6335),\n",
              " ('208601', 6268),\n",
              " ('200601', 6196),\n",
              " ('100701150', 6162),\n",
              " ('22010135', 6103),\n",
              " ('631799', 6047),\n",
              " ('900163', 5918),\n",
              " ('22010125', 5857),\n",
              " ('22010115', 5787),\n",
              " ('204902', 5787),\n",
              " ('900159', 5672),\n",
              " ('203701', 5545),\n",
              " ('900103', 5532),\n",
              " ('230108', 5413),\n",
              " ('201801', 5307),\n",
              " ('631825', 5291),\n",
              " ('22009832', 5272),\n",
              " ('631771', 5184),\n",
              " ('631781', 5181),\n",
              " ('22010127', 5056),\n",
              " ('205801', 4900),\n",
              " ('212002', 4864),\n",
              " ('900261', 4847),\n",
              " ('22010029', 4820),\n",
              " ('635695', 4804),\n",
              " ('22010113', 4793),\n",
              " ('100701251', 4792),\n",
              " ('100701148', 4754),\n",
              " ('100701143', 4707),\n",
              " ('22010102', 4673),\n",
              " ('212001', 4667),\n",
              " ('100700832', 4650),\n",
              " ('22010093', 4588),\n",
              " ('102', 4505),\n",
              " ('900133', 4499),\n",
              " ('200402', 4477),\n",
              " ('211701', 4458),\n",
              " ('900184', 4392),\n",
              " ('100701126', 4300),\n",
              " ('900274', 4294),\n",
              " ('22010138', 4289),\n",
              " ('631349', 4234),\n",
              " ('203401', 4189),\n",
              " ('800103', 4180),\n",
              " ('900144', 3974),\n",
              " ('100700964', 3965),\n",
              " ('22010120', 3945),\n",
              " ('209101', 3941),\n",
              " ('900180', 3937),\n",
              " ('141', 3838),\n",
              " ('631611', 3815),\n",
              " ('160', 3786),\n",
              " ('803001', 3781),\n",
              " ('203501', 3757),\n",
              " ('100700973', 3713),\n",
              " ('22010107', 3610),\n",
              " ('22010128', 3604),\n",
              " ('230102', 3565),\n",
              " ('200202', 3558),\n",
              " ('154', 3545),\n",
              " ('100700838', 3507),\n",
              " ('100701235', 3331),\n",
              " ('177', 3291),\n",
              " ('110', 3259),\n",
              " ('900148', 3194),\n",
              " ('170', 3188),\n",
              " ('22010070', 3140),\n",
              " ('157', 3121),\n",
              " ('631791', 3060),\n",
              " ('203301', 3036),\n",
              " ('900165', 2967),\n",
              " ('22010101', 2958),\n",
              " ('213301', 2950),\n",
              " ('900123', 2887),\n",
              " ('100700861', 2832),\n",
              " ('100701250', 2746),\n",
              " ('631639', 2726),\n",
              " ('900169', 2695),\n",
              " ('635719', 2663),\n",
              " ('900250', 2655),\n",
              " ('631783', 2637),\n",
              " ('100701146', 2622),\n",
              " ('100700957', 2601),\n",
              " ('631350', 2564),\n",
              " ('139', 2560),\n",
              " ('146', 2477),\n",
              " ('211001', 2458),\n",
              " ('212601', 2455),\n",
              " ('631782', 2439),\n",
              " ('100700884', 2413),\n",
              " ('631351', 2370),\n",
              " ('22000601', 2345),\n",
              " ('207401', 2316),\n",
              " ('100700943', 2273),\n",
              " ('100700885', 2262),\n",
              " ('100701125', 2253),\n",
              " ('118', 2253),\n",
              " ('100701174', 2197),\n",
              " ('200901', 2173),\n",
              " ('800801', 2159),\n",
              " ('205501', 2143),\n",
              " ('635696', 2119),\n",
              " ('100700901', 2083),\n",
              " ('120', 2080),\n",
              " ('631347', 2059),\n",
              " ('212201', 2007),\n",
              " ('22010042', 1955),\n",
              " ('101', 1923),\n",
              " ('210601', 1913),\n",
              " ('631348', 1910),\n",
              " ('631365', 1908),\n",
              " ('107', 1905),\n",
              " ('22010121', 1872),\n",
              " ('22010036', 1867),\n",
              " ('100701120', 1853),\n",
              " ('631888', 1833),\n",
              " ('631364', 1806),\n",
              " ('121', 1802),\n",
              " ('631800', 1798),\n",
              " ('176', 1768),\n",
              " ('100701155', 1727),\n",
              " ('900195', 1637),\n",
              " ('207601', 1635),\n",
              " ('900198', 1625),\n",
              " ('801811', 1624),\n",
              " ('200101', 1592),\n",
              " ('148', 1589),\n",
              " ('22009835', 1589),\n",
              " ('164', 1571),\n",
              " ('100700996', 1493),\n",
              " ('8106011', 1454),\n",
              " ('100700911', 1452),\n",
              " ('106', 1448),\n",
              " ('204501', 1442),\n",
              " ('631828', 1408),\n",
              " ('100701127', 1395),\n",
              " ('631353', 1378),\n",
              " ('204301', 1370),\n",
              " ('207201', 1367),\n",
              " ('680102', 1365),\n",
              " ('811002', 1359),\n",
              " ('230105', 1342),\n",
              " ('105', 1341),\n",
              " ('100701152', 1329),\n",
              " ('201901', 1312),\n",
              " ('631489', 1306),\n",
              " ('138', 1296),\n",
              " ('22009915', 1293),\n",
              " ('200501', 1287),\n",
              " ('100701151', 1265),\n",
              " ('22009921', 1257),\n",
              " ('147', 1252),\n",
              " ('200801', 1249),\n",
              " ('167', 1224),\n",
              " ('800510', 1217),\n",
              " ('900115', 1214),\n",
              " ('233', 1167),\n",
              " ('134', 1132),\n",
              " ('810210', 1130),\n",
              " ('801710', 1114),\n",
              " ('631881', 1090),\n",
              " ('126', 1088),\n",
              " ('900122', 1068),\n",
              " ('631358', 1015),\n",
              " ('22000701', 992),\n",
              " ('100701149', 987),\n",
              " ('204701', 976),\n",
              " ('22010037', 922),\n",
              " ('819001', 900),\n",
              " ('810902', 895),\n",
              " ('900177', 895),\n",
              " ('22009916', 879),\n",
              " ('680103', 847),\n",
              " ('801210', 840),\n",
              " ('230202', 832),\n",
              " ('100700927', 829),\n",
              " ('631506', 816),\n",
              " ('158', 797),\n",
              " ('631794', 796),\n",
              " ('210200', 790),\n",
              " ('100701157', 777),\n",
              " ('801510', 775),\n",
              " ('108', 773),\n",
              " ('813101', 771),\n",
              " ('900145', 771),\n",
              " ('900121', 760),\n",
              " ('900172', 749),\n",
              " ('206801', 748),\n",
              " ('631887', 745),\n",
              " ('202201', 742),\n",
              " ('22009920', 732),\n",
              " ('213202', 728),\n",
              " ('100701294', 706),\n",
              " ('202001', 702),\n",
              " ('162', 700),\n",
              " ('210203', 698),\n",
              " ('22010041', 695),\n",
              " ('100700921', 686),\n",
              " ('207001', 678),\n",
              " ('22004601', 674),\n",
              " ('22009967', 653),\n",
              " ('100700938', 646),\n",
              " ('129', 635),\n",
              " ('22010137', 632),\n",
              " ('900127', 625),\n",
              " ('22009975', 621),\n",
              " ('206101', 598),\n",
              " ('100700937', 596),\n",
              " ('22009846', 595),\n",
              " ('22010126', 594),\n",
              " ('22009918', 591),\n",
              " ('810510', 567),\n",
              " ('810802', 567),\n",
              " ('631505', 558),\n",
              " ('635704', 556),\n",
              " ('631895', 553),\n",
              " ('130', 549),\n",
              " ('900146', 547),\n",
              " ('207301', 547),\n",
              " ('127', 541),\n",
              " ('22009979', 529),\n",
              " ('22010116', 528),\n",
              " ('635717', 526),\n",
              " ('635541', 522),\n",
              " ('10070090', 521),\n",
              " ('100700979', 520),\n",
              " ('122', 504),\n",
              " ('900229', 503),\n",
              " ('22005301', 502),\n",
              " ('810110', 496),\n",
              " ('100700970', 492),\n",
              " ('631838', 492),\n",
              " ('631993', 488),\n",
              " ('100700983', 486),\n",
              " ('100701160', 485),\n",
              " ('631889', 485),\n",
              " ('635720', 485),\n",
              " ('100701181', 482),\n",
              " ('631487', 474),\n",
              " ('22010030', 473),\n",
              " ('22010068', 469),\n",
              " ('100700928', 459),\n",
              " ('635693', 458),\n",
              " ('900109', 456),\n",
              " ('206401', 454),\n",
              " ('631793', 454),\n",
              " ('205301', 448),\n",
              " ('631912', 444),\n",
              " ('22010089', 435),\n",
              " ('111', 431),\n",
              " ('10015201', 431),\n",
              " ('212701', 425),\n",
              " ('712005', 425),\n",
              " ('22009831', 424),\n",
              " ('631997', 417),\n",
              " ('900173', 414),\n",
              " ('900120', 413),\n",
              " ('631991', 413),\n",
              " ('174', 411),\n",
              " ('631700', 409),\n",
              " ('631885', 402),\n",
              " ('631932', 398),\n",
              " ('100700920', 396),\n",
              " ('631960', 394),\n",
              " ('631884', 388),\n",
              " ('100700925', 387),\n",
              " ('22010098', 383),\n",
              " ('100700961', 383),\n",
              " ('635713', 375),\n",
              " ('22009830', 370),\n",
              " ('631486', 369),\n",
              " ('631658', 368),\n",
              " ('711011', 367),\n",
              " ('900166', 362),\n",
              " ('100700934', 360),\n",
              " ('22004201', 359),\n",
              " ('161', 358),\n",
              " ('635531', 357),\n",
              " ('22009841', 356),\n",
              " ('800910', 356),\n",
              " ('631716', 355),\n",
              " ('100701182', 353),\n",
              " ('22010034', 353),\n",
              " ('631636', 351),\n",
              " ('100700960', 351),\n",
              " ('712003', 348),\n",
              " ('631488', 348),\n",
              " ('22009836', 346),\n",
              " ('22009910', 333),\n",
              " ('631703', 332),\n",
              " ('109', 324),\n",
              " ('635506', 319),\n",
              " ('631981', 318),\n",
              " ('631957', 316),\n",
              " ('100700962', 315),\n",
              " ('635619', 314),\n",
              " ('801410', 312),\n",
              " ('635616', 308),\n",
              " ('22009917', 307),\n",
              " ('22009819', 306),\n",
              " ('136', 305),\n",
              " ('200701', 305),\n",
              " ('631687', 305),\n",
              " ('635556', 303),\n",
              " ('813201', 302),\n",
              " ('22009847', 301),\n",
              " ('631970', 298),\n",
              " ('631869', 295),\n",
              " ('631696', 294),\n",
              " ('100700944', 293),\n",
              " ('631710', 291),\n",
              " ('124', 288),\n",
              " ('631985', 287),\n",
              " ('100701153', 285),\n",
              " ('22004801', 282),\n",
              " ('635517', 281),\n",
              " ('811402', 276),\n",
              " ('631913', 276),\n",
              " ('631928', 276),\n",
              " ('900131', 275),\n",
              " ('631971', 274),\n",
              " ('900136', 274),\n",
              " ('631690', 273),\n",
              " ('1001028', 270),\n",
              " ('635625', 269),\n",
              " ('631646', 268),\n",
              " ('635549', 266),\n",
              " ('631714', 257),\n",
              " ('22009928', 257),\n",
              " ('22009973', 256),\n",
              " ('100700950', 255),\n",
              " ('207701', 252),\n",
              " ('635722', 248),\n",
              " ('631927', 247),\n",
              " ('635716', 240),\n",
              " ('100700918', 239),\n",
              " ('635615', 237),\n",
              " ('900175', 234),\n",
              " ('631973', 234),\n",
              " ('22000801', 234),\n",
              " ('22000101', 233),\n",
              " ('22009805', 232),\n",
              " ('635527', 230),\n",
              " ('635697', 227),\n",
              " ('22010035', 225),\n",
              " ('631910', 224),\n",
              " ('631926', 224),\n",
              " ('721903', 222),\n",
              " ('635512', 221),\n",
              " ('635711', 220),\n",
              " ('204201', 219),\n",
              " ('631707', 219),\n",
              " ('1001004', 218),\n",
              " ('21019701', 217),\n",
              " ('22009927', 216),\n",
              " ('631697', 216),\n",
              " ('635513', 214),\n",
              " ('22009953', 213),\n",
              " ('206901', 212),\n",
              " ('635523', 210),\n",
              " ('1001047', 209),\n",
              " ('22009950', 209),\n",
              " ('635618', 203),\n",
              " ('205901', 200),\n",
              " ('22005901', 199),\n",
              " ('200802', 198),\n",
              " ('22009926', 198),\n",
              " ('100700899', 196),\n",
              " ('635539', 196),\n",
              " ('100700818', 195),\n",
              " ('631886', 195),\n",
              " ('22010038', 193),\n",
              " ('710605', 193),\n",
              " ('631706', 192),\n",
              " ('631644', 190),\n",
              " ('900105', 190),\n",
              " ('711019', 189),\n",
              " ('22009914', 187),\n",
              " ('635607', 187),\n",
              " ('1001013', 185),\n",
              " ('631919', 182),\n",
              " ('631938', 181),\n",
              " ('125', 181),\n",
              " ('631929', 176),\n",
              " ('631673', 176),\n",
              " ('21019801', 174),\n",
              " ('22002401', 174),\n",
              " ('635612', 174),\n",
              " ('635507', 173),\n",
              " ('100700919', 173),\n",
              " ('22009815', 172),\n",
              " ('811803', 170),\n",
              " ('635516', 169),\n",
              " ('631860', 166),\n",
              " ('631702', 164),\n",
              " ('631689', 163),\n",
              " ('100700905', 163),\n",
              " ('22010032', 162),\n",
              " ('1001031', 160),\n",
              " ('204601', 160),\n",
              " ('631560', 158),\n",
              " ('1001044', 158),\n",
              " ('631921', 156),\n",
              " ('631698', 155),\n",
              " ('635710', 155),\n",
              " ('1001051', 154),\n",
              " ('631842', 154),\n",
              " ('900110', 153),\n",
              " ('100700971', 153),\n",
              " ('631613', 151),\n",
              " ('22009851', 151),\n",
              " ('210214', 151),\n",
              " ('1001007', 150),\n",
              " ('22009960', 149),\n",
              " ('635614', 148),\n",
              " ('631614', 147),\n",
              " ('1001043', 147),\n",
              " ('1001042', 146),\n",
              " ('210206', 145),\n",
              " ('711006', 145),\n",
              " ('635617', 144),\n",
              " ('635723', 142),\n",
              " ('1001008', 141),\n",
              " ('1001053', 141),\n",
              " ('631692', 140),\n",
              " ('1001012', 139),\n",
              " ('22010069', 139),\n",
              " ('631958', 139),\n",
              " ('22009852', 137),\n",
              " ('635712', 136),\n",
              " ('900168', 134),\n",
              " ('721902', 132),\n",
              " ('22009812', 130),\n",
              " ('711018', 130),\n",
              " ('631959', 128),\n",
              " ('631116', 127),\n",
              " ('22009823', 127),\n",
              " ('1001038', 127),\n",
              " ('631996', 127),\n",
              " ('710701', 126),\n",
              " ('631917', 126),\n",
              " ('210110', 125),\n",
              " ('631516', 125),\n",
              " ('100701180', 125),\n",
              " ('300301', 124),\n",
              " ('631705', 123),\n",
              " ('801610', 123),\n",
              " ('631972', 121),\n",
              " ('22009868', 121),\n",
              " ('22009909', 120),\n",
              " ('631937', 120),\n",
              " ('811103', 119),\n",
              " ('631995', 119),\n",
              " ('210141', 118),\n",
              " ('635703', 116),\n",
              " ('802010', 116),\n",
              " ('1001040', 114),\n",
              " ('631880', 112),\n",
              " ('100701136', 112),\n",
              " ('711005', 112),\n",
              " ('631939', 112),\n",
              " ('22009804', 112),\n",
              " ('100700898', 111),\n",
              " ('22009806', 110),\n",
              " ('22009853', 110),\n",
              " ('22009809', 110),\n",
              " ('100701222', 109),\n",
              " ('22009855', 109),\n",
              " ('801110', 108),\n",
              " ('635694', 107),\n",
              " ('635528', 107),\n",
              " ('1001016', 107),\n",
              " ('631901', 107),\n",
              " ('635620', 106),\n",
              " ('631612', 106),\n",
              " ('605524', 105),\n",
              " ('22009810', 101),\n",
              " ('635555', 100),\n",
              " ('710902', 100),\n",
              " ('1001074', 99),\n",
              " ('1001002', 99),\n",
              " ('1001003', 98),\n",
              " ('631120', 97),\n",
              " ('635552', 96),\n",
              " ('635609', 95),\n",
              " ('22009821', 94),\n",
              " ('605530', 94),\n",
              " ('635522', 93),\n",
              " ('800710', 92),\n",
              " ('631615', 92),\n",
              " ('22009813', 92),\n",
              " ('635503', 91),\n",
              " ('631117', 90),\n",
              " ('1001024', 89),\n",
              " ('22009811', 89),\n",
              " ('710201', 89),\n",
              " ('22009838', 88),\n",
              " ('1001073', 88),\n",
              " ('1001010', 87),\n",
              " ('635741', 87),\n",
              " ('100701135', 87),\n",
              " ('1001017', 84),\n",
              " ('635623', 84),\n",
              " ('712009', 84),\n",
              " ('631980', 84),\n",
              " ('631694', 83),\n",
              " ('22009842', 83),\n",
              " ('710602', 82),\n",
              " ('1001014', 82),\n",
              " ('631899', 82),\n",
              " ('631915', 82),\n",
              " ('631994', 79),\n",
              " ('631141', 79),\n",
              " ('631862', 78),\n",
              " ('22009802', 76),\n",
              " ('631891', 76),\n",
              " ('631998', 75),\n",
              " ('1001068', 74),\n",
              " ('10015001', 74),\n",
              " ('22009843', 74),\n",
              " ('1001011', 74),\n",
              " ('631712', 73),\n",
              " ('100700963', 73),\n",
              " ('631914', 72),\n",
              " ('1001061', 72),\n",
              " ('1001060', 72),\n",
              " ('631662', 71),\n",
              " ('900254', 71),\n",
              " ('15015501', 70),\n",
              " ('22009854', 70),\n",
              " ('635572', 70),\n",
              " ('631935', 69),\n",
              " ('10012805', 69),\n",
              " ('631666', 67),\n",
              " ('1001079', 67),\n",
              " ('22009970', 67),\n",
              " ('10015101', 67),\n",
              " ('210139', 66),\n",
              " ('710202', 64),\n",
              " ('711012', 64),\n",
              " ('635608', 64),\n",
              " ('635613', 64),\n",
              " ('1001063', 64),\n",
              " ('635524', 63),\n",
              " ('710901', 63),\n",
              " ('900270', 61),\n",
              " ('1001078', 59),\n",
              " ('631509', 59),\n",
              " ('22009952', 59),\n",
              " ('210208', 58),\n",
              " ('22009949', 58),\n",
              " ('801810', 57),\n",
              " ('631635', 57),\n",
              " ('710101', 55),\n",
              " ('100700948', 55),\n",
              " ('635533', 54),\n",
              " ('230203', 54),\n",
              " ('635538', 54),\n",
              " ('1001048', 53),\n",
              " ('635709', 53),\n",
              " ('22009848', 52),\n",
              " ('631510', 52),\n",
              " ('635537', 51),\n",
              " ('635554', 51),\n",
              " ('631890', 51),\n",
              " ('635622', 51),\n",
              " ('631532', 51),\n",
              " ('22004001', 51),\n",
              " ('710601', 50),\n",
              " ('710801', 49),\n",
              " ('1001018', 49),\n",
              " ('204801', 48),\n",
              " ('10012301', 48),\n",
              " ('631139', 47),\n",
              " ('10015302', 47),\n",
              " ('631843', 46),\n",
              " ('631669', 45),\n",
              " ('710702', 45),\n",
              " ('635718', 44),\n",
              " ('805005', 43),\n",
              " ('635621', 43),\n",
              " ('1001001', 43),\n",
              " ('1001023', 43),\n",
              " ('635742', 43),\n",
              " ('1001022', 42),\n",
              " ('635534', 42),\n",
              " ('635535', 41),\n",
              " ('631986', 40),\n",
              " ('635536', 40),\n",
              " ('10015002', 39),\n",
              " ('1001009', 39),\n",
              " ('710102', 37),\n",
              " ('631664', 36),\n",
              " ('22009840', 36),\n",
              " ('710401', 35),\n",
              " ('1001067', 34),\n",
              " ('631893', 32),\n",
              " ('710402', 32),\n",
              " ('631529', 31),\n",
              " ('10015401', 31),\n",
              " ('631875', 30),\n",
              " ('631563', 30),\n",
              " ('631892', 30),\n",
              " ('631374', 30),\n",
              " ('631140', 30),\n",
              " ('631879', 29),\n",
              " ('631515', 29),\n",
              " ('710501', 28),\n",
              " ('712011', 28),\n",
              " ('22001701', 27),\n",
              " ('631837', 27),\n",
              " ('635756', 27),\n",
              " ('100701158', 25),\n",
              " ('210104', 25),\n",
              " ('710604', 25),\n",
              " ('631877', 25),\n",
              " ('100700924', 24),\n",
              " ('605531', 24),\n",
              " ('631896', 22),\n",
              " ('10012806', 22),\n",
              " ('10015102', 22),\n",
              " ('10015402', 22),\n",
              " ('605501', 22),\n",
              " ('631867', 21),\n",
              " ('206001', 21),\n",
              " ('10015301', 20),\n",
              " ('605508', 19),\n",
              " ('711014', 18),\n",
              " ('711003', 18),\n",
              " ('711008', 18),\n",
              " ('635611', 18),\n",
              " ('710502', 18),\n",
              " ('635502', 17),\n",
              " ('100701179', 16),\n",
              " ('635708', 16),\n",
              " ('110221', 15),\n",
              " ('635548', 14),\n",
              " ('711007', 14),\n",
              " ('210116', 13),\n",
              " ('631848', 12),\n",
              " ('635702', 11),\n",
              " ('711004', 11),\n",
              " ('631534', 10),\n",
              " ('631850', 10),\n",
              " ('631883', 9),\n",
              " ('631894', 8),\n",
              " ('605510', 8),\n",
              " ('210130', 7),\n",
              " ('22010114', 6),\n",
              " ('635550', 6),\n",
              " ('631844', 5),\n",
              " ('710301', 5),\n",
              " ('710302', 5),\n",
              " ('100701224', 4),\n",
              " ('605511', 4),\n",
              " ('22009850', 4),\n",
              " ('711017', 4),\n",
              " ('22009911', 4),\n",
              " ('22010136', 3),\n",
              " ('1001058', 2),\n",
              " ('631855', 2),\n",
              " ('110220', 2),\n",
              " ('631530', 2),\n",
              " ('605529', 2),\n",
              " ('631857', 2),\n",
              " ('210142', 1)]"
            ]
          },
          "execution_count": 48,
          "metadata": {},
          "output_type": "execute_result"
        }
      ],
      "source": [
        "#sort the items by their support\n",
        "number_of_item_sorted_list=sorted(number_of_item.collect(),key=lambda x: x[1],reverse=True)\n",
        "number_of_item_sorted_list"
      ]
    },
    {
      "cell_type": "code",
      "execution_count": null,
      "metadata": {
        "id": "3iE2cMjQY85O"
      },
      "outputs": [],
      "source": [
        "support=number_of_item.map(lambda x:x[1])"
      ]
    },
    {
      "cell_type": "code",
      "execution_count": null,
      "metadata": {
        "colab": {
          "base_uri": "https://localhost:8080/"
        },
        "id": "XI4s8YbfZO6B",
        "outputId": "9cfd7c4d-35a3-4245-c8ae-ce130da6e724"
      },
      "outputs": [
        {
          "data": {
            "text/plain": [
              "12469.257900101937"
            ]
          },
          "execution_count": 56,
          "metadata": {},
          "output_type": "execute_result"
        }
      ],
      "source": [
        "support.sum()/support.count()"
      ]
    },
    {
      "cell_type": "code",
      "execution_count": null,
      "metadata": {
        "id": "_MqXQfk1Jz2I"
      },
      "outputs": [],
      "source": [
        "#find frequant items\n",
        "support_threshold= 35000\n",
        "frequent_items=number_of_item.filter(lambda x :x[1]>=support_threshold)"
      ]
    },
    {
      "cell_type": "code",
      "execution_count": null,
      "metadata": {
        "colab": {
          "base_uri": "https://localhost:8080/"
        },
        "id": "IZCdVVmqbSX1",
        "outputId": "b45cfeca-031d-4af8-e45b-3d1ce5bf3d0f"
      },
      "outputs": [
        {
          "data": {
            "text/plain": [
              "[('900212', 258396),\n",
              " ('900244', 250597),\n",
              " ('100700853', 214275),\n",
              " ('900269', 207356),\n",
              " ('900222', 182983),\n",
              " ('631634', 173842),\n",
              " ('900101', 163240),\n",
              " ('900142', 151506),\n",
              " ('100700841', 143324),\n",
              " ('631633', 142285),\n",
              " ('900268', 139104),\n",
              " ('900225', 138451),\n",
              " ('900155', 135421),\n",
              " ('900246', 132204),\n",
              " ('900236', 131893),\n",
              " ('900164', 122542),\n",
              " ('900191', 119686),\n",
              " ('100700804', 110369),\n",
              " ('631357', 109736),\n",
              " ('900234', 108221),\n",
              " ('100700864', 100147),\n",
              " ('900218', 99848),\n",
              " ('900207', 99468),\n",
              " ('100700820', 94865),\n",
              " ('900273', 89021),\n",
              " ('900266', 86486),\n",
              " ('900233', 81621),\n",
              " ('900202', 81042),\n",
              " ('900259', 80329),\n",
              " ('900217', 78644),\n",
              " ('114', 78000),\n",
              " ('100700839', 75986),\n",
              " ('900226', 75567),\n",
              " ('631829', 75275),\n",
              " ('631795', 74991),\n",
              " ('900185', 74988),\n",
              " ('100700881', 73956),\n",
              " ('22010040', 73507),\n",
              " ('900102', 73083),\n",
              " ('631765', 71195),\n",
              " ('631368', 71094),\n",
              " ('900243', 69807),\n",
              " ('900149', 69613),\n",
              " ('900167', 69318),\n",
              " ('900215', 67545),\n",
              " ('900235', 66107),\n",
              " ('900141', 65372),\n",
              " ('900214', 64205),\n",
              " ('100700862', 64001),\n",
              " ('205802', 63757),\n",
              " ('900256', 62603),\n",
              " ('22010039', 62586),\n",
              " ('203902', 61293),\n",
              " ('22010088', 60453),\n",
              " ('119', 59563),\n",
              " ('900255', 59075),\n",
              " ('900241', 56385),\n",
              " ('22010054', 56276),\n",
              " ('22009971', 56230),\n",
              " ('22010053', 56217),\n",
              " ('900227', 55905),\n",
              " ('135', 54940),\n",
              " ('900152', 54509),\n",
              " ('230204', 52228),\n",
              " ('631363', 52094),\n",
              " ('175', 51948),\n",
              " ('231', 51531),\n",
              " ('900242', 50686),\n",
              " ('100700826', 50513),\n",
              " ('212802', 49991),\n",
              " ('631367', 48710),\n",
              " ('22010047', 48555),\n",
              " ('900213', 48493),\n",
              " ('900224', 48047),\n",
              " ('206602', 46673),\n",
              " ('900158', 45873),\n",
              " ('22010083', 45448),\n",
              " ('22009972', 45404),\n",
              " ('900174', 45054),\n",
              " ('103002', 44638),\n",
              " ('631763', 44435),\n",
              " ('22009977', 43830),\n",
              " ('145', 42331),\n",
              " ('100701130', 42093),\n",
              " ('100700812', 42009),\n",
              " ('900135', 41479),\n",
              " ('101301', 41323),\n",
              " ('100700857', 40983),\n",
              " ('900277', 40434),\n",
              " ('205201', 39567),\n",
              " ('100700834', 39285),\n",
              " ('900223', 39132),\n",
              " ('900193', 38391),\n",
              " ('22010048', 38383),\n",
              " ('900178', 38206),\n",
              " ('100701100', 38150),\n",
              " ('900272', 38033),\n",
              " ('22010031', 37677),\n",
              " ('100700871', 37299),\n",
              " ('900182', 36684),\n",
              " ('631361', 36472),\n",
              " ('100', 36395),\n",
              " ('22010079', 36306),\n",
              " ('900258', 36190),\n",
              " ('900199', 36032),\n",
              " ('117', 35705),\n",
              " ('900228', 35702),\n",
              " ('900151', 35502),\n",
              " ('100701119', 35385),\n",
              " ('103001', 35003)]"
            ]
          },
          "execution_count": 58,
          "metadata": {},
          "output_type": "execute_result"
        }
      ],
      "source": [
        "#sort the frequant items by their support\n",
        "frequent_items_sorted_list=sorted(frequent_items.collect(),key=lambda x: x[1],reverse=True)\n",
        "frequent_items_sorted_list"
      ]
    },
    {
      "cell_type": "code",
      "execution_count": null,
      "metadata": {
        "id": "wzR4qdDNbjFW"
      },
      "outputs": [],
      "source": [
        "#this function creat subsets of given set\n",
        "def findsubsets(sett, n):\n",
        "    return list(itertools.combinations(sett, n))"
      ]
    },
    {
      "cell_type": "code",
      "execution_count": null,
      "metadata": {
        "id": "5lQkA4RqcZjf"
      },
      "outputs": [],
      "source": [
        "#this function calculate support of given itemset\n",
        "def support_calc(itemset):\n",
        "    support=0\n",
        "    for i in range(basket_numbers):\n",
        "        if set(itemset).issubset(set(baskets_list[i])):\n",
        "            support=support+1\n",
        "            \n",
        "    return support"
      ]
    },
    {
      "cell_type": "code",
      "execution_count": null,
      "metadata": {
        "id": "cNDj2lMLeg6P"
      },
      "outputs": [],
      "source": [
        "frequent_items_whithout_support=[]\n",
        "for i in range(len(frequent_items_sorted_list)):\n",
        "    frequent_items_whithout_support.append(frequent_items_sorted_list[i][0])"
      ]
    },
    {
      "cell_type": "code",
      "execution_count": null,
      "metadata": {
        "colab": {
          "base_uri": "https://localhost:8080/"
        },
        "id": "PkuP0yvAeg3l",
        "outputId": "07a2642d-daa7-4abf-c892-fb275abb6dd7"
      },
      "outputs": [
        {
          "data": {
            "text/plain": [
              "5995"
            ]
          },
          "execution_count": 73,
          "metadata": {},
          "output_type": "execute_result"
        }
      ],
      "source": [
        "#find candidate pairs\n",
        "candidate_pairs = findsubsets(frequent_items_whithout_support,2)\n",
        "len(candidate_pairs)"
      ]
    },
    {
      "cell_type": "code",
      "execution_count": null,
      "metadata": {
        "id": "ikv9FsAJeg1z"
      },
      "outputs": [],
      "source": [
        "candidate_pairs[0:10]"
      ]
    },
    {
      "cell_type": "code",
      "execution_count": null,
      "metadata": {
        "id": "xn9OCMXkhdyp"
      },
      "outputs": [],
      "source": [
        "#calculate support of candidate pairs\n",
        "candidate_pairs_KV=[]\n",
        "for i in range(len(candidate_pairs)):\n",
        "    supp=support_calc(candidate_pairs[i])\n",
        "    candidate_pairs_KV.append((candidate_pairs[i],supp))"
      ]
    },
    {
      "cell_type": "code",
      "execution_count": null,
      "metadata": {
        "colab": {
          "base_uri": "https://localhost:8080/"
        },
        "id": "0FqeWM1IjXsa",
        "outputId": "d17e68dd-6f6e-436f-9aef-d34334724746"
      },
      "outputs": [
        {
          "data": {
            "text/plain": [
              "[(('900212', '900244'), 19198),\n",
              " (('900212', '100700853'), 6707),\n",
              " (('900212', '900269'), 2429),\n",
              " (('900212', '900222'), 1926),\n",
              " (('900212', '631634'), 4025),\n",
              " (('900212', '900101'), 4266),\n",
              " (('900212', '900142'), 9430),\n",
              " (('900212', '100700841'), 1681),\n",
              " (('900212', '631633'), 6006),\n",
              " (('900212', '900268'), 1576)]"
            ]
          },
          "execution_count": 80,
          "metadata": {},
          "output_type": "execute_result"
        }
      ],
      "source": [
        "candidate_pairs_KV[0:10]"
      ]
    },
    {
      "cell_type": "code",
      "execution_count": null,
      "metadata": {
        "id": "pvLNFbfMjXYe"
      },
      "outputs": [],
      "source": [
        "#creat rdd of candidate pairs (key = candidate pairs, value = support )\n",
        "candidate_pairs_rdd=sc.parallelize(candidate_pairs_KV)"
      ]
    },
    {
      "cell_type": "code",
      "execution_count": null,
      "metadata": {
        "colab": {
          "base_uri": "https://localhost:8080/"
        },
        "id": "eB1PqoUHkWqc",
        "outputId": "f5045699-fb3b-4ec4-a8b1-4265329b9106"
      },
      "outputs": [
        {
          "data": {
            "text/plain": [
              "489.2156862745098"
            ]
          },
          "execution_count": 82,
          "metadata": {},
          "output_type": "execute_result"
        }
      ],
      "source": [
        "#calculate the average support\n",
        "candidate_pairs_supports = candidate_pairs_rdd.map(lambda x :x[1])\n",
        "candidate_pairs_supports.sum() / candidate_pairs_supports.count()"
      ]
    },
    {
      "cell_type": "code",
      "execution_count": null,
      "metadata": {
        "id": "zQtG4fXAkVpS"
      },
      "outputs": [],
      "source": [
        "# filtering the candidate pairs and find frequent_pairs\n",
        "support_threshold  = 1500\n",
        "frequent_pairs = candidate_pairs_rdd.filter(lambda x:x[1]>support_threshold)"
      ]
    },
    {
      "cell_type": "code",
      "execution_count": null,
      "metadata": {
        "colab": {
          "base_uri": "https://localhost:8080/"
        },
        "id": "xq-7A1y1iVa0",
        "outputId": "fa717b35-7789-4c6b-ba6a-2380c0338f4c"
      },
      "outputs": [
        {
          "data": {
            "text/plain": [
              "[(('900212', '900244'), 19198),\n",
              " (('900212', '900142'), 9430),\n",
              " (('100700853', '900142'), 8251),\n",
              " (('900244', '900142'), 6938),\n",
              " (('900269', '900225'), 6908),\n",
              " (('900244', '631633'), 6838),\n",
              " (('900212', '100700853'), 6707),\n",
              " (('900212', '631633'), 6006),\n",
              " (('900244', '100700853'), 5488),\n",
              " (('100700864', '900185'), 5335),\n",
              " (('631634', '900207'), 5085),\n",
              " (('900268', '900225'), 5042),\n",
              " (('900222', '900155'), 4734),\n",
              " (('900101', '100700841'), 4558),\n",
              " (('900244', '631634'), 4446)]"
            ]
          },
          "execution_count": 86,
          "metadata": {},
          "output_type": "execute_result"
        }
      ],
      "source": [
        "#sort the candidate pairs by their support\n",
        "frequent_pairs_sorted_list=sorted(frequent_pairs.collect(),key=lambda x: x[1],reverse=True)\n",
        "frequent_pairs_sorted_list[0:15]"
      ]
    },
    {
      "cell_type": "markdown",
      "metadata": {
        "id": "R4YlPL4v4Gp-"
      },
      "source": [
        "findig frequant triples"
      ]
    },
    {
      "cell_type": "code",
      "execution_count": null,
      "metadata": {
        "id": "BS8rgUjbnV7I"
      },
      "outputs": [],
      "source": [
        "#creat list of items that each item is in a frequant pair(at least)\n",
        "frequent_pairs_splited=[]\n",
        "for  i  in range(len(frequent_pairs_sorted_list)):\n",
        "      frequent_pairs_splited.append(frequent_pairs_sorted_list[i][0][0])\n",
        "      frequent_pairs_splited.append(frequent_pairs_sorted_list[i][0][1])"
      ]
    },
    {
      "cell_type": "code",
      "execution_count": null,
      "metadata": {
        "id": "schPRD0UtZyL"
      },
      "outputs": [],
      "source": [
        "#we will creat triplex subsets from member of this list\n",
        "unique_frequent_pairs_splited= list(set(frequent_pairs_splited))"
      ]
    },
    {
      "cell_type": "code",
      "execution_count": null,
      "metadata": {
        "id": "krOe5SXmnV3W"
      },
      "outputs": [],
      "source": [
        "#creat candidate triples with the member of frequent pairs\n",
        "candidate_triples = findsubsets(unique_frequent_pairs_splited,3)"
      ]
    },
    {
      "cell_type": "code",
      "execution_count": null,
      "metadata": {
        "colab": {
          "base_uri": "https://localhost:8080/"
        },
        "id": "z26XSexsRTKn",
        "outputId": "90610873-7046-4d62-8116-5889722ed549"
      },
      "outputs": [
        {
          "data": {
            "text/plain": [
              "[('900155', '900236', '900227'),\n",
              " ('900155', '900236', '900222'),\n",
              " ('900155', '900236', '900255'),\n",
              " ('900155', '900236', '22009977'),\n",
              " ('900155', '900236', '900215'),\n",
              " ('900155', '900236', '900142'),\n",
              " ('900155', '900236', '231'),\n",
              " ('900155', '900236', '203902'),\n",
              " ('900155', '900236', '900233'),\n",
              " ('900155', '900236', '100700804')]"
            ]
          },
          "execution_count": 94,
          "metadata": {},
          "output_type": "execute_result"
        }
      ],
      "source": [
        "candidate_triples[0:10]"
      ]
    },
    {
      "cell_type": "code",
      "execution_count": null,
      "metadata": {
        "id": "mfOwKwFqnV1J"
      },
      "outputs": [],
      "source": [
        "frequent_pairs_whithout_support=[]\n",
        "for  i  in range(len(frequent_pairs_sorted_list)):\n",
        "      frequent_pairs_whithout_support.append(frequent_pairs_sorted_list[i][0])"
      ]
    },
    {
      "cell_type": "code",
      "execution_count": null,
      "metadata": {
        "colab": {
          "base_uri": "https://localhost:8080/"
        },
        "id": "gHMaakUynVyl",
        "outputId": "4e406947-40fe-49ac-9f65-1710323ff5f1"
      },
      "outputs": [
        {
          "name": "stderr",
          "output_type": "stream",
          "text": [
            "100%|██████████| 34220/34220 [00:01<00:00, 19158.35it/s]\n"
          ]
        }
      ],
      "source": [
        "#all binary subsets of a frequant triple should be frequant\n",
        "#so we check this condition here and find final candidates\n",
        "final_candidate_triples=[]\n",
        "for i in tqdm(range(len(candidate_triples))):\n",
        "    subs_of_candidate=findsubsets(candidate_triples[i],2)\n",
        "    flag=0\n",
        "    for j in range(len(frequent_pairs_whithout_support)):\n",
        "        if subs_of_candidate[0]==frequent_pairs_whithout_support[j]:\n",
        "            flag=flag+1\n",
        "        if subs_of_candidate[1]==frequent_pairs_whithout_support[j]:\n",
        "            flag=flag+1\n",
        "        if subs_of_candidate[2]==frequent_pairs_whithout_support[j]:\n",
        "            flag=flag+1\n",
        "    if flag==3:\n",
        "        final_candidate_triples.append(candidate_triples[i])"
      ]
    },
    {
      "cell_type": "code",
      "execution_count": null,
      "metadata": {
        "colab": {
          "base_uri": "https://localhost:8080/"
        },
        "id": "gIp_zuh4RzCe",
        "outputId": "bc1b44ad-b096-410e-ea26-3f70b8b4126f"
      },
      "outputs": [
        {
          "data": {
            "text/plain": [
              "[('900222', '631634', '900225'),\n",
              " ('900222', '900246', '631829'),\n",
              " ('631634', '900207', '900202'),\n",
              " ('900101', '900268', '900259'),\n",
              " ('900212', '900268', '900225')]"
            ]
          },
          "execution_count": 99,
          "metadata": {},
          "output_type": "execute_result"
        }
      ],
      "source": [
        "final_candidate_triples[0:5]"
      ]
    },
    {
      "cell_type": "code",
      "execution_count": null,
      "metadata": {
        "colab": {
          "base_uri": "https://localhost:8080/"
        },
        "id": "wTLBuyYDvubB",
        "outputId": "19255a7f-9242-4688-997d-883923b15c7e"
      },
      "outputs": [
        {
          "name": "stderr",
          "output_type": "stream",
          "text": [
            "100%|██████████| 9/9 [00:42<00:00,  4.77s/it]\n"
          ]
        }
      ],
      "source": [
        "#find frequant triples from final candidates\n",
        "support_threshold=1\n",
        "frequant_triples_list=[]\n",
        "for i in tqdm(range(len(final_candidate_triples))):\n",
        "    supp=support_calc(final_candidate_triples[i])\n",
        "    if supp>=support_threshold:\n",
        "        frequant_triples_list.append((final_candidate_triples[i],supp))"
      ]
    },
    {
      "cell_type": "code",
      "execution_count": null,
      "metadata": {
        "colab": {
          "base_uri": "https://localhost:8080/"
        },
        "id": "wSbQePgAwJ6z",
        "outputId": "cdfbc6b0-7994-46b6-ba8d-4ea912fcbdda"
      },
      "outputs": [
        {
          "data": {
            "text/plain": [
              "[(('900268', '900225', '900259'), 247),\n",
              " (('900222', '900246', '631829'), 170),\n",
              " (('631634', '900207', '900202'), 139),\n",
              " (('900212', '900269', '900259'), 133),\n",
              " (('900101', '900268', '900259'), 120),\n",
              " (('900212', '900268', '900225'), 109),\n",
              " (('900212', '900268', '900259'), 106),\n",
              " (('900222', '631634', '900225'), 91),\n",
              " (('900212', '900225', '900259'), 73)]"
            ]
          },
          "execution_count": 101,
          "metadata": {},
          "output_type": "execute_result"
        }
      ],
      "source": [
        "frequent_triples_sorted_list=sorted(frequant_triples_list,key=lambda x: x[1],reverse=True)\n",
        "frequent_triples_sorted_list"
      ]
    },
    {
      "cell_type": "code",
      "execution_count": null,
      "metadata": {
        "id": "GtXW2pV4wbpD"
      },
      "outputs": [],
      "source": []
    },
    {
      "cell_type": "markdown",
      "metadata": {
        "id": "pmin-bQHB6Ea"
      },
      "source": [
        "# **PCA**"
      ]
    },
    {
      "cell_type": "code",
      "execution_count": 13,
      "metadata": {
        "id": "FjacmoUEB_x9"
      },
      "outputs": [],
      "source": [
        "#creat  vector  7*24\n",
        "vec_7_24= np.zeros(shape=(df_2.select(df_2.DEVICE_CODE).distinct().count(),7,24))"
      ]
    },
    {
      "cell_type": "code",
      "execution_count": 21,
      "metadata": {
        "colab": {
          "base_uri": "https://localhost:8080/"
        },
        "id": "v5EhpgLaCEe0",
        "outputId": "b9fab06f-ce93-4145-aa82-f0c79bab27fd"
      },
      "outputs": [
        {
          "name": "stdout",
          "output_type": "stream",
          "text": [
            "+-----------+-----------+----+-----+\n",
            "|DEVICE_CODE|DAY_OF_WEEK|HOUR|count|\n",
            "+-----------+-----------+----+-----+\n",
            "|     200502|          4|   0|   78|\n",
            "|  100700836|          4|   2|   16|\n",
            "|  100701100|          4|   3|   19|\n",
            "|   22010079|          4|   3|   52|\n",
            "|     900242|          4|   4|   38|\n",
            "+-----------+-----------+----+-----+\n",
            "only showing top 5 rows\n",
            "\n"
          ]
        }
      ],
      "source": [
        "device = [i.DEVICE_CODE for i in df_2.select('DEVICE_CODE').distinct().collect()]\n",
        "df_3 = df_2.groupby(['DEVICE_CODE','DAY_OF_WEEK','HOUR']).count()\n",
        "df_3.show(5)"
      ]
    },
    {
      "cell_type": "code",
      "execution_count": 22,
      "metadata": {
        "id": "OMNOVT1PCEck"
      },
      "outputs": [],
      "source": [
        "#indexing the cameras\n",
        "device_dict = {}\n",
        "for i, devicecode in enumerate(device):\n",
        "    device_dict[i] = devicecode\n",
        "device_dict = {j: i for i, j in device_dict.items()}\n"
      ]
    },
    {
      "cell_type": "code",
      "execution_count": 23,
      "metadata": {
        "id": "6AlidFeECEaQ"
      },
      "outputs": [],
      "source": [
        "df_3_list=df_3.collect()"
      ]
    },
    {
      "cell_type": "code",
      "execution_count": 24,
      "metadata": {
        "id": "cvBMX_awCcZG"
      },
      "outputs": [],
      "source": [
        "for cam,d,h,num in df_3_list:\n",
        "  vec_7_24[device_dict[cam],d-1,h-1] = num"
      ]
    },
    {
      "cell_type": "code",
      "execution_count": 25,
      "metadata": {
        "id": "ULJkuU74EveC"
      },
      "outputs": [],
      "source": [
        "data = vec_7_24.reshape(981,168)"
      ]
    },
    {
      "cell_type": "code",
      "execution_count": 29,
      "metadata": {
        "id": "YfffddPYDIHP"
      },
      "outputs": [],
      "source": [
        "#we standardized data  here,the mean of each dimension will be 0 and the std will be 1\n",
        "data_standardized = StandardScaler().fit_transform(data)"
      ]
    },
    {
      "cell_type": "code",
      "execution_count": 30,
      "metadata": {
        "id": "bfU6u7VfDNBQ"
      },
      "outputs": [],
      "source": [
        "#calculate the covariance matrix\n",
        "covMatrix = np.matmul(data_standardized.T ,data_standardized)\n",
        "\n",
        "# calculate the eigendecomposition of the covariance matrix\n",
        "values, vector = eigh(covMatrix,eigvals=(covMatrix.shape[0]-2,covMatrix.shape[0]-1))"
      ]
    },
    {
      "cell_type": "code",
      "execution_count": 35,
      "metadata": {
        "id": "RfolC7BXDa1D"
      },
      "outputs": [],
      "source": [
        "vector=vector.T"
      ]
    },
    {
      "cell_type": "code",
      "execution_count": 55,
      "metadata": {
        "id": "YCbuoSaADdXX"
      },
      "outputs": [],
      "source": [
        "# applying the PCA\n",
        "# we project each vector on the first two principal components\n",
        "projectedData = np.matmul(vector, data_standardized.T)"
      ]
    },
    {
      "cell_type": "code",
      "execution_count": 56,
      "metadata": {
        "id": "-W-JeiDtLtpT"
      },
      "outputs": [],
      "source": [
        "kmeans_kwargs = {\"init\":\"random\",\"n_init\":10,\"max_iter\":250,\"random_state\":52}\n",
        "e = []\n",
        "for i in range(1, 11):\n",
        "    kmeans = KMeans(n_clusters=i,**kmeans_kwargs)\n",
        "    kmeans.fit(projectedData.T)\n",
        "    e.append(kmeans.inertia_)"
      ]
    },
    {
      "cell_type": "code",
      "execution_count": 57,
      "metadata": {
        "colab": {
          "base_uri": "https://localhost:8080/",
          "height": 296
        },
        "id": "YNNGe_YwL6eY",
        "outputId": "d3b757a5-e0f5-46ea-b077-e3bc3253b0bb"
      },
      "outputs": [
        {
          "data": {
            "text/plain": [
              "Text(0, 0.5, 'SSE')"
            ]
          },
          "execution_count": 57,
          "metadata": {},
          "output_type": "execute_result"
        },
        {
          "data": {
            "image/png": "[encoded data removed]",
            "text/plain": [
              "<Figure size 432x288 with 1 Axes>"
            ]
          },
          "metadata": {
            "needs_background": "light"
          },
          "output_type": "display_data"
        }
      ],
      "source": [
        "plt.plot(range(1, 11), e)\n",
        "plt.grid()\n",
        "plt.xlabel(\"Number of Clusters\")\n",
        "plt.ylabel(\"SSE\")"
      ]
    },
    {
      "cell_type": "code",
      "execution_count": 58,
      "metadata": {
        "id": "3B6YTgagM2hB"
      },
      "outputs": [],
      "source": [
        "#labels of cameras\n",
        "labels = kmeans.labels_.tolist()"
      ]
    },
    {
      "cell_type": "code",
      "execution_count": 59,
      "metadata": {
        "colab": {
          "base_uri": "https://localhost:8080/",
          "height": 424
        },
        "id": "DeaUfTKVDxhj",
        "outputId": "330a5fa0-8720-4241-bce0-895f50ed5324"
      },
      "outputs": [
        {
          "data": {
            "text/html": [
              "\n",
              "  <div id=\"df-ca8f4bdc-277b-4903-8097-ac96eff82490\">\n",
              "    <div class=\"colab-df-container\">\n",
              "      <div>\n",
              "<style scoped>\n",
              "    .dataframe tbody tr th:only-of-type {\n",
              "        vertical-align: middle;\n",
              "    }\n",
              "\n",
              "    .dataframe tbody tr th {\n",
              "        vertical-align: top;\n",
              "    }\n",
              "\n",
              "    .dataframe thead th {\n",
              "        text-align: right;\n",
              "    }\n",
              "</style>\n",
              "<table border=\"1\" class=\"dataframe\">\n",
              "  <thead>\n",
              "    <tr style=\"text-align: right;\">\n",
              "      <th></th>\n",
              "      <th>pca_1</th>\n",
              "      <th>pca_2</th>\n",
              "      <th>label</th>\n",
              "    </tr>\n",
              "  </thead>\n",
              "  <tbody>\n",
              "    <tr>\n",
              "      <th>0</th>\n",
              "      <td>0.254625</td>\n",
              "      <td>-0.691969</td>\n",
              "      <td>2.0</td>\n",
              "    </tr>\n",
              "    <tr>\n",
              "      <th>1</th>\n",
              "      <td>-0.228706</td>\n",
              "      <td>5.460891</td>\n",
              "      <td>8.0</td>\n",
              "    </tr>\n",
              "    <tr>\n",
              "      <th>2</th>\n",
              "      <td>-0.233602</td>\n",
              "      <td>5.332592</td>\n",
              "      <td>8.0</td>\n",
              "    </tr>\n",
              "    <tr>\n",
              "      <th>3</th>\n",
              "      <td>-0.198528</td>\n",
              "      <td>5.482310</td>\n",
              "      <td>8.0</td>\n",
              "    </tr>\n",
              "    <tr>\n",
              "      <th>4</th>\n",
              "      <td>-0.008721</td>\n",
              "      <td>4.906783</td>\n",
              "      <td>8.0</td>\n",
              "    </tr>\n",
              "    <tr>\n",
              "      <th>...</th>\n",
              "      <td>...</td>\n",
              "      <td>...</td>\n",
              "      <td>...</td>\n",
              "    </tr>\n",
              "    <tr>\n",
              "      <th>976</th>\n",
              "      <td>-0.057246</td>\n",
              "      <td>3.972431</td>\n",
              "      <td>8.0</td>\n",
              "    </tr>\n",
              "    <tr>\n",
              "      <th>977</th>\n",
              "      <td>-0.128027</td>\n",
              "      <td>3.896782</td>\n",
              "      <td>8.0</td>\n",
              "    </tr>\n",
              "    <tr>\n",
              "      <th>978</th>\n",
              "      <td>-0.182643</td>\n",
              "      <td>5.526233</td>\n",
              "      <td>8.0</td>\n",
              "    </tr>\n",
              "    <tr>\n",
              "      <th>979</th>\n",
              "      <td>-0.251029</td>\n",
              "      <td>5.477000</td>\n",
              "      <td>8.0</td>\n",
              "    </tr>\n",
              "    <tr>\n",
              "      <th>980</th>\n",
              "      <td>-0.168403</td>\n",
              "      <td>5.509682</td>\n",
              "      <td>8.0</td>\n",
              "    </tr>\n",
              "  </tbody>\n",
              "</table>\n",
              "<p>981 rows × 3 columns</p>\n",
              "</div>\n",
              "      <button class=\"colab-df-convert\" onclick=\"convertToInteractive('df-ca8f4bdc-277b-4903-8097-ac96eff82490')\"\n",
              "              title=\"Convert this dataframe to an interactive table.\"\n",
              "              style=\"display:none;\">\n",
              "        \n",
              "  <svg xmlns=\"http://www.w3.org/2000/svg\" height=\"24px\"viewBox=\"0 0 24 24\"\n",
              "       width=\"24px\">\n",
              "    <path d=\"M0 0h24v24H0V0z\" fill=\"none\"/>\n",
              "    <path d=\"M18.56 5.44l.94 2.06.94-2.06 2.06-.94-2.06-.94-.94-2.06-.94 2.06-2.06.94zm-11 1L8.5 8.5l.94-2.06 2.06-.94-2.06-.94L8.5 2.5l-.94 2.06-2.06.94zm10 10l.94 2.06.94-2.06 2.06-.94-2.06-.94-.94-2.06-.94 2.06-2.06.94z\"/><path d=\"M17.41 7.96l-1.37-1.37c-.4-.4-.92-.59-1.43-.59-.52 0-1.04.2-1.43.59L10.3 9.45l-7.72 7.72c-.78.78-.78 2.05 0 2.83L4 21.41c.39.39.9.59 1.41.59.51 0 1.02-.2 1.41-.59l7.78-7.78 2.81-2.81c.8-.78.8-2.07 0-2.86zM5.41 20L4 18.59l7.72-7.72 1.47 1.35L5.41 20z\"/>\n",
              "  </svg>\n",
              "      </button>\n",
              "      \n",
              "  <style>\n",
              "    .colab-df-container {\n",
              "      display:flex;\n",
              "      flex-wrap:wrap;\n",
              "      gap: 12px;\n",
              "    }\n",
              "\n",
              "    .colab-df-convert {\n",
              "      background-color: #E8F0FE;\n",
              "      border: none;\n",
              "      border-radius: 50%;\n",
              "      cursor: pointer;\n",
              "      display: none;\n",
              "      fill: #1967D2;\n",
              "      height: 32px;\n",
              "      padding: 0 0 0 0;\n",
              "      width: 32px;\n",
              "    }\n",
              "\n",
              "    .colab-df-convert:hover {\n",
              "      background-color: #E2EBFA;\n",
              "      box-shadow: 0px 1px 2px rgba(60, 64, 67, 0.3), 0px 1px 3px 1px rgba(60, 64, 67, 0.15);\n",
              "      fill: #174EA6;\n",
              "    }\n",
              "\n",
              "    [theme=dark] .colab-df-convert {\n",
              "      background-color: #3B4455;\n",
              "      fill: #D2E3FC;\n",
              "    }\n",
              "\n",
              "    [theme=dark] .colab-df-convert:hover {\n",
              "      background-color: #434B5C;\n",
              "      box-shadow: 0px 1px 3px 1px rgba(0, 0, 0, 0.15);\n",
              "      filter: drop-shadow(0px 1px 2px rgba(0, 0, 0, 0.3));\n",
              "      fill: #FFFFFF;\n",
              "    }\n",
              "  </style>\n",
              "\n",
              "      <script>\n",
              "        const buttonEl =\n",
              "          document.querySelector('#df-ca8f4bdc-277b-4903-8097-ac96eff82490 button.colab-df-convert');\n",
              "        buttonEl.style.display =\n",
              "          google.colab.kernel.accessAllowed ? 'block' : 'none';\n",
              "\n",
              "        async function convertToInteractive(key) {\n",
              "          const element = document.querySelector('#df-ca8f4bdc-277b-4903-8097-ac96eff82490');\n",
              "          const dataTable =\n",
              "            await google.colab.kernel.invokeFunction('convertToInteractive',\n",
              "                                                     [key], {});\n",
              "          if (!dataTable) return;\n",
              "\n",
              "          const docLinkHtml = 'Like what you see? Visit the ' +\n",
              "            '<a target=\"_blank\" href=https://colab.research.google.com/notebooks/data_table.ipynb>data table notebook</a>'\n",
              "            + ' to learn more about interactive tables.';\n",
              "          element.innerHTML = '';\n",
              "          dataTable['output_type'] = 'display_data';\n",
              "          await google.colab.output.renderOutput(dataTable, element);\n",
              "          const docLink = document.createElement('div');\n",
              "          docLink.innerHTML = docLinkHtml;\n",
              "          element.appendChild(docLink);\n",
              "        }\n",
              "      </script>\n",
              "    </div>\n",
              "  </div>\n",
              "  "
            ],
            "text/plain": [
              "        pca_1     pca_2  label\n",
              "0    0.254625 -0.691969    2.0\n",
              "1   -0.228706  5.460891    8.0\n",
              "2   -0.233602  5.332592    8.0\n",
              "3   -0.198528  5.482310    8.0\n",
              "4   -0.008721  4.906783    8.0\n",
              "..        ...       ...    ...\n",
              "976 -0.057246  3.972431    8.0\n",
              "977 -0.128027  3.896782    8.0\n",
              "978 -0.182643  5.526233    8.0\n",
              "979 -0.251029  5.477000    8.0\n",
              "980 -0.168403  5.509682    8.0\n",
              "\n",
              "[981 rows x 3 columns]"
            ]
          },
          "execution_count": 59,
          "metadata": {},
          "output_type": "execute_result"
        }
      ],
      "source": [
        "#creat dataframe of data after dimension reduction\n",
        "reducedData = np.vstack((projectedData, labels)).T #Stack with labels\n",
        "reducedData = pd.DataFrame(reducedData, columns = ['pca_1', 'pca_2', 'label'])\n",
        "reducedData"
      ]
    },
    {
      "cell_type": "code",
      "execution_count": 60,
      "metadata": {
        "colab": {
          "base_uri": "https://localhost:8080/",
          "height": 637
        },
        "id": "qYao5PSfHvoA",
        "outputId": "33cda669-536e-48fb-ade0-93376ea17655"
      },
      "outputs": [
        {
          "name": "stderr",
          "output_type": "stream",
          "text": [
            "/usr/local/lib/python3.8/dist-packages/seaborn/axisgrid.py:337: UserWarning: The `size` parameter has been renamed to `height`; please update your code.\n",
            "  warnings.warn(msg, UserWarning)\n"
          ]
        },
        {
          "data": {
            "text/plain": [
              "<seaborn.axisgrid.FacetGrid at 0x7f192648af40>"
            ]
          },
          "execution_count": 60,
          "metadata": {},
          "output_type": "execute_result"
        },
        {
          "data": {
            "image/png": "[encoded data removed]",
            "text/plain": [
              "<Figure size 627.875x576 with 1 Axes>"
            ]
          },
          "metadata": {
            "needs_background": "light"
          },
          "output_type": "display_data"
        }
      ],
      "source": [
        "#plot the reducedData with clustering labels\n",
        "sns.FacetGrid(reducedData, hue = 'label', size = 8) \\\n",
        "  .map(sns.scatterplot, 'pca_1', 'pca_2').add_legend()"
      ]
    },
    {
      "cell_type": "code",
      "execution_count": 61,
      "metadata": {
        "id": "SOaA9jXrcSNj"
      },
      "outputs": [],
      "source": [
        "#find device code from dictionary\n",
        "def key_find(arg):\n",
        "    for key, value in device_dict.items():\n",
        "         if arg == value:\n",
        "             return key\n",
        "label0 = []\n",
        "label1 = []\n",
        "label2 = []\n",
        "label3 = []\n",
        "label4 = []\n",
        "label5 = []\n",
        "label6 = []\n",
        "label7 = []\n",
        "label8 = []\n",
        "label9 = []"
      ]
    },
    {
      "cell_type": "code",
      "execution_count": 62,
      "metadata": {
        "id": "v7HGrnt_Mj1O"
      },
      "outputs": [],
      "source": [
        "#find correspending labels\n",
        "for i in range(len(labels)):\n",
        "  if labels[i]==0:\n",
        "    label0.append(key_find(i))\n",
        "  elif labels[i]==1:\n",
        "    label1.append(key_find(i))\n",
        "  elif labels[i]==2:\n",
        "    label2.append(key_find(i))\n",
        "  elif labels[i]==3:\n",
        "    label3.append(key_find(i))\n",
        "  elif labels[i]==4:\n",
        "    label4.append(key_find(i))\n",
        "  elif labels[i]==5:\n",
        "    label5.append(key_find(i))\n",
        "  elif labels[i]==6:\n",
        "    label6.append(key_find(i))\n",
        "  elif labels[i]==7:\n",
        "    label7.append(key_find(i))\n",
        "  elif labels[i]==8:\n",
        "    label8.append(key_find(i))\n",
        "  elif labels[i]==9:\n",
        "    label9.append(key_find(i))"
      ]
    },
    {
      "cell_type": "code",
      "execution_count": 64,
      "metadata": {
        "colab": {
          "base_uri": "https://localhost:8080/",
          "height": 520
        },
        "id": "gHJyO0G4MrFs",
        "outputId": "cb083608-52b9-4376-c4f8-4900d8f115fc"
      },
      "outputs": [
        {
          "data": {
            "text/html": [
              "\n",
              "  <div id=\"df-83a438fc-1c7b-46cf-898f-d39a4075dcab\">\n",
              "    <div class=\"colab-df-container\">\n",
              "      <div>\n",
              "<style scoped>\n",
              "    .dataframe tbody tr th:only-of-type {\n",
              "        vertical-align: middle;\n",
              "    }\n",
              "\n",
              "    .dataframe tbody tr th {\n",
              "        vertical-align: top;\n",
              "    }\n",
              "\n",
              "    .dataframe thead th {\n",
              "        text-align: right;\n",
              "    }\n",
              "</style>\n",
              "<table border=\"1\" class=\"dataframe\">\n",
              "  <thead>\n",
              "    <tr style=\"text-align: right;\">\n",
              "      <th></th>\n",
              "      <th>Label 6</th>\n",
              "    </tr>\n",
              "  </thead>\n",
              "  <tbody>\n",
              "    <tr>\n",
              "      <th>0</th>\n",
              "      <td>22010139</td>\n",
              "    </tr>\n",
              "    <tr>\n",
              "      <th>1</th>\n",
              "      <td>22010112</td>\n",
              "    </tr>\n",
              "    <tr>\n",
              "      <th>2</th>\n",
              "      <td>100701297</td>\n",
              "    </tr>\n",
              "    <tr>\n",
              "      <th>3</th>\n",
              "      <td>22010125</td>\n",
              "    </tr>\n",
              "    <tr>\n",
              "      <th>4</th>\n",
              "      <td>100701298</td>\n",
              "    </tr>\n",
              "    <tr>\n",
              "      <th>5</th>\n",
              "      <td>22010111</td>\n",
              "    </tr>\n",
              "    <tr>\n",
              "      <th>6</th>\n",
              "      <td>107301</td>\n",
              "    </tr>\n",
              "    <tr>\n",
              "      <th>7</th>\n",
              "      <td>22010110</td>\n",
              "    </tr>\n",
              "    <tr>\n",
              "      <th>8</th>\n",
              "      <td>22010122</td>\n",
              "    </tr>\n",
              "    <tr>\n",
              "      <th>9</th>\n",
              "      <td>205202</td>\n",
              "    </tr>\n",
              "    <tr>\n",
              "      <th>10</th>\n",
              "      <td>22010057</td>\n",
              "    </tr>\n",
              "    <tr>\n",
              "      <th>11</th>\n",
              "      <td>22010134</td>\n",
              "    </tr>\n",
              "    <tr>\n",
              "      <th>12</th>\n",
              "      <td>100701156</td>\n",
              "    </tr>\n",
              "    <tr>\n",
              "      <th>13</th>\n",
              "      <td>137</td>\n",
              "    </tr>\n",
              "    <tr>\n",
              "      <th>14</th>\n",
              "      <td>100701293</td>\n",
              "    </tr>\n",
              "  </tbody>\n",
              "</table>\n",
              "</div>\n",
              "      <button class=\"colab-df-convert\" onclick=\"convertToInteractive('df-83a438fc-1c7b-46cf-898f-d39a4075dcab')\"\n",
              "              title=\"Convert this dataframe to an interactive table.\"\n",
              "              style=\"display:none;\">\n",
              "        \n",
              "  <svg xmlns=\"http://www.w3.org/2000/svg\" height=\"24px\"viewBox=\"0 0 24 24\"\n",
              "       width=\"24px\">\n",
              "    <path d=\"M0 0h24v24H0V0z\" fill=\"none\"/>\n",
              "    <path d=\"M18.56 5.44l.94 2.06.94-2.06 2.06-.94-2.06-.94-.94-2.06-.94 2.06-2.06.94zm-11 1L8.5 8.5l.94-2.06 2.06-.94-2.06-.94L8.5 2.5l-.94 2.06-2.06.94zm10 10l.94 2.06.94-2.06 2.06-.94-2.06-.94-.94-2.06-.94 2.06-2.06.94z\"/><path d=\"M17.41 7.96l-1.37-1.37c-.4-.4-.92-.59-1.43-.59-.52 0-1.04.2-1.43.59L10.3 9.45l-7.72 7.72c-.78.78-.78 2.05 0 2.83L4 21.41c.39.39.9.59 1.41.59.51 0 1.02-.2 1.41-.59l7.78-7.78 2.81-2.81c.8-.78.8-2.07 0-2.86zM5.41 20L4 18.59l7.72-7.72 1.47 1.35L5.41 20z\"/>\n",
              "  </svg>\n",
              "      </button>\n",
              "      \n",
              "  <style>\n",
              "    .colab-df-container {\n",
              "      display:flex;\n",
              "      flex-wrap:wrap;\n",
              "      gap: 12px;\n",
              "    }\n",
              "\n",
              "    .colab-df-convert {\n",
              "      background-color: #E8F0FE;\n",
              "      border: none;\n",
              "      border-radius: 50%;\n",
              "      cursor: pointer;\n",
              "      display: none;\n",
              "      fill: #1967D2;\n",
              "      height: 32px;\n",
              "      padding: 0 0 0 0;\n",
              "      width: 32px;\n",
              "    }\n",
              "\n",
              "    .colab-df-convert:hover {\n",
              "      background-color: #E2EBFA;\n",
              "      box-shadow: 0px 1px 2px rgba(60, 64, 67, 0.3), 0px 1px 3px 1px rgba(60, 64, 67, 0.15);\n",
              "      fill: #174EA6;\n",
              "    }\n",
              "\n",
              "    [theme=dark] .colab-df-convert {\n",
              "      background-color: #3B4455;\n",
              "      fill: #D2E3FC;\n",
              "    }\n",
              "\n",
              "    [theme=dark] .colab-df-convert:hover {\n",
              "      background-color: #434B5C;\n",
              "      box-shadow: 0px 1px 3px 1px rgba(0, 0, 0, 0.15);\n",
              "      filter: drop-shadow(0px 1px 2px rgba(0, 0, 0, 0.3));\n",
              "      fill: #FFFFFF;\n",
              "    }\n",
              "  </style>\n",
              "\n",
              "      <script>\n",
              "        const buttonEl =\n",
              "          document.querySelector('#df-83a438fc-1c7b-46cf-898f-d39a4075dcab button.colab-df-convert');\n",
              "        buttonEl.style.display =\n",
              "          google.colab.kernel.accessAllowed ? 'block' : 'none';\n",
              "\n",
              "        async function convertToInteractive(key) {\n",
              "          const element = document.querySelector('#df-83a438fc-1c7b-46cf-898f-d39a4075dcab');\n",
              "          const dataTable =\n",
              "            await google.colab.kernel.invokeFunction('convertToInteractive',\n",
              "                                                     [key], {});\n",
              "          if (!dataTable) return;\n",
              "\n",
              "          const docLinkHtml = 'Like what you see? Visit the ' +\n",
              "            '<a target=\"_blank\" href=https://colab.research.google.com/notebooks/data_table.ipynb>data table notebook</a>'\n",
              "            + ' to learn more about interactive tables.';\n",
              "          element.innerHTML = '';\n",
              "          dataTable['output_type'] = 'display_data';\n",
              "          await google.colab.output.renderOutput(dataTable, element);\n",
              "          const docLink = document.createElement('div');\n",
              "          docLink.innerHTML = docLinkHtml;\n",
              "          element.appendChild(docLink);\n",
              "        }\n",
              "      </script>\n",
              "    </div>\n",
              "  </div>\n",
              "  "
            ],
            "text/plain": [
              "      Label 6\n",
              "0    22010139\n",
              "1    22010112\n",
              "2   100701297\n",
              "3    22010125\n",
              "4   100701298\n",
              "5    22010111\n",
              "6      107301\n",
              "7    22010110\n",
              "8    22010122\n",
              "9      205202\n",
              "10   22010057\n",
              "11   22010134\n",
              "12  100701156\n",
              "13        137\n",
              "14  100701293"
            ]
          },
          "execution_count": 64,
          "metadata": {},
          "output_type": "execute_result"
        }
      ],
      "source": [
        "pd.DataFrame(label6, columns=['Label 6'])"
      ]
    }
  ],
  "metadata": {
    "colab": {
      "collapsed_sections": [
        "EQqzQoVzEH8A",
        "azyfDT4OgscV",
        "ywn5l8BDiOeB",
        "F_BOsI9EiS2-",
        "l7g1RlqiQrov",
        "pmin-bQHB6Ea"
      ],
      "provenance": []
    },
    "gpuClass": "standard",
    "kernelspec": {
      "display_name": "Python 3",
      "name": "python3"
    },
    "language_info": {
      "name": "python"
    }
  },
  "nbformat": 4,
  "nbformat_minor": 0
}
