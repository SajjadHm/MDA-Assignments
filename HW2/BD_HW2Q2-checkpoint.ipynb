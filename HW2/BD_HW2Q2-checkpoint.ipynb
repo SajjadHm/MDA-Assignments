{
 "cells": [
  {
   "cell_type": "code",
   "execution_count": 170,
   "id": "32a22de3",
   "metadata": {},
   "outputs": [],
   "source": [
    "import numpy as np\n",
    "import math\n",
    "import itertools"
   ]
  },
  {
   "cell_type": "code",
   "execution_count": 171,
   "id": "8351a548",
   "metadata": {},
   "outputs": [
    {
     "data": {
      "text/plain": [
       "[1, 2, 3, 4, 5, 6, 7, 8, 9, 10, 11, 12, 13, 14, 15, 16, 17, 18, 19, 20]"
      ]
     },
     "execution_count": 171,
     "metadata": {},
     "output_type": "execute_result"
    }
   ],
   "source": [
    "items = []\n",
    "for i in range(1,21):\n",
    "    items.append(i)\n",
    "items"
   ]
  },
  {
   "cell_type": "code",
   "execution_count": 172,
   "id": "1d176f9c",
   "metadata": {},
   "outputs": [],
   "source": [
    "def findsubsets(s, n):\n",
    "    return list(itertools.combinations(s, n))"
   ]
  },
  {
   "cell_type": "code",
   "execution_count": 173,
   "id": "bcdea917",
   "metadata": {},
   "outputs": [],
   "source": [
    "n=6\n",
    "subs=findsubsets(items,n)\n",
    "lcms=[]\n",
    "selected_itemsets_6=[]\n",
    "for i in range(38760):\n",
    "    kmm=math.lcm(subs[i][0],subs[i][1],subs[i][2],subs[i][3],subs[i][4],subs[i][5])\n",
    "    lcms.append(kmm)\n",
    "    if (100/kmm)>=5:\n",
    "        selected_itemsets_6.append((int(100/kmm),kmm,subs[i])) #(sup,lcm,itemset)"
   ]
  },
  {
   "cell_type": "code",
   "execution_count": 174,
   "id": "d77ada26",
   "metadata": {},
   "outputs": [
    {
     "data": {
      "text/plain": [
       "[(8, 12, (1, 2, 3, 4, 6, 12)),\n",
       " (5, 18, (1, 2, 3, 6, 9, 18)),\n",
       " (5, 20, (1, 2, 4, 5, 10, 20))]"
      ]
     },
     "execution_count": 174,
     "metadata": {},
     "output_type": "execute_result"
    }
   ],
   "source": [
    "selected_itemsets_6"
   ]
  },
  {
   "cell_type": "code",
   "execution_count": 175,
   "id": "f49012ee",
   "metadata": {},
   "outputs": [],
   "source": [
    "n=5\n",
    "subs=findsubsets(items,n)\n",
    "lcms=[]\n",
    "selected_itemsets_5=[]\n",
    "for i in range(15504):\n",
    "    kmm=math.lcm(subs[i][0],subs[i][1],subs[i][2],subs[i][3],subs[i][4])\n",
    "    lcms.append(kmm)\n",
    "    if (100/kmm)>=5:\n",
    "        selected_itemsets_5.append((int(100/kmm),kmm,subs[i])) #(sup,lcm,itemset)"
   ]
  },
  {
   "cell_type": "code",
   "execution_count": 176,
   "id": "a5ff3893",
   "metadata": {},
   "outputs": [
    {
     "data": {
      "text/plain": [
       "[(8, 12, (1, 2, 3, 4, 6)),\n",
       " (8, 12, (1, 2, 3, 4, 12)),\n",
       " (5, 18, (1, 2, 3, 6, 9)),\n",
       " (8, 12, (1, 2, 3, 6, 12)),\n",
       " (5, 18, (1, 2, 3, 6, 18)),\n",
       " (5, 18, (1, 2, 3, 9, 18)),\n",
       " (5, 20, (1, 2, 4, 5, 10)),\n",
       " (5, 20, (1, 2, 4, 5, 20)),\n",
       " (8, 12, (1, 2, 4, 6, 12)),\n",
       " (6, 16, (1, 2, 4, 8, 16)),\n",
       " (5, 20, (1, 2, 4, 10, 20)),\n",
       " (5, 20, (1, 2, 5, 10, 20)),\n",
       " (5, 18, (1, 2, 6, 9, 18)),\n",
       " (8, 12, (1, 3, 4, 6, 12)),\n",
       " (5, 18, (1, 3, 6, 9, 18)),\n",
       " (5, 20, (1, 4, 5, 10, 20)),\n",
       " (8, 12, (2, 3, 4, 6, 12)),\n",
       " (5, 18, (2, 3, 6, 9, 18)),\n",
       " (5, 20, (2, 4, 5, 10, 20))]"
      ]
     },
     "execution_count": 176,
     "metadata": {},
     "output_type": "execute_result"
    }
   ],
   "source": [
    "selected_itemsets_5"
   ]
  },
  {
   "cell_type": "code",
   "execution_count": 177,
   "id": "fd356788",
   "metadata": {},
   "outputs": [],
   "source": [
    "n=4\n",
    "subs=findsubsets(items,n)\n",
    "lcms=[]\n",
    "selected_itemsets_4=[]\n",
    "for i in range(4845):\n",
    "    kmm=math.lcm(subs[i][0],subs[i][1],subs[i][2],subs[i][3])\n",
    "    lcms.append(kmm)\n",
    "    if (100/kmm)>=5:\n",
    "        selected_itemsets_4.append((int(100/kmm),kmm,subs[i])) #(sup,lcm,itemset)"
   ]
  },
  {
   "cell_type": "code",
   "execution_count": 178,
   "id": "2b080e16",
   "metadata": {},
   "outputs": [
    {
     "data": {
      "text/plain": [
       "[(8, 12, (1, 2, 3, 4)),\n",
       " (16, 6, (1, 2, 3, 6)),\n",
       " (5, 18, (1, 2, 3, 9)),\n",
       " (8, 12, (1, 2, 3, 12)),\n",
       " (5, 18, (1, 2, 3, 18)),\n",
       " (5, 20, (1, 2, 4, 5)),\n",
       " (8, 12, (1, 2, 4, 6)),\n",
       " (12, 8, (1, 2, 4, 8)),\n",
       " (5, 20, (1, 2, 4, 10)),\n",
       " (8, 12, (1, 2, 4, 12)),\n",
       " (6, 16, (1, 2, 4, 16)),\n",
       " (5, 20, (1, 2, 4, 20)),\n",
       " (10, 10, (1, 2, 5, 10)),\n",
       " (5, 20, (1, 2, 5, 20)),\n",
       " (5, 18, (1, 2, 6, 9)),\n",
       " (8, 12, (1, 2, 6, 12)),\n",
       " (5, 18, (1, 2, 6, 18)),\n",
       " (7, 14, (1, 2, 7, 14)),\n",
       " (6, 16, (1, 2, 8, 16)),\n",
       " (5, 18, (1, 2, 9, 18)),\n",
       " (5, 20, (1, 2, 10, 20)),\n",
       " (8, 12, (1, 3, 4, 6)),\n",
       " (8, 12, (1, 3, 4, 12)),\n",
       " (6, 15, (1, 3, 5, 15)),\n",
       " (5, 18, (1, 3, 6, 9)),\n",
       " (8, 12, (1, 3, 6, 12)),\n",
       " (5, 18, (1, 3, 6, 18)),\n",
       " (5, 18, (1, 3, 9, 18)),\n",
       " (5, 20, (1, 4, 5, 10)),\n",
       " (5, 20, (1, 4, 5, 20)),\n",
       " (8, 12, (1, 4, 6, 12)),\n",
       " (6, 16, (1, 4, 8, 16)),\n",
       " (5, 20, (1, 4, 10, 20)),\n",
       " (5, 20, (1, 5, 10, 20)),\n",
       " (5, 18, (1, 6, 9, 18)),\n",
       " (8, 12, (2, 3, 4, 6)),\n",
       " (8, 12, (2, 3, 4, 12)),\n",
       " (5, 18, (2, 3, 6, 9)),\n",
       " (8, 12, (2, 3, 6, 12)),\n",
       " (5, 18, (2, 3, 6, 18)),\n",
       " (5, 18, (2, 3, 9, 18)),\n",
       " (5, 20, (2, 4, 5, 10)),\n",
       " (5, 20, (2, 4, 5, 20)),\n",
       " (8, 12, (2, 4, 6, 12)),\n",
       " (6, 16, (2, 4, 8, 16)),\n",
       " (5, 20, (2, 4, 10, 20)),\n",
       " (5, 20, (2, 5, 10, 20)),\n",
       " (5, 18, (2, 6, 9, 18)),\n",
       " (8, 12, (3, 4, 6, 12)),\n",
       " (5, 18, (3, 6, 9, 18)),\n",
       " (5, 20, (4, 5, 10, 20))]"
      ]
     },
     "execution_count": 178,
     "metadata": {},
     "output_type": "execute_result"
    }
   ],
   "source": [
    "selected_itemsets_4"
   ]
  },
  {
   "cell_type": "code",
   "execution_count": 179,
   "id": "ac15ff1e",
   "metadata": {},
   "outputs": [],
   "source": [
    "n=3\n",
    "subs=findsubsets(items,n)\n",
    "lcms=[]\n",
    "selected_itemsets_3=[]\n",
    "for i in range(1140):\n",
    "    kmm=math.lcm(subs[i][0],subs[i][1],subs[i][2])\n",
    "    lcms.append(kmm)\n",
    "    if (100/kmm)>=5:\n",
    "        selected_itemsets_3.append((int(100/kmm),kmm,subs[i])) #(sup,lcm,itemset)"
   ]
  },
  {
   "cell_type": "code",
   "execution_count": 180,
   "id": "c63df924",
   "metadata": {},
   "outputs": [
    {
     "data": {
      "text/plain": [
       "[(16, 6, (1, 2, 3)),\n",
       " (25, 4, (1, 2, 4)),\n",
       " (10, 10, (1, 2, 5)),\n",
       " (16, 6, (1, 2, 6)),\n",
       " (7, 14, (1, 2, 7)),\n",
       " (12, 8, (1, 2, 8)),\n",
       " (5, 18, (1, 2, 9)),\n",
       " (10, 10, (1, 2, 10)),\n",
       " (8, 12, (1, 2, 12)),\n",
       " (7, 14, (1, 2, 14)),\n",
       " (6, 16, (1, 2, 16)),\n",
       " (5, 18, (1, 2, 18)),\n",
       " (5, 20, (1, 2, 20)),\n",
       " (8, 12, (1, 3, 4)),\n",
       " (6, 15, (1, 3, 5)),\n",
       " (16, 6, (1, 3, 6)),\n",
       " (11, 9, (1, 3, 9)),\n",
       " (8, 12, (1, 3, 12)),\n",
       " (6, 15, (1, 3, 15)),\n",
       " (5, 18, (1, 3, 18)),\n",
       " (5, 20, (1, 4, 5)),\n",
       " (8, 12, (1, 4, 6)),\n",
       " (12, 8, (1, 4, 8)),\n",
       " (5, 20, (1, 4, 10)),\n",
       " (8, 12, (1, 4, 12)),\n",
       " (6, 16, (1, 4, 16)),\n",
       " (5, 20, (1, 4, 20)),\n",
       " (10, 10, (1, 5, 10)),\n",
       " (6, 15, (1, 5, 15)),\n",
       " (5, 20, (1, 5, 20)),\n",
       " (5, 18, (1, 6, 9)),\n",
       " (8, 12, (1, 6, 12)),\n",
       " (5, 18, (1, 6, 18)),\n",
       " (7, 14, (1, 7, 14)),\n",
       " (6, 16, (1, 8, 16)),\n",
       " (5, 18, (1, 9, 18)),\n",
       " (5, 20, (1, 10, 20)),\n",
       " (8, 12, (2, 3, 4)),\n",
       " (16, 6, (2, 3, 6)),\n",
       " (5, 18, (2, 3, 9)),\n",
       " (8, 12, (2, 3, 12)),\n",
       " (5, 18, (2, 3, 18)),\n",
       " (5, 20, (2, 4, 5)),\n",
       " (8, 12, (2, 4, 6)),\n",
       " (12, 8, (2, 4, 8)),\n",
       " (5, 20, (2, 4, 10)),\n",
       " (8, 12, (2, 4, 12)),\n",
       " (6, 16, (2, 4, 16)),\n",
       " (5, 20, (2, 4, 20)),\n",
       " (10, 10, (2, 5, 10)),\n",
       " (5, 20, (2, 5, 20)),\n",
       " (5, 18, (2, 6, 9)),\n",
       " (8, 12, (2, 6, 12)),\n",
       " (5, 18, (2, 6, 18)),\n",
       " (7, 14, (2, 7, 14)),\n",
       " (6, 16, (2, 8, 16)),\n",
       " (5, 18, (2, 9, 18)),\n",
       " (5, 20, (2, 10, 20)),\n",
       " (8, 12, (3, 4, 6)),\n",
       " (8, 12, (3, 4, 12)),\n",
       " (6, 15, (3, 5, 15)),\n",
       " (5, 18, (3, 6, 9)),\n",
       " (8, 12, (3, 6, 12)),\n",
       " (5, 18, (3, 6, 18)),\n",
       " (5, 18, (3, 9, 18)),\n",
       " (5, 20, (4, 5, 10)),\n",
       " (5, 20, (4, 5, 20)),\n",
       " (8, 12, (4, 6, 12)),\n",
       " (6, 16, (4, 8, 16)),\n",
       " (5, 20, (4, 10, 20)),\n",
       " (5, 20, (5, 10, 20)),\n",
       " (5, 18, (6, 9, 18))]"
      ]
     },
     "execution_count": 180,
     "metadata": {},
     "output_type": "execute_result"
    }
   ],
   "source": [
    "selected_itemsets_3"
   ]
  },
  {
   "cell_type": "code",
   "execution_count": 181,
   "id": "7e0fdd38",
   "metadata": {},
   "outputs": [],
   "source": [
    "n=2\n",
    "subs=findsubsets(items,n)\n",
    "lcms=[]\n",
    "selected_itemsets_2=[]\n",
    "for i in range(190):\n",
    "    kmm=math.lcm(subs[i][0],subs[i][1])\n",
    "    lcms.append(kmm)\n",
    "    if (100/kmm)>=5:\n",
    "        selected_itemsets_2.append((int(100/kmm),kmm,subs[i])) #(sup,lcm,itemset)"
   ]
  },
  {
   "cell_type": "code",
   "execution_count": 182,
   "id": "502765c4",
   "metadata": {},
   "outputs": [
    {
     "data": {
      "text/plain": [
       "[(50, 2, (1, 2)),\n",
       " (33, 3, (1, 3)),\n",
       " (25, 4, (1, 4)),\n",
       " (20, 5, (1, 5)),\n",
       " (16, 6, (1, 6)),\n",
       " (14, 7, (1, 7)),\n",
       " (12, 8, (1, 8)),\n",
       " (11, 9, (1, 9)),\n",
       " (10, 10, (1, 10)),\n",
       " (9, 11, (1, 11)),\n",
       " (8, 12, (1, 12)),\n",
       " (7, 13, (1, 13)),\n",
       " (7, 14, (1, 14)),\n",
       " (6, 15, (1, 15)),\n",
       " (6, 16, (1, 16)),\n",
       " (5, 17, (1, 17)),\n",
       " (5, 18, (1, 18)),\n",
       " (5, 19, (1, 19)),\n",
       " (5, 20, (1, 20)),\n",
       " (16, 6, (2, 3)),\n",
       " (25, 4, (2, 4)),\n",
       " (10, 10, (2, 5)),\n",
       " (16, 6, (2, 6)),\n",
       " (7, 14, (2, 7)),\n",
       " (12, 8, (2, 8)),\n",
       " (5, 18, (2, 9)),\n",
       " (10, 10, (2, 10)),\n",
       " (8, 12, (2, 12)),\n",
       " (7, 14, (2, 14)),\n",
       " (6, 16, (2, 16)),\n",
       " (5, 18, (2, 18)),\n",
       " (5, 20, (2, 20)),\n",
       " (8, 12, (3, 4)),\n",
       " (6, 15, (3, 5)),\n",
       " (16, 6, (3, 6)),\n",
       " (11, 9, (3, 9)),\n",
       " (8, 12, (3, 12)),\n",
       " (6, 15, (3, 15)),\n",
       " (5, 18, (3, 18)),\n",
       " (5, 20, (4, 5)),\n",
       " (8, 12, (4, 6)),\n",
       " (12, 8, (4, 8)),\n",
       " (5, 20, (4, 10)),\n",
       " (8, 12, (4, 12)),\n",
       " (6, 16, (4, 16)),\n",
       " (5, 20, (4, 20)),\n",
       " (10, 10, (5, 10)),\n",
       " (6, 15, (5, 15)),\n",
       " (5, 20, (5, 20)),\n",
       " (5, 18, (6, 9)),\n",
       " (8, 12, (6, 12)),\n",
       " (5, 18, (6, 18)),\n",
       " (7, 14, (7, 14)),\n",
       " (6, 16, (8, 16)),\n",
       " (5, 18, (9, 18)),\n",
       " (5, 20, (10, 20))]"
      ]
     },
     "execution_count": 182,
     "metadata": {},
     "output_type": "execute_result"
    }
   ],
   "source": [
    "selected_itemsets_2"
   ]
  },
  {
   "cell_type": "code",
   "execution_count": 183,
   "id": "81c20183",
   "metadata": {},
   "outputs": [],
   "source": [
    "maximal_6 = selected_itemsets_6.copy()"
   ]
  },
  {
   "cell_type": "code",
   "execution_count": 184,
   "id": "bdd79afa",
   "metadata": {},
   "outputs": [
    {
     "data": {
      "text/plain": [
       "[(8, 12, (1, 2, 3, 4, 6, 12)),\n",
       " (5, 18, (1, 2, 3, 6, 9, 18)),\n",
       " (5, 20, (1, 2, 4, 5, 10, 20))]"
      ]
     },
     "execution_count": 184,
     "metadata": {},
     "output_type": "execute_result"
    }
   ],
   "source": [
    "maximal_6"
   ]
  },
  {
   "cell_type": "code",
   "execution_count": 185,
   "id": "000c021d",
   "metadata": {},
   "outputs": [],
   "source": [
    "maximal_5=[]\n",
    "flag=0\n",
    "for j in range(len(selected_itemsets_5)):\n",
    "    flag=0\n",
    "    for i in range(len(maximal_6)):\n",
    "        if  set(selected_itemsets_5[j][2]).issubset(set(maximal_6[i][2])):\n",
    "            flag=1\n",
    "    \n",
    "    if flag==0:\n",
    "        maximal_5.append(selected_itemsets_5[j])"
   ]
  },
  {
   "cell_type": "code",
   "execution_count": 186,
   "id": "cbb1ddea",
   "metadata": {},
   "outputs": [
    {
     "data": {
      "text/plain": [
       "[(6, 16, (1, 2, 4, 8, 16))]"
      ]
     },
     "execution_count": 186,
     "metadata": {},
     "output_type": "execute_result"
    }
   ],
   "source": [
    "maximal_5"
   ]
  },
  {
   "cell_type": "code",
   "execution_count": 187,
   "id": "5999d465",
   "metadata": {},
   "outputs": [],
   "source": [
    "maximal_4=[]\n",
    "flag=0\n",
    "for j in range(len(selected_itemsets_4)):\n",
    "    flag=0\n",
    "    for i in range(len(maximal_5)):\n",
    "        if  set(selected_itemsets_4[j][2]).issubset(set(maximal_5[i][2])):\n",
    "            flag=1\n",
    "    \n",
    "    for i in range(len(maximal_6)):\n",
    "        if  set(selected_itemsets_4[j][2]).issubset(set(maximal_6[i][2])):\n",
    "            flag=1\n",
    "    \n",
    "    \n",
    "    \n",
    "    if flag==0:\n",
    "        maximal_4.append(selected_itemsets_4[j])"
   ]
  },
  {
   "cell_type": "code",
   "execution_count": 188,
   "id": "105ce97d",
   "metadata": {},
   "outputs": [
    {
     "data": {
      "text/plain": [
       "[(7, 14, (1, 2, 7, 14)), (6, 15, (1, 3, 5, 15))]"
      ]
     },
     "execution_count": 188,
     "metadata": {},
     "output_type": "execute_result"
    }
   ],
   "source": [
    "maximal_4"
   ]
  },
  {
   "cell_type": "code",
   "execution_count": 189,
   "id": "fc13852a",
   "metadata": {},
   "outputs": [],
   "source": [
    "maximal_3=[]\n",
    "flag=0\n",
    "for j in range(len(selected_itemsets_3)):\n",
    "    flag=0\n",
    "    for i in range(len(maximal_6)):\n",
    "        if  set(selected_itemsets_3[j][2]).issubset(set(maximal_6[i][2])):\n",
    "            flag=1\n",
    "    \n",
    "    for i in range(len(maximal_5)):\n",
    "        if  set(selected_itemsets_3[j][2]).issubset(set(maximal_5[i][2])):\n",
    "            flag=1\n",
    "    \n",
    "    for i in range(len(maximal_4)):\n",
    "        if  set(selected_itemsets_3[j][2]).issubset(set(maximal_4[i][2])):\n",
    "            flag=1\n",
    "    \n",
    "    if flag==0:\n",
    "        maximal_3.append(selected_itemsets_3[j])"
   ]
  },
  {
   "cell_type": "code",
   "execution_count": 190,
   "id": "fc269b78",
   "metadata": {},
   "outputs": [
    {
     "data": {
      "text/plain": [
       "[]"
      ]
     },
     "execution_count": 190,
     "metadata": {},
     "output_type": "execute_result"
    }
   ],
   "source": [
    "maximal_3"
   ]
  },
  {
   "cell_type": "code",
   "execution_count": 191,
   "id": "8c1d96ae",
   "metadata": {},
   "outputs": [],
   "source": [
    "maximal_2=[]\n",
    "flag=0\n",
    "for j in range(len(selected_itemsets_2)):\n",
    "    flag=0\n",
    "    for i in range(len(maximal_6)):\n",
    "        if  set(selected_itemsets_2[j][2]).issubset(set(maximal_6[i][2])):\n",
    "            flag=1\n",
    "    \n",
    "    for i in range(len(maximal_5)):\n",
    "        if  set(selected_itemsets_2[j][2]).issubset(set(maximal_5[i][2])):\n",
    "            flag=1\n",
    "    \n",
    "    for i in range(len(maximal_4)):\n",
    "        if  set(selected_itemsets_2[j][2]).issubset(set(maximal_4[i][2])):\n",
    "            flag=1\n",
    "    \n",
    "    if flag==0:\n",
    "        maximal_2.append(selected_itemsets_2[j])"
   ]
  },
  {
   "cell_type": "code",
   "execution_count": 192,
   "id": "8509a282",
   "metadata": {},
   "outputs": [
    {
     "data": {
      "text/plain": [
       "[(9, 11, (1, 11)), (7, 13, (1, 13)), (5, 17, (1, 17)), (5, 19, (1, 19))]"
      ]
     },
     "execution_count": 192,
     "metadata": {},
     "output_type": "execute_result"
    }
   ],
   "source": [
    "maximal_2"
   ]
  },
  {
   "cell_type": "code",
   "execution_count": 193,
   "id": "96888465",
   "metadata": {},
   "outputs": [
    {
     "name": "stdout",
     "output_type": "stream",
     "text": [
      "[(8, 12, (1, 2, 3, 4, 6, 12)), (5, 18, (1, 2, 3, 6, 9, 18)), (5, 20, (1, 2, 4, 5, 10, 20))]\n",
      "[(6, 16, (1, 2, 4, 8, 16))]\n",
      "[(7, 14, (1, 2, 7, 14)), (6, 15, (1, 3, 5, 15))]\n",
      "[]\n",
      "[(9, 11, (1, 11)), (7, 13, (1, 13)), (5, 17, (1, 17)), (5, 19, (1, 19))]\n",
      "-----------------------------------------------------------------------\n",
      "number of Maximal frequent itemset: 10\n"
     ]
    }
   ],
   "source": [
    "# (sup,lcm,itemset)\n",
    "print(maximal_6)\n",
    "print(maximal_5)\n",
    "print(maximal_4)\n",
    "print(maximal_3)\n",
    "print(maximal_2)\n",
    "print('-----------------------------------------------------------------------')\n",
    "print( 'number of Maximal frequent itemset:',len(maximal_6)+len(maximal_5)+len(maximal_4)+len(maximal_3)+len(maximal_2))"
   ]
  }
 ],
 "metadata": {
  "kernelspec": {
   "display_name": "Python 3 (ipykernel)",
   "language": "python",
   "name": "python3"
  },
  "language_info": {
   "codemirror_mode": {
    "name": "ipython",
    "version": 3
   },
   "file_extension": ".py",
   "mimetype": "text/x-python",
   "name": "python",
   "nbconvert_exporter": "python",
   "pygments_lexer": "ipython3",
   "version": "3.10.6"
  }
 },
 "nbformat": 4,
 "nbformat_minor": 5
}
